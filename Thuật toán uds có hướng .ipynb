{
 "cells": [
  {
   "cell_type": "code",
   "execution_count": 1,
   "id": "73822edb",
   "metadata": {
    "scrolled": true
   },
   "outputs": [
    {
     "name": "stdout",
     "output_type": "stream",
     "text": [
      "Number of nodes: 1005\n",
      "Number of edges: 25571\n"
     ]
    }
   ],
   "source": [
    "import networkx as nx\n",
    "import random\n",
    "import heapq\n",
    "import matplotlib.pyplot as plt\n",
    "import numpy as np\n",
    "import time\n",
    "from tqdm import tqdm\n",
    "import pandas as pd\n",
    "\n",
    "\n",
    "# Đọc đồ thị từ file và gán xác suất ngẫu nhiên cho các cạnh\n",
    "random.seed(6)\n",
    "G = nx.DiGraph()\n",
    "\n",
    "with open('email-Eu-core.txt/email-Eu-core.txt', 'r') as file:\n",
    "    for line in file:\n",
    "        if line.startswith('#'):\n",
    "            continue\n",
    "        source, target = map(int, line.split())\n",
    "        probability = random.random()  # Xác suất ngẫu nhiên giữa 0 và 1\n",
    "        weight = random.random()\n",
    "        G.add_edge(source, target, probability=probability, weight=weight)\n",
    "\n",
    "print(\"Number of nodes:\", G.number_of_nodes())\n",
    "print(\"Number of edges:\", G.number_of_edges())\n",
    "\n",
    "# Xác định các tập S và T từ các cạnh của đồ thị\n",
    "S = set()\n",
    "T = set()\n",
    "for u, v in G.edges():\n",
    "    S.add(u)\n",
    "    T.add(v)\n",
    "\n",
    "# print(\"Set S:\", S)\n",
    "# print(\"Set T:\", T)\n",
    "\n",
    "# Hàm tính bậc mong đợi\n",
    "def expected_degree_out(G, v):\n",
    "    return sum(G[v][w]['weight'] *G[v][w]['probability'] for w in G.successors(v) if w in G)\n",
    "\n",
    "def expected_degree_in(G, v):\n",
    "    return sum(G[u][v]['weight'] *G[u][v]['probability'] for u in G.predecessors(v) if u in G)\n",
    "\n",
    "# Hàm tính mật độ mong đợi\n",
    "def expected_density_v3(G, S, T):\n",
    "    if G.number_of_edges() == 0:\n",
    "        return 0\n",
    "    probability_sum = sum(G[u][v]['weight'] * G[u][v]['probability'] for u, v in G.edges() if u in S and v in T)\n",
    "    return probability_sum / (len(S) * len(T))**0.5\n",
    "\n",
    "# Hàm vẽ đồ thị\n",
    "def plot_graph(G):\n",
    "    pos = nx.spring_layout(G)  # Tạo bố cục cho đồ thị\n",
    "    edge_labels = nx.get_edge_attributes(G, 'probability')  # Lấy thuộc tính xác suất của các cạnh\n",
    "\n",
    "    # Vẽ đồ thị\n",
    "    nx.draw(G, pos, with_labels=True, node_color='lightblue', edge_color='red', node_size=500, font_size=8, font_weight='bold')\n",
    "    nx.draw_networkx_edge_labels(G, pos, edge_labels=edge_labels)  # Hiển thị nhãn của các cạnh\n",
    "\n",
    "    plt.title('Uncertain Graph Visualization')\n",
    "    plt.show()\n",
    "\n",
    "    \n",
    "\n",
    "# Hàm tính xác suất trung bình của các cạnh trong đồ thị\n",
    "def average_edge_probability(G):\n",
    "    total_probability = sum(nx.get_edge_attributes(G, 'probability').values())\n",
    "    num_edges = G.number_of_edges()\n",
    "    return total_probability / num_edges if num_edges > 0 else 0\n",
    "\n",
    "# Hàm tính mật độ cạnh kỳ vọng của đồ thị\n",
    "def calculate_edge_density(G):\n",
    "    num_vertices = len(G.nodes())\n",
    "    num_possible_edges = num_vertices * (num_vertices - 1) if num_vertices > 1 else 1\n",
    "    sum_probabilities = sum(G[u][v]['probability'] for u, v in G.edges())\n",
    "    return sum_probabilities / num_possible_edges\n"
   ]
  },
  {
   "cell_type": "code",
   "execution_count": 2,
   "id": "834da6f0",
   "metadata": {},
   "outputs": [
    {
     "name": "stderr",
     "output_type": "stream",
     "text": [
      "Processing:  54%|██████████████████████████████████▌                             | 1004/1859 [01:55<01:38,  8.67node/s]\n"
     ]
    }
   ],
   "source": [
    "def greedy_approximation(G, S, T, c):\n",
    "    H = G.copy()\n",
    "    best_graph = H.copy()\n",
    "    S_temp = S.copy()\n",
    "    T_temp = T.copy()\n",
    "    highest_density = expected_density_v3(H, S_temp, T_temp)\n",
    "    \n",
    "    num_iterations = len(S_temp) + len(T_temp)  # Tổng số đỉnh ban đầu trong cả hai tập\n",
    "    with tqdm(total=num_iterations, desc=\"Processing\", unit=\"node\") as pbar:\n",
    "        while S_temp and T_temp:\n",
    "            i_min = min(S_temp, key=lambda i: expected_degree_out(H, i))\n",
    "            d_S = expected_degree_out(H, i_min)\n",
    "\n",
    "            j_min = min(T_temp, key=lambda j: expected_degree_in(H, j))\n",
    "            d_T = expected_degree_in(H, j_min)\n",
    "            \n",
    "            if (len(S_temp) > 0 and len(T_temp) > 0) and (c * d_S <= d_T / c):\n",
    "                S_temp.remove(i_min)\n",
    "                H.remove_node(i_min)\n",
    "            else:\n",
    "                T_temp.remove(j_min)\n",
    "                H.remove_node(j_min)\n",
    "            \n",
    "            current_density = expected_density_v3(H, S_temp, T_temp)\n",
    "            \n",
    "            S_temp = {u for u in S_temp if u in H}\n",
    "            T_temp = {v for v in T_temp if v in H}\n",
    "            \n",
    "            if current_density > highest_density:\n",
    "                highest_density = current_density\n",
    "                best_graph = H.copy()  # Lưu bản sao của H với mật độ cao nhất\n",
    "\n",
    "            if not S_temp or not T_temp:\n",
    "                break\n",
    "            \n",
    "            pbar.update(1)  # Cập nhật tiến trình mỗi khi một đỉnh được loại bỏ\n",
    "    \n",
    "    return best_graph\n",
    "\n",
    "# Thực hiện thuật toán\n",
    "c = len(S) / len(T)\n",
    "uds_wiki_vote = greedy_approximation(G, S, T, c)\n",
    "S_result = set(uds_wiki_vote.nodes())\n",
    "\n",
    "# # Lấy các giá trị xác suất từ các cạnh\n",
    "# probabilities = [G[u][v]['probability'] for u, v in G.edges()]\n",
    "# weights = [G[u][v]['weight'] for u, v in G.edges()]\n",
    "# # Tính giá trị trung bình\n",
    "# mean_probability = np.mean(probabilities)\n",
    "# mean_weight = np.mean(weights)\n",
    "\n",
    "\n",
    "# # Tính độ lệch chuẩn\n",
    "# std_deviation = np.std(probabilities)\n",
    "\n",
    "    \n",
    "# print(\"Giá trị cạnh trung bình của đồ thị protein579138:\", mean_probability)\n",
    "# print(\"Độ lệch chuẩn của của  đồ thị protein579138:\", std_deviation)\n",
    "# print(\"Trọng số cạnh trung bình của đồ thị là:\",mean_weight)\n",
    "# print(\"Mật độ cạnh kì vọng :\",calculate_edge_density(G))\n",
    "# print(\"Mật độ kì vọng:\",expected_density_v3(G))"
   ]
  },
  {
   "cell_type": "code",
   "execution_count": 3,
   "id": "d8edf82b",
   "metadata": {},
   "outputs": [
    {
     "name": "stdout",
     "output_type": "stream",
     "text": [
      "Mật độ cạnh kì vọng của đồ thị con được tạo ra bởi thuật toán uds là: 0.13707909777792984\n",
      "Xác xuất cạnh trung bình của đồ thị con được tạo ra bởi thuật toán uds là: 0.504260449654959\n",
      "Độ lệch chuẩn của đồ thị con được tạo ra bởi thuật toán uds là: 0.2890034563099639\n",
      "Trọng số cạnh trung bình của thuật toán obs là: 0.5046069808358208\n",
      "số đỉnh của uds_wiki_vote: 167\n",
      "Số cạnh của uds_wiki_vote: 7536\n"
     ]
    }
   ],
   "source": [
    "# Lấy các giá trị xác suất từ các cạnh\n",
    "probabilities = [uds_wiki_vote[u][v]['probability'] for u, v in uds_wiki_vote.edges()]\n",
    "weights = [uds_wiki_vote[u][v]['weight'] for u, v in uds_wiki_vote.edges()]\n",
    "\n",
    "# Tính giá trị trung bình\n",
    "mean_probability = np.mean(probabilities)\n",
    "mean_weight = np.mean(weights)\n",
    "\n",
    "\n",
    "# Tính độ lệch chuẩn\n",
    "std_deviation = np.std(probabilities)\n",
    "print(\"Mật độ cạnh kì vọng của đồ thị con được tạo ra bởi thuật toán uds là:\",calculate_edge_density(uds_wiki_vote))\n",
    "print(\"Xác xuất cạnh trung bình của đồ thị con được tạo ra bởi thuật toán uds là:\",average_edge_probability(uds_wiki_vote))\n",
    "print(\"Độ lệch chuẩn của đồ thị con được tạo ra bởi thuật toán uds là:\", std_deviation)\n",
    "print(\"Trọng số cạnh trung bình của thuật toán obs là:\",mean_weight)\n",
    "print(\"số đỉnh của uds_wiki_vote:\", len(uds_wiki_vote.nodes))\n",
    "print(\"Số cạnh của uds_wiki_vote:\", len(uds_wiki_vote.edges))"
   ]
  },
  {
   "cell_type": "markdown",
   "id": "3a664bcc",
   "metadata": {},
   "source": [
    "# Xem các chỉ số cơ bản của đồ thị ban đầu "
   ]
  },
  {
   "cell_type": "code",
   "execution_count": null,
   "id": "73f2dd42",
   "metadata": {},
   "outputs": [],
   "source": [
    "\n",
    "# Lấy các giá trị xác suất từ các cạnh\n",
    "probabilities = [G[u][v]['probability'] for u, v in G.edges()]\n",
    "weights = [G[u][v]['weight'] for u, v in G.edges()]\n",
    "# Tính giá trị trung bình\n",
    "mean_probability = np.mean(probabilities)\n",
    "mean_weight = np.mean(weights)\n",
    "\n",
    "\n",
    "# Tính độ lệch chuẩn\n",
    "std_deviation = np.std(probabilities)\n",
    "\n",
    "    \n",
    "print(\"Giá trị cạnh trung bình của đồ thị protein579138:\", mean_probability)\n",
    "print(\"Độ lệch chuẩn của của  đồ thị protein579138:\", std_deviation)\n",
    "print(\"Trọng số cạnh trung bình của đồ thị là:\",mean_weight)\n",
    "print(\"Mật độ cạnh kì vọng :\",calculate_edge_density(G))\n",
    "\n",
    "\n",
    "\n"
   ]
  },
  {
   "cell_type": "code",
   "execution_count": 8,
   "id": "38446c13",
   "metadata": {},
   "outputs": [],
   "source": [
    "def plot_graph(G):\n",
    "    pos = nx.spring_layout(G)  # Tạo bố cục cho đồ thị\n",
    "    edge_labels = nx.get_edge_attributes(G, 'probability')  # Lấy thuộc tính xác suất của các cạnh\n",
    "\n",
    "    # Vẽ đồ thị\n",
    "    nx.draw(G, pos, with_labels=True, node_color='lightblue', edge_color='red', node_size=500, font_size=8, font_weight='bold')\n",
    "    nx.draw_networkx_edge_labels(G, pos, edge_labels=edge_labels)  # Hiển thị nhãn của các cạnh\n",
    "\n",
    "    plt.title('Uncertain Graph Visualization')\n",
    "    plt.show()\n",
    "    \n",
    "def plot_graph_v2(G):\n",
    "    pos = nx.spring_layout(G)  # Tạo bố cục cho đồ thị\n",
    "\n",
    "    # Lấy thuộc tính xác suất và trọng số của các cạnh\n",
    "    edge_probabilities = nx.get_edge_attributes(G, 'probability')\n",
    "    edge_weights = nx.get_edge_attributes(G, 'weight')\n",
    "\n",
    "    # Kết hợp xác suất và trọng số vào nhãn cạnh\n",
    "    edge_labels = {edge: f\"{edge_weights[edge]:.2f}, {edge_probabilities[edge]:.2f}\" for edge in G.edges()}\n",
    "\n",
    "    # Vẽ đồ thị\n",
    "    nx.draw(G, pos, with_labels=True, node_color='lightblue', edge_color='red', node_size=200, font_size=8, font_weight='bold')\n",
    "    nx.draw_networkx_edge_labels(G, pos, edge_labels=edge_labels, font_size=7)  # Hiển thị nhãn của các cạnh\n",
    "\n",
    "    plt.title('Uncertain Weighted Directed Graph Visualization')\n",
    "    plt.show()\n",
    "def average_edge_probability(G):\n",
    "    \"\"\" Tính xác suất trung bình của các cạnh trong đồ thị G. \"\"\"\n",
    "    total_probability = sum(nx.get_edge_attributes(G, 'probability').values())\n",
    "    num_edges = G.number_of_edges()\n",
    "    return total_probability / num_edges if num_edges > 0 else 0\n",
    "def calculate_edge_density(G):\n",
    "    \"\"\" Tính mật độ cạnh kỳ vọng của đồ thị G. τ \"\"\"\n",
    "    num_vertices = len(G.nodes())\n",
    "    num_possible_edges = num_vertices * (num_vertices - 1)  if num_vertices > 1 else 1\n",
    "    sum_probabilities = sum(G[u][v]['probability'] for u, v in G.edges())\n",
    "    return sum_probabilities / num_possible_edges\n",
    "\n",
    "def average_edge_probability(G):\n",
    "    \"\"\" Tính xác suất trung bình của các cạnh trong đồ thị G. \"\"\"\n",
    "    total_probability = sum(nx.get_edge_attributes(G, 'probability').values())\n",
    "    num_edges = G.number_of_edges()\n",
    "    return total_probability / num_edges if num_edges > 0 else 0\n",
    "\n",
    "def calculate_edge_density_v2(G):\n",
    "    \"\"\"Tính mật độ cạnh kỳ vọng của đồ thị G. τ\"\"\"\n",
    "    num_vertices = len(G.nodes())\n",
    "    num_possible_edges = num_vertices * (num_vertices - 1) if num_vertices > 1 else 1\n",
    "    sum_weighted_probabilities = sum(G[u][v]['weight'] * G[u][v]['probability'] for u, v in G.edges())\n",
    "    return sum_weighted_probabilities / num_possible_edges\n",
    "def expected_degree(G, v):\n",
    "    return sum(G[u][v]['probability'] for u in G.predecessors(v) if u in G) + sum(G[v][w]['probability'] for w in G.successors(v) if w in G)\n",
    "\n",
    "def expected_degree_v2(G, v):\n",
    "    \"\"\"Tính bậc kỳ vọng của một đỉnh v trong đồ thị G.\"\"\"\n",
    "    in_degree = sum(G[u][v]['weight'] * G[u][v]['probability'] for u in G.predecessors(v) if u in G)\n",
    "    out_degree = sum(G[v][w]['weight'] * G[v][w]['probability'] for w in G.successors(v) if w in G)\n",
    "    return in_degree + out_degree\n",
    "\n",
    "# def expected_degree_out(G,v):\n",
    "#     out_degree = sum(G[v][w]['weight'] * G[v][w]['probability'] for w in G.successors(v) if w in G)\n",
    "# def expected_degree_in(G,v):\n",
    "#     in_degree = sum(G[u][v]['weight'] * G[u][v]['probability'] for u in G.predecessors(v) if u in G)\n",
    "\n",
    "\n",
    "def expected_degree_out(G,v):\n",
    "    out_degree = sum(G[v][w]['probability'] for w in G.successors(v) if w in G)\n",
    "def expected_degree_in(G,v):\n",
    "    in_degree = sum(G[u][v]['probability'] for u in G.predecessors(v) if u in G)\n",
    "\n",
    "\n",
    "def expected_density(G):\n",
    "    if G.number_of_edges() == 0:\n",
    "        return 0\n",
    "    probability_sum = sum(G[u][v]['probability'] for u, v in G.edges())\n",
    "    num_vertices = len(G.nodes())\n",
    "    return probability_sum / num_vertices if num_vertices > 0 else 0\n",
    "\n",
    "def expected_density_v3(G):\n",
    "    if G.number_of_edges() == 0:\n",
    "        return 0\n",
    "    probability_sum = sum(G[u][v]['probability'] for u, v in G.edges())\n",
    "    return probability_sum / (len(S) * len(T))**0.5 \n",
    "\n",
    "def expected_density_v2(G):\n",
    "    if G.number_of_edges() == 0:\n",
    "        return 0\n",
    "    # Tính tổng trọng số kỳ vọng của các cạnh\n",
    "    weighted_probability_sum = sum(G[u][v]['weight'] * G[u][v]['probability'] for u, v in G.edges())\n",
    "    num_vertices = len(G.nodes())\n",
    "    return weighted_probability_sum / num_vertices if num_vertices > 0 else 0\n",
    "\n",
    "\n",
    "def greedy_uds(G):\n",
    "    \"\"\" Thuật toán GreedyUDS để tìm đồ thị con với mật độ kỳ vọng cao nhất \"\"\"\n",
    "    start_time = time.time()  # Ghi lại thời gian bắt đầu\n",
    "\n",
    "    H = G.copy()\n",
    "    best_graph = H.copy()\n",
    "#     highest_density = expected_density_v2(H)\n",
    "    highest_density = expected_density(H)\n",
    "    \n",
    "    # Tạo hàng đợi ưu tiên\n",
    "    degree_cache = {v: expected_degree_v2(H, v) for v in H.nodes()}\n",
    "    priority_queue = [(degree, v) for v, degree in degree_cache.items()]\n",
    "    heapq.heapify(priority_queue)\n",
    "    \n",
    "    num_iterations = len(H.nodes()) - 2  # Số lần lặp\n",
    "    iteration_start_time = time.time()  # Thời gian bắt đầu của vòng lặp\n",
    "    \n",
    "    with tqdm(total=num_iterations, desc=\"Processing\", unit=\"node\") as pbar:\n",
    "        while len(H.nodes()) > 2:\n",
    "            # Tìm đỉnh có bậc kỳ vọng thấp nhất\n",
    "            while True:\n",
    "                min_degree_vertex = heapq.heappop(priority_queue)[1]\n",
    "                if min_degree_vertex in H:\n",
    "                    break\n",
    "            \n",
    "            # Loại bỏ đỉnh có bậc kỳ vọng thấp nhất\n",
    "            H.remove_node(min_degree_vertex)\n",
    "            degree_cache.pop(min_degree_vertex, None)\n",
    "            \n",
    "            # Cập nhật bậc kỳ vọng của các đỉnh liền kề\n",
    "            for u in list(G.predecessors(min_degree_vertex)):\n",
    "                if u in H:\n",
    "                    degree_cache[u] = expected_degree_v2(H, u)\n",
    "                    heapq.heappush(priority_queue, (degree_cache[u], u))\n",
    "            for w in list(G.successors(min_degree_vertex)):\n",
    "                if w in H:\n",
    "                    degree_cache[w] = expected_degree_v2(H, w)\n",
    "                    heapq.heappush(priority_queue, (degree_cache[w], w))\n",
    "            \n",
    "            # Tính mật độ kỳ vọng hiện tại của H\n",
    "#             current_density = expected_density_v2(H)\n",
    "            current_density = expected_density(H)\n",
    "            if current_density > highest_density:\n",
    "                highest_density = current_density\n",
    "                best_graph = H.copy()  # Lưu bản sao của H với mật độ cao nhất\n",
    "            \n",
    "            pbar.update(1)  # Cập nhật thanh tiến trình\n",
    "    \n",
    "    iteration_end_time = time.time()  # Thời gian kết thúc của vòng lặp\n",
    "    end_time = time.time()  # Thời gian kết thúc tổng thể\n",
    "    \n",
    "    print(f\"Thời gian tổng thể: {end_time - start_time:.4f} giây\")\n",
    "    print(f\"Thời gian vòng lặp: {iteration_end_time - iteration_start_time:.4f} giây\")\n",
    "    \n",
    "    return best_graph if best_graph is not None else H\n",
    "\n",
    "def greedy_approximation(G, S, T, c):\n",
    "    H = G.copy()\n",
    "    best_graph = H.copy()\n",
    "    S_temp = S\n",
    "    T_temp = T\n",
    "    highest_density = expected_density_v3(H)\n",
    "    while S_temp and T_temp:\n",
    "        i_min = min(S_temp, key=lambda i: expected_degree_out(H, i))\n",
    "        d_S = expected_degree_out(H, i_min)\n",
    "        \n",
    "        j_min = min(T_temp, key=lambda j: expected_degree_in(H, j))\n",
    "        d_T = expected_degree_in(H, j_min)\n",
    "        \n",
    "        if (len(S_temp) > 0 and len(T_temp) > 0) and (c * d_S <= d_T / c):\n",
    "            S_temp.remove(i_min)\n",
    "            H.remove_node(i_min)\n",
    "        else:\n",
    "            T_temp.remove(j_min)\n",
    "            H.remove_node(j_min)\n",
    "        \n",
    "        current_density = expected_density_v3(H)\n",
    "        \n",
    "        if current_density > highest_density:\n",
    "            highest_density = current_density\n",
    "            best_graph = H.copy()  # Lưu bản sao của H với mật độ cao nhất\n",
    "\n",
    "        if not S_tempS or not T_temp:\n",
    "            break\n",
    "    \n",
    "    return best_graph\n",
    "\n"
   ]
  },
  {
   "cell_type": "code",
   "execution_count": 9,
   "id": "5b87e637",
   "metadata": {},
   "outputs": [
    {
     "ename": "TypeError",
     "evalue": "'<' not supported between instances of 'NoneType' and 'NoneType'",
     "output_type": "error",
     "traceback": [
      "\u001b[1;31m---------------------------------------------------------------------------\u001b[0m",
      "\u001b[1;31mTypeError\u001b[0m                                 Traceback (most recent call last)",
      "\u001b[1;32m~\\AppData\\Local\\Temp\\ipykernel_30804\\2582970518.py\u001b[0m in \u001b[0;36m<module>\u001b[1;34m\u001b[0m\n\u001b[1;32m----> 1\u001b[1;33m \u001b[0muds_wiki_vote\u001b[0m \u001b[1;33m=\u001b[0m \u001b[0mgreedy_approximation\u001b[0m\u001b[1;33m(\u001b[0m\u001b[0mG\u001b[0m\u001b[1;33m,\u001b[0m \u001b[0mS\u001b[0m\u001b[1;33m,\u001b[0m \u001b[0mT\u001b[0m\u001b[1;33m,\u001b[0m \u001b[0mc\u001b[0m\u001b[1;33m)\u001b[0m\u001b[1;33m\u001b[0m\u001b[1;33m\u001b[0m\u001b[0m\n\u001b[0m",
      "\u001b[1;32m~\\AppData\\Local\\Temp\\ipykernel_30804\\3287611892.py\u001b[0m in \u001b[0;36mgreedy_approximation\u001b[1;34m(G, S, T, c)\u001b[0m\n\u001b[0;32m    156\u001b[0m     \u001b[0mhighest_density\u001b[0m \u001b[1;33m=\u001b[0m \u001b[0mexpected_density_v3\u001b[0m\u001b[1;33m(\u001b[0m\u001b[0mH\u001b[0m\u001b[1;33m)\u001b[0m\u001b[1;33m\u001b[0m\u001b[1;33m\u001b[0m\u001b[0m\n\u001b[0;32m    157\u001b[0m     \u001b[1;32mwhile\u001b[0m \u001b[0mS_temp\u001b[0m \u001b[1;32mand\u001b[0m \u001b[0mT_temp\u001b[0m\u001b[1;33m:\u001b[0m\u001b[1;33m\u001b[0m\u001b[1;33m\u001b[0m\u001b[0m\n\u001b[1;32m--> 158\u001b[1;33m         \u001b[0mi_min\u001b[0m \u001b[1;33m=\u001b[0m \u001b[0mmin\u001b[0m\u001b[1;33m(\u001b[0m\u001b[0mS_temp\u001b[0m\u001b[1;33m,\u001b[0m \u001b[0mkey\u001b[0m\u001b[1;33m=\u001b[0m\u001b[1;32mlambda\u001b[0m \u001b[0mi\u001b[0m\u001b[1;33m:\u001b[0m \u001b[0mexpected_degree_out\u001b[0m\u001b[1;33m(\u001b[0m\u001b[0mH\u001b[0m\u001b[1;33m,\u001b[0m \u001b[0mi\u001b[0m\u001b[1;33m)\u001b[0m\u001b[1;33m)\u001b[0m\u001b[1;33m\u001b[0m\u001b[1;33m\u001b[0m\u001b[0m\n\u001b[0m\u001b[0;32m    159\u001b[0m         \u001b[0md_S\u001b[0m \u001b[1;33m=\u001b[0m \u001b[0mexpected_degree_out\u001b[0m\u001b[1;33m(\u001b[0m\u001b[0mH\u001b[0m\u001b[1;33m,\u001b[0m \u001b[0mi_min\u001b[0m\u001b[1;33m)\u001b[0m\u001b[1;33m\u001b[0m\u001b[1;33m\u001b[0m\u001b[0m\n\u001b[0;32m    160\u001b[0m \u001b[1;33m\u001b[0m\u001b[0m\n",
      "\u001b[1;31mTypeError\u001b[0m: '<' not supported between instances of 'NoneType' and 'NoneType'"
     ]
    }
   ],
   "source": [
    "uds_wiki_vote = greedy_approximation(G, S, T, c)"
   ]
  },
  {
   "cell_type": "code",
   "execution_count": 31,
   "id": "17fa190d",
   "metadata": {},
   "outputs": [
    {
     "name": "stderr",
     "output_type": "stream",
     "text": [
      "Processing: 100%|████████████████████████████████████████████████████████████████| 1003/1003 [01:31<00:00, 10.96node/s]"
     ]
    },
    {
     "name": "stdout",
     "output_type": "stream",
     "text": [
      "Thời gian tổng thể: 91.7502 giây\n",
      "Thời gian vòng lặp: 91.5100 giây\n"
     ]
    },
    {
     "name": "stderr",
     "output_type": "stream",
     "text": [
      "\n"
     ]
    }
   ],
   "source": [
    "uds_wiki_vote = greedy_uds(G)"
   ]
  },
  {
   "cell_type": "code",
   "execution_count": 9,
   "id": "cdd11038",
   "metadata": {},
   "outputs": [
    {
     "name": "stdout",
     "output_type": "stream",
     "text": [
      "Mật độ cạnh kì vọng của đồ thị con được tạo ra bởi thuật toán uds là: 0.1071334327082849\n",
      "Xác xuất cạnh trung bình của đồ thị con được tạo ra bởi thuật toán uds là: 0.5060789773006353\n",
      "Độ lệch chuẩn của đồ thị con được tạo ra bởi thuật toán uds là: 0.28933197205858135\n",
      "Trọng số cạnh trung bình của thuật toán obs là: 0.4980837340144134\n",
      "số đỉnh của uds_wiki_vote: 215\n",
      "Số cạnh của uds_wiki_vote: 9740\n"
     ]
    }
   ],
   "source": [
    "# Lấy các giá trị xác suất từ các cạnh\n",
    "probabilities = [uds_wiki_vote[u][v]['probability'] for u, v in uds_wiki_vote.edges()]\n",
    "weights = [uds_wiki_vote[u][v]['weight'] for u, v in uds_wiki_vote.edges()]\n",
    "\n",
    "# Tính giá trị trung bình\n",
    "mean_probability = np.mean(probabilities)\n",
    "mean_weight = np.mean(weights)\n",
    "\n",
    "\n",
    "# Tính độ lệch chuẩn\n",
    "std_deviation = np.std(probabilities)\n",
    "print(\"Mật độ cạnh kì vọng của đồ thị con được tạo ra bởi thuật toán uds là:\",calculate_edge_density(uds_wiki_vote))\n",
    "print(\"Xác xuất cạnh trung bình của đồ thị con được tạo ra bởi thuật toán uds là:\",average_edge_probability(uds_wiki_vote))\n",
    "print(\"Độ lệch chuẩn của đồ thị con được tạo ra bởi thuật toán uds là:\", std_deviation)\n",
    "print(\"Trọng số cạnh trung bình của thuật toán obs là:\",mean_weight)\n",
    "print(\"số đỉnh của uds_wiki_vote:\", len(uds_wiki_vote.nodes))\n",
    "print(\"Số cạnh của uds_wiki_vote:\", len(uds_wiki_vote.edges))"
   ]
  },
  {
   "cell_type": "markdown",
   "id": "b26a3fe9",
   "metadata": {},
   "source": [
    "# Đối với đồ thị Wiki-Vote"
   ]
  },
  {
   "cell_type": "code",
   "execution_count": 33,
   "id": "10274353",
   "metadata": {},
   "outputs": [
    {
     "name": "stdout",
     "output_type": "stream",
     "text": [
      "Number of nodes: 7115\n",
      "Number of edges: 103689\n",
      "Giá trị cạnh trung bình của đồ thị protein579138: 0.49914344764034696\n",
      "Độ lệch chuẩn của của  đồ thị protein579138: 0.28897262501123644\n",
      "Trọng số cạnh trung bình của đồ thị là: 0.4993515475524596\n",
      "Mật độ cạnh kì vọng của đồ thị : 0.0010225140759015394\n"
     ]
    }
   ],
   "source": [
    "random.seed(9)\n",
    "# Initialize a directed graph\n",
    "G = nx.DiGraph()\n",
    "\n",
    "# Assuming your data is stored in a file called 'email-Eu-core.txt'\n",
    "# and the data starts from a specific line after the header.\n",
    "# Adjust the path to where you have stored your file.\n",
    "with open('wiki-Vote.txt/Wiki-Vote.txt', 'r') as file:\n",
    "    for line in file:\n",
    "        # Skip header lines or process them differently if needed\n",
    "        if line.startswith('#'):\n",
    "            continue\n",
    "        \n",
    "        # Split the line into source and target nodes\n",
    "        source, target = map(int, line.split())\n",
    "        # Assign a random probability to each edge\n",
    "        probability = random.random()  # Generate a random probability between 0 and 1\n",
    "        # Assign a random weight to each edge (for example, between 1 and 10)\n",
    "        weight = random.random()\n",
    "        G.add_edge(source, target, probability=probability, weight=weight)\n",
    "\n",
    "print(\"Number of nodes:\", G.number_of_nodes())\n",
    "print(\"Number of edges:\", G.number_of_edges())\n",
    "\n",
    "\n",
    "\n",
    "\n",
    "# Optional: Print some edges with their attributes to verify\n",
    "# for u, v, data in G.edges(data=True):\n",
    "#     print(f\"Edge ({u}, {v}) - Probability: {data['probability']}, Weight: {data['weight']}\")\n",
    "\n",
    "\n",
    "# Lấy các giá trị xác suất từ các cạnh\n",
    "probabilities = [G[u][v]['probability'] for u, v in G.edges()]\n",
    "weights = [G[u][v]['weight'] for u, v in G.edges()]\n",
    "# Tính giá trị trung bình\n",
    "mean_probability = np.mean(probabilities)\n",
    "mean_weight = np.mean(weights)\n",
    "\n",
    "\n",
    "# Tính độ lệch chuẩn\n",
    "std_deviation = np.std(probabilities)\n",
    "\n",
    "    \n",
    "print(\"Giá trị cạnh trung bình của đồ thị protein579138:\", mean_probability)\n",
    "print(\"Độ lệch chuẩn của của  đồ thị protein579138:\", std_deviation)\n",
    "print(\"Trọng số cạnh trung bình của đồ thị là:\",mean_weight)\n",
    "print(\"Mật độ cạnh kì vọng của đồ thị :\",calculate_edge_density(G))\n",
    "\n",
    "\n",
    "\n"
   ]
  },
  {
   "cell_type": "code",
   "execution_count": 34,
   "id": "0bdc5dd3",
   "metadata": {},
   "outputs": [
    {
     "name": "stderr",
     "output_type": "stream",
     "text": [
      "Processing: 100%|████████████████████████████████████████████████████████████████| 7113/7113 [45:34<00:00,  2.60node/s]"
     ]
    },
    {
     "name": "stdout",
     "output_type": "stream",
     "text": [
      "Thời gian tổng thể: 2735.2174 giây\n",
      "Thời gian vòng lặp: 2734.3930 giây\n"
     ]
    },
    {
     "name": "stderr",
     "output_type": "stream",
     "text": [
      "\n"
     ]
    }
   ],
   "source": [
    "uds_wiki_vote = greedy_uds(G)"
   ]
  },
  {
   "cell_type": "code",
   "execution_count": 35,
   "id": "1ea789b8",
   "metadata": {},
   "outputs": [
    {
     "name": "stdout",
     "output_type": "stream",
     "text": [
      "Mật độ cạnh kì vọng của đồ thị con được tạo ra bởi thuật toán uds là: 0.031152662403454906\n",
      "Xác xuất cạnh trung bình của đồ thị con được tạo ra bởi thuật toán uds là: 0.5038790577648957\n",
      "Độ lệch chuẩn của đồ thị con được tạo ra bởi thuật toán uds là: 0.2899912203713483\n",
      "Trọng số cạnh trung bình của thuật toán obs là: 0.5027124756077233\n",
      "số đỉnh của uds_wiki_vote: 789\n",
      "Số cạnh của uds_wiki_vote: 38439\n"
     ]
    }
   ],
   "source": [
    "# Lấy các giá trị xác suất từ các cạnh\n",
    "probabilities = [uds_wiki_vote[u][v]['probability'] for u, v in uds_wiki_vote.edges()]\n",
    "weights = [uds_wiki_vote[u][v]['weight'] for u, v in uds_wiki_vote.edges()]\n",
    "\n",
    "# Tính giá trị trung bình\n",
    "mean_probability = np.mean(probabilities)\n",
    "mean_weight = np.mean(weights)\n",
    "\n",
    "\n",
    "# Tính độ lệch chuẩn\n",
    "std_deviation = np.std(probabilities)\n",
    "print(\"Mật độ cạnh kì vọng của đồ thị con được tạo ra bởi thuật toán uds là:\",calculate_edge_density(uds_wiki_vote))\n",
    "print(\"Xác xuất cạnh trung bình của đồ thị con được tạo ra bởi thuật toán uds là:\",average_edge_probability(uds_wiki_vote))\n",
    "print(\"Độ lệch chuẩn của đồ thị con được tạo ra bởi thuật toán uds là:\", std_deviation)\n",
    "print(\"Trọng số cạnh trung bình của thuật toán obs là:\",mean_weight)\n",
    "print(\"số đỉnh của uds_wiki_vote:\", len(uds_wiki_vote.nodes))\n",
    "print(\"Số cạnh của uds_wiki_vote:\", len(uds_wiki_vote.edges))"
   ]
  },
  {
   "cell_type": "code",
   "execution_count": 40,
   "id": "0d1b1311",
   "metadata": {},
   "outputs": [],
   "source": [
    "nx.write_gexf(uds_wiki_vote, \"uds_wiki_vote.gexf\")\n"
   ]
  },
  {
   "cell_type": "markdown",
   "id": "901546f8",
   "metadata": {},
   "source": [
    "# Đối với đồ thị p2p-Gnutella08"
   ]
  },
  {
   "cell_type": "code",
   "execution_count": 4,
   "id": "ad928a17",
   "metadata": {},
   "outputs": [
    {
     "name": "stdout",
     "output_type": "stream",
     "text": [
      "Number of nodes: 6301\n",
      "Number of edges: 20777\n",
      "Giá trị cạnh trung bình của đồ thị protein579138: 0.5004933345397413\n",
      "Độ lệch chuẩn của của  đồ thị protein579138: 0.2896557323372045\n",
      "Trọng số cạnh trung bình của đồ thị là: 0.4994369331921513\n",
      "Mật độ cạnh kì vọng của đồ thị : 0.0002619576638561329\n"
     ]
    }
   ],
   "source": [
    "random.seed(1)\n",
    "# Initialize a directed graph\n",
    "G = nx.DiGraph()\n",
    "\n",
    "# Assuming your data is stored in a file called 'email-Eu-core.txt'\n",
    "# and the data starts from a specific line after the header.\n",
    "# Adjust the path to where you have stored your file.\n",
    "with open('p2p-Gnutella08.txt', 'r') as file:\n",
    "    for line in file:\n",
    "        # Skip header lines or process them differently if needed\n",
    "        if line.startswith('#'):\n",
    "            continue\n",
    "        \n",
    "        # Split the line into source and target nodes\n",
    "        source, target = map(int, line.split())\n",
    "        # Assign a random probability to each edge\n",
    "        probability = random.random()  # Generate a random probability between 0 and 1\n",
    "        # Assign a random weight to each edge (for example, between 1 and 10)\n",
    "#         weight = random.randint(1, 10)\n",
    "        weight = random.random()\n",
    "        G.add_edge(source, target, probability=probability, weight=weight)\n",
    "\n",
    "print(\"Number of nodes:\", G.number_of_nodes())\n",
    "print(\"Number of edges:\", G.number_of_edges())\n",
    "\n",
    "\n",
    "\n",
    "\n",
    "# Optional: Print some edges with their attributes to verify\n",
    "# for u, v, data in G.edges(data=True):\n",
    "#     print(f\"Edge ({u}, {v}) - Probability: {data['probability']}, Weight: {data['weight']}\")\n",
    "\n",
    "\n",
    "# Lấy các giá trị xác suất từ các cạnh\n",
    "probabilities = [G[u][v]['probability'] for u, v in G.edges()]\n",
    "weights = [G[u][v]['weight'] for u, v in G.edges()]\n",
    "# Tính giá trị trung bình\n",
    "mean_probability = np.mean(probabilities)\n",
    "mean_weight = np.mean(weights)\n",
    "\n",
    "\n",
    "# Tính độ lệch chuẩn\n",
    "std_deviation = np.std(probabilities)\n",
    "\n",
    "    \n",
    "print(\"Giá trị cạnh trung bình của đồ thị protein579138:\", mean_probability)\n",
    "print(\"Độ lệch chuẩn của của  đồ thị protein579138:\", std_deviation)\n",
    "print(\"Trọng số cạnh trung bình của đồ thị là:\",mean_weight)\n",
    "print(\"Mật độ cạnh kì vọng của đồ thị :\",calculate_edge_density(G))\n",
    "\n",
    "\n",
    "\n"
   ]
  },
  {
   "cell_type": "code",
   "execution_count": 5,
   "id": "79b7ef81",
   "metadata": {},
   "outputs": [
    {
     "name": "stderr",
     "output_type": "stream",
     "text": [
      "Processing: 100%|████████████████████████████████████████████████████████████████| 6299/6299 [07:05<00:00, 14.79node/s]"
     ]
    },
    {
     "name": "stdout",
     "output_type": "stream",
     "text": [
      "Thời gian tổng thể: 426.4292 giây\n",
      "Thời gian vòng lặp: 425.9826 giây\n"
     ]
    },
    {
     "name": "stderr",
     "output_type": "stream",
     "text": [
      "\n"
     ]
    }
   ],
   "source": [
    "uds_wiki_vote = greedy_uds(G)"
   ]
  },
  {
   "cell_type": "code",
   "execution_count": 6,
   "id": "432b9470",
   "metadata": {},
   "outputs": [
    {
     "name": "stdout",
     "output_type": "stream",
     "text": [
      "Mật độ cạnh kì vọng của đồ thị con được tạo ra bởi thuật toán uds là: 0.014396657948977414\n",
      "Xác xuất cạnh trung bình của đồ thị con được tạo ra bởi thuật toán uds là: 0.5281214692808495\n",
      "Độ lệch chuẩn của đồ thị con được tạo ra bởi thuật toán uds là: 0.2884720180566724\n",
      "Trọng số cạnh trung bình của thuật toán obs là: 0.5263640825020626\n",
      "số đỉnh của uds_wiki_vote: 302\n",
      "Số cạnh của uds_wiki_vote: 2478\n"
     ]
    }
   ],
   "source": [
    "# Lấy các giá trị xác suất từ các cạnh\n",
    "probabilities = [uds_wiki_vote[u][v]['probability'] for u, v in uds_wiki_vote.edges()]\n",
    "weights = [uds_wiki_vote[u][v]['weight'] for u, v in uds_wiki_vote.edges()]\n",
    "\n",
    "# Tính giá trị trung bình\n",
    "mean_probability = np.mean(probabilities)\n",
    "mean_weight = np.mean(weights)\n",
    "\n",
    "\n",
    "# Tính độ lệch chuẩn\n",
    "std_deviation = np.std(probabilities)\n",
    "print(\"Mật độ cạnh kì vọng của đồ thị con được tạo ra bởi thuật toán uds là:\",calculate_edge_density(uds_wiki_vote))\n",
    "print(\"Xác xuất cạnh trung bình của đồ thị con được tạo ra bởi thuật toán uds là:\",average_edge_probability(uds_wiki_vote))\n",
    "print(\"Độ lệch chuẩn của đồ thị con được tạo ra bởi thuật toán uds là:\", std_deviation)\n",
    "print(\"Trọng số cạnh trung bình của thuật toán obs là:\",mean_weight)\n",
    "print(\"số đỉnh của uds_wiki_vote:\", len(uds_wiki_vote.nodes))\n",
    "print(\"Số cạnh của uds_wiki_vote:\", len(uds_wiki_vote.edges))"
   ]
  },
  {
   "cell_type": "markdown",
   "id": "0a3a030a",
   "metadata": {},
   "source": [
    "# Đối với đồ thị 579138.protein"
   ]
  },
  {
   "cell_type": "code",
   "execution_count": 24,
   "id": "833a2961",
   "metadata": {},
   "outputs": [
    {
     "name": "stdout",
     "output_type": "stream",
     "text": [
      "Number of nodes: 1676\n",
      "Number of edges: 160062\n"
     ]
    }
   ],
   "source": [
    "random.seed(9)\n",
    "# Đọc dữ liệu từ tệp TXT\n",
    "file_path = '579138.protein.links.full.v12.0.txt/579138.protein.links.full.v12.0.txt'\n",
    "data = pd.read_csv(file_path, sep=' ')\n",
    "\n",
    "# Khởi tạo đồ thị có hướng\n",
    "G = nx.DiGraph()\n",
    "\n",
    "# Thêm các cạnh với trọng số và xác suất\n",
    "for _, row in data.iterrows():\n",
    "    protein1 = row['protein1']\n",
    "    protein2 = row['protein2']\n",
    "    combined_score = row['combined_score']\n",
    "    \n",
    "    # Giả sử xác suất được tính dựa trên combined_score\n",
    "    probability = combined_score / 1000.0  # Điều chỉnh hệ số nếu cần thiết\n",
    "\n",
    "     # Định hướng cạnh dựa trên một quy tắc ngẫu nhiên\n",
    "    if random.choice([True, False]):\n",
    "        G.add_edge(protein1, protein2, probability= random.random(), weight= random.randint(1, 10))\n",
    "    else:\n",
    "        G.add_edge(protein2, protein1, probability= random.random(), weight=random.randint(1, 10))\n",
    "\n",
    "# # Hàm vẽ đồ thị\n",
    "# def plot_graph(G):\n",
    "#     pos = nx.spring_layout(G)  # Tạo bố cục cho đồ thị\n",
    "\n",
    "#     # Lấy thuộc tính xác suất và trọng số của các cạnh\n",
    "#     edge_probabilities = nx.get_edge_attributes(G, 'probability')\n",
    "#     edge_weights = nx.get_edge_attributes(G, 'weight')\n",
    "\n",
    "#     # Kết hợp xác suất và trọng số vào nhãn cạnh\n",
    "#     edge_labels = {edge: f\"{edge_weights[edge]:.2f}, {edge_probabilities[edge]:.2f}\" for edge in G.edges()}\n",
    "\n",
    "#     # Vẽ đồ thị\n",
    "#     nx.draw(G, pos, with_labels=True, node_color='lightblue', edge_color='red', node_size=500, font_size=8, font_weight='bold')\n",
    "#     nx.draw_networkx_edge_labels(G, pos, edge_labels=edge_labels, font_size=7)  # Hiển thị nhãn của các cạnh\n",
    "\n",
    "#     plt.title('Uncertain Weighted Directed Graph Visualization')\n",
    "#     plt.show()\n",
    "\n",
    "# # Gọi hàm để vẽ đồ thị\n",
    "# plot_graph(G)\n",
    "\n",
    "# # In các cạnh của đồ thị có hướng\n",
    "# print(\"Edges in directed graph:\")\n",
    "# for edge in G.edges(data=True):\n",
    "#     print(edge)\n",
    "print(\"Number of nodes:\", G.number_of_nodes())\n",
    "print(\"Number of edges:\", G.number_of_edges())\n",
    "\n"
   ]
  },
  {
   "cell_type": "code",
   "execution_count": 26,
   "id": "d62e351d",
   "metadata": {},
   "outputs": [
    {
     "name": "stdout",
     "output_type": "stream",
     "text": [
      "Giá trị cạnh trung bình của đồ thị protein579138: 0.4999780444494622\n",
      "Độ lệch chuẩn của của  đồ thị protein579138: 0.2886006115406647\n",
      "Độ lệch chuẩn trọng số của của  đồ thị protein579138: 2.8761175362052445\n",
      "Trọng số cạnh trung bình của đồ thị là: 5.501368219814822\n",
      "Mật độ cạnh kì vọng của đồ thị : 0.028506923289520425\n"
     ]
    }
   ],
   "source": [
    "\n",
    "# Lấy các giá trị xác suất từ các cạnh\n",
    "probabilities = [G[u][v]['probability'] for u, v in G.edges()]\n",
    "weights = [G[u][v]['weight'] for u, v in G.edges()]\n",
    "# Tính giá trị trung bình\n",
    "mean_probability = np.mean(probabilities)\n",
    "mean_weight = np.mean(weights)\n",
    "do_lech_chuan_trong_so = np.std(weights)\n",
    "\n",
    "\n",
    "# Tính độ lệch chuẩn\n",
    "std_deviation = np.std(probabilities)\n",
    "\n",
    "    \n",
    "print(\"Giá trị cạnh trung bình của đồ thị protein579138:\", mean_probability)\n",
    "print(\"Độ lệch chuẩn của của  đồ thị protein579138:\", std_deviation)\n",
    "print(\"Độ lệch chuẩn trọng số của của  đồ thị protein579138:\", do_lech_chuan_trong_so)\n",
    "\n",
    "print(\"Trọng số cạnh trung bình của đồ thị là:\",mean_weight)\n",
    "print(\"Mật độ cạnh kì vọng của đồ thị :\",calculate_edge_density(G))\n"
   ]
  },
  {
   "cell_type": "code",
   "execution_count": 27,
   "id": "8ffb5943",
   "metadata": {},
   "outputs": [
    {
     "name": "stderr",
     "output_type": "stream",
     "text": [
      "Processing:  72%|█████████████████████████████████████████████▉                  | 1202/1674 [12:34<04:56,  1.59node/s]\n"
     ]
    },
    {
     "ename": "KeyboardInterrupt",
     "evalue": "",
     "output_type": "error",
     "traceback": [
      "\u001b[1;31m---------------------------------------------------------------------------\u001b[0m",
      "\u001b[1;31mKeyboardInterrupt\u001b[0m                         Traceback (most recent call last)",
      "\u001b[1;32m~\\AppData\\Local\\Temp\\ipykernel_29000\\2736899110.py\u001b[0m in \u001b[0;36m<module>\u001b[1;34m\u001b[0m\n\u001b[1;32m----> 1\u001b[1;33m \u001b[0muds_wiki_vote\u001b[0m \u001b[1;33m=\u001b[0m \u001b[0mgreedy_uds\u001b[0m\u001b[1;33m(\u001b[0m\u001b[0mG\u001b[0m\u001b[1;33m)\u001b[0m\u001b[1;33m\u001b[0m\u001b[1;33m\u001b[0m\u001b[0m\n\u001b[0m",
      "\u001b[1;32m~\\AppData\\Local\\Temp\\ipykernel_29000\\19697962.py\u001b[0m in \u001b[0;36mgreedy_uds\u001b[1;34m(G)\u001b[0m\n\u001b[0;32m    116\u001b[0m             \u001b[1;31m# Tính mật độ kỳ vọng hiện tại của H\u001b[0m\u001b[1;33m\u001b[0m\u001b[1;33m\u001b[0m\u001b[0m\n\u001b[0;32m    117\u001b[0m \u001b[1;31m#             current_density = expected_density_v2(H)\u001b[0m\u001b[1;33m\u001b[0m\u001b[1;33m\u001b[0m\u001b[0m\n\u001b[1;32m--> 118\u001b[1;33m             \u001b[0mcurrent_density\u001b[0m \u001b[1;33m=\u001b[0m \u001b[0mexpected_density\u001b[0m\u001b[1;33m(\u001b[0m\u001b[0mH\u001b[0m\u001b[1;33m)\u001b[0m\u001b[1;33m\u001b[0m\u001b[1;33m\u001b[0m\u001b[0m\n\u001b[0m\u001b[0;32m    119\u001b[0m             \u001b[1;32mif\u001b[0m \u001b[0mcurrent_density\u001b[0m \u001b[1;33m>\u001b[0m \u001b[0mhighest_density\u001b[0m\u001b[1;33m:\u001b[0m\u001b[1;33m\u001b[0m\u001b[1;33m\u001b[0m\u001b[0m\n\u001b[0;32m    120\u001b[0m                 \u001b[0mhighest_density\u001b[0m \u001b[1;33m=\u001b[0m \u001b[0mcurrent_density\u001b[0m\u001b[1;33m\u001b[0m\u001b[1;33m\u001b[0m\u001b[0m\n",
      "\u001b[1;32m~\\AppData\\Local\\Temp\\ipykernel_29000\\19697962.py\u001b[0m in \u001b[0;36mexpected_density\u001b[1;34m(G)\u001b[0m\n\u001b[0;32m     62\u001b[0m     \u001b[1;32mif\u001b[0m \u001b[0mG\u001b[0m\u001b[1;33m.\u001b[0m\u001b[0mnumber_of_edges\u001b[0m\u001b[1;33m(\u001b[0m\u001b[1;33m)\u001b[0m \u001b[1;33m==\u001b[0m \u001b[1;36m0\u001b[0m\u001b[1;33m:\u001b[0m\u001b[1;33m\u001b[0m\u001b[1;33m\u001b[0m\u001b[0m\n\u001b[0;32m     63\u001b[0m         \u001b[1;32mreturn\u001b[0m \u001b[1;36m0\u001b[0m\u001b[1;33m\u001b[0m\u001b[1;33m\u001b[0m\u001b[0m\n\u001b[1;32m---> 64\u001b[1;33m     \u001b[0mprobability_sum\u001b[0m \u001b[1;33m=\u001b[0m \u001b[0msum\u001b[0m\u001b[1;33m(\u001b[0m\u001b[0mG\u001b[0m\u001b[1;33m[\u001b[0m\u001b[0mu\u001b[0m\u001b[1;33m]\u001b[0m\u001b[1;33m[\u001b[0m\u001b[0mv\u001b[0m\u001b[1;33m]\u001b[0m\u001b[1;33m[\u001b[0m\u001b[1;34m'probability'\u001b[0m\u001b[1;33m]\u001b[0m \u001b[1;32mfor\u001b[0m \u001b[0mu\u001b[0m\u001b[1;33m,\u001b[0m \u001b[0mv\u001b[0m \u001b[1;32min\u001b[0m \u001b[0mG\u001b[0m\u001b[1;33m.\u001b[0m\u001b[0medges\u001b[0m\u001b[1;33m(\u001b[0m\u001b[1;33m)\u001b[0m\u001b[1;33m)\u001b[0m\u001b[1;33m\u001b[0m\u001b[1;33m\u001b[0m\u001b[0m\n\u001b[0m\u001b[0;32m     65\u001b[0m     \u001b[0mnum_vertices\u001b[0m \u001b[1;33m=\u001b[0m \u001b[0mlen\u001b[0m\u001b[1;33m(\u001b[0m\u001b[0mG\u001b[0m\u001b[1;33m.\u001b[0m\u001b[0mnodes\u001b[0m\u001b[1;33m(\u001b[0m\u001b[1;33m)\u001b[0m\u001b[1;33m)\u001b[0m\u001b[1;33m\u001b[0m\u001b[1;33m\u001b[0m\u001b[0m\n\u001b[0;32m     66\u001b[0m     \u001b[1;32mreturn\u001b[0m \u001b[0mprobability_sum\u001b[0m \u001b[1;33m/\u001b[0m \u001b[0mnum_vertices\u001b[0m \u001b[1;32mif\u001b[0m \u001b[0mnum_vertices\u001b[0m \u001b[1;33m>\u001b[0m \u001b[1;36m0\u001b[0m \u001b[1;32melse\u001b[0m \u001b[1;36m0\u001b[0m\u001b[1;33m\u001b[0m\u001b[1;33m\u001b[0m\u001b[0m\n",
      "\u001b[1;32m~\\AppData\\Local\\Temp\\ipykernel_29000\\19697962.py\u001b[0m in \u001b[0;36m<genexpr>\u001b[1;34m(.0)\u001b[0m\n\u001b[0;32m     62\u001b[0m     \u001b[1;32mif\u001b[0m \u001b[0mG\u001b[0m\u001b[1;33m.\u001b[0m\u001b[0mnumber_of_edges\u001b[0m\u001b[1;33m(\u001b[0m\u001b[1;33m)\u001b[0m \u001b[1;33m==\u001b[0m \u001b[1;36m0\u001b[0m\u001b[1;33m:\u001b[0m\u001b[1;33m\u001b[0m\u001b[1;33m\u001b[0m\u001b[0m\n\u001b[0;32m     63\u001b[0m         \u001b[1;32mreturn\u001b[0m \u001b[1;36m0\u001b[0m\u001b[1;33m\u001b[0m\u001b[1;33m\u001b[0m\u001b[0m\n\u001b[1;32m---> 64\u001b[1;33m     \u001b[0mprobability_sum\u001b[0m \u001b[1;33m=\u001b[0m \u001b[0msum\u001b[0m\u001b[1;33m(\u001b[0m\u001b[0mG\u001b[0m\u001b[1;33m[\u001b[0m\u001b[0mu\u001b[0m\u001b[1;33m]\u001b[0m\u001b[1;33m[\u001b[0m\u001b[0mv\u001b[0m\u001b[1;33m]\u001b[0m\u001b[1;33m[\u001b[0m\u001b[1;34m'probability'\u001b[0m\u001b[1;33m]\u001b[0m \u001b[1;32mfor\u001b[0m \u001b[0mu\u001b[0m\u001b[1;33m,\u001b[0m \u001b[0mv\u001b[0m \u001b[1;32min\u001b[0m \u001b[0mG\u001b[0m\u001b[1;33m.\u001b[0m\u001b[0medges\u001b[0m\u001b[1;33m(\u001b[0m\u001b[1;33m)\u001b[0m\u001b[1;33m)\u001b[0m\u001b[1;33m\u001b[0m\u001b[1;33m\u001b[0m\u001b[0m\n\u001b[0m\u001b[0;32m     65\u001b[0m     \u001b[0mnum_vertices\u001b[0m \u001b[1;33m=\u001b[0m \u001b[0mlen\u001b[0m\u001b[1;33m(\u001b[0m\u001b[0mG\u001b[0m\u001b[1;33m.\u001b[0m\u001b[0mnodes\u001b[0m\u001b[1;33m(\u001b[0m\u001b[1;33m)\u001b[0m\u001b[1;33m)\u001b[0m\u001b[1;33m\u001b[0m\u001b[1;33m\u001b[0m\u001b[0m\n\u001b[0;32m     66\u001b[0m     \u001b[1;32mreturn\u001b[0m \u001b[0mprobability_sum\u001b[0m \u001b[1;33m/\u001b[0m \u001b[0mnum_vertices\u001b[0m \u001b[1;32mif\u001b[0m \u001b[0mnum_vertices\u001b[0m \u001b[1;33m>\u001b[0m \u001b[1;36m0\u001b[0m \u001b[1;32melse\u001b[0m \u001b[1;36m0\u001b[0m\u001b[1;33m\u001b[0m\u001b[1;33m\u001b[0m\u001b[0m\n",
      "\u001b[1;31mKeyboardInterrupt\u001b[0m: "
     ]
    }
   ],
   "source": [
    "uds_wiki_vote = greedy_uds(G)"
   ]
  },
  {
   "cell_type": "code",
   "execution_count": null,
   "id": "092290e2",
   "metadata": {},
   "outputs": [],
   "source": [
    "# Lấy các giá trị xác suất từ các cạnh\n",
    "probabilities = [uds_wiki_vote[u][v]['probability'] for u, v in uds_wiki_vote.edges()]\n",
    "weights = [uds_wiki_vote[u][v]['weight'] for u, v in uds_wiki_vote.edges()]\n",
    "\n",
    "# Tính giá trị trung bình\n",
    "mean_probability = np.mean(probabilities)\n",
    "mean_weight = np.mean(weights)\n",
    "\n",
    "\n",
    "# Tính độ lệch chuẩn\n",
    "std_deviation = np.std(probabilities)\n",
    "do_lech_chuan_trong_so = np.std(weights)\n",
    "print(\"Mật độ cạnh kì vọng của đồ thị con được tạo ra bởi thuật toán uds là:\",calculate_edge_density(uds_wiki_vote))\n",
    "print(\"Xác xuất cạnh trung bình của đồ thị con được tạo ra bởi thuật toán uds là:\",average_edge_probability(uds_wiki_vote))\n",
    "print(\"Độ lệch chuẩn của đồ thị con được tạo ra bởi thuật toán uds là:\", std_deviation)\n",
    "print(\"Độ lệch chuẩn trọng số của đồ thị con được tạo ra bởi thuật toán uds là:\", do_lech_chuan_trong_so)\n",
    "print(\"Trọng số cạnh trung bình của thuật toán obs là:\",mean_weight)\n",
    "print(\"số đỉnh của uds_wiki_vote:\", len(uds_wiki_vote.nodes))\n",
    "print(\"Số cạnh của uds_wiki_vote:\", len(uds_wiki_vote.edges))"
   ]
  },
  {
   "cell_type": "markdown",
   "id": "b87d5d0f",
   "metadata": {},
   "source": [
    "## Thử với trọng số từ 0 tới 1 "
   ]
  },
  {
   "cell_type": "code",
   "execution_count": 4,
   "id": "30582afd",
   "metadata": {},
   "outputs": [
    {
     "name": "stdout",
     "output_type": "stream",
     "text": [
      "Number of nodes: 1676\n",
      "Number of edges: 160416\n",
      "Giá trị cạnh trung bình của đồ thị protein579138: 0.32051819020546574\n",
      "Độ lệch chuẩn của của  đồ thị protein579138: 0.21817695582306657\n",
      "Độ lệch chuẩn trọng số của của  đồ thị protein579138: 0.2884085389238608\n",
      "Trọng số cạnh trung bình của đồ thị là: 0.4992733452267177\n"
     ]
    }
   ],
   "source": [
    "random.seed(9)\n",
    "# Đọc dữ liệu từ tệp TXT\n",
    "file_path = '579138.protein.links.full.v12.0.txt/579138.protein.links.full.v12.0.txt'\n",
    "data = pd.read_csv(file_path, sep=' ')\n",
    "\n",
    "# Khởi tạo đồ thị có hướng\n",
    "G = nx.DiGraph()\n",
    "\n",
    "# Thêm các cạnh với trọng số và xác suất\n",
    "for _, row in data.iterrows():\n",
    "    protein1 = row['protein1']\n",
    "    protein2 = row['protein2']\n",
    "    combined_score = row['combined_score']\n",
    "    \n",
    "    # Giả sử xác suất được tính dựa trên combined_score\n",
    "    probability = combined_score / 1000.0  # Điều chỉnh hệ số nếu cần thiết\n",
    "\n",
    "     # Định hướng cạnh dựa trên một quy tắc ngẫu nhiên\n",
    "    if random.choice([True, False]):\n",
    "        G.add_edge(protein1, protein2, probability= probability, weight= random.random())\n",
    "    else:\n",
    "        G.add_edge(protein2, protein1, probability= probability, weight=random.random())\n",
    "\n",
    "# # Hàm vẽ đồ thị\n",
    "# def plot_graph(G):\n",
    "#     pos = nx.spring_layout(G)  # Tạo bố cục cho đồ thị\n",
    "\n",
    "#     # Lấy thuộc tính xác suất và trọng số của các cạnh\n",
    "#     edge_probabilities = nx.get_edge_attributes(G, 'probability')\n",
    "#     edge_weights = nx.get_edge_attributes(G, 'weight')\n",
    "\n",
    "#     # Kết hợp xác suất và trọng số vào nhãn cạnh\n",
    "#     edge_labels = {edge: f\"{edge_weights[edge]:.2f}, {edge_probabilities[edge]:.2f}\" for edge in G.edges()}\n",
    "\n",
    "#     # Vẽ đồ thị\n",
    "#     nx.draw(G, pos, with_labels=True, node_color='lightblue', edge_color='red', node_size=500, font_size=8, font_weight='bold')\n",
    "#     nx.draw_networkx_edge_labels(G, pos, edge_labels=edge_labels, font_size=7)  # Hiển thị nhãn của các cạnh\n",
    "\n",
    "#     plt.title('Uncertain Weighted Directed Graph Visualization')\n",
    "#     plt.show()\n",
    "\n",
    "# # Gọi hàm để vẽ đồ thị\n",
    "# plot_graph(G)\n",
    "\n",
    "# # In các cạnh của đồ thị có hướng\n",
    "# print(\"Edges in directed graph:\")\n",
    "# for edge in G.edges(data=True):\n",
    "#     print(edge)\n",
    "print(\"Number of nodes:\", G.number_of_nodes())\n",
    "print(\"Number of edges:\", G.number_of_edges())\n",
    "\n",
    "\n",
    "# Lấy các giá trị xác suất từ các cạnh\n",
    "probabilities = [G[u][v]['probability'] for u, v in G.edges()]\n",
    "weights = [G[u][v]['weight'] for u, v in G.edges()]\n",
    "# Tính giá trị trung bình\n",
    "mean_probability = np.mean(probabilities)\n",
    "mean_weight = np.mean(weights)\n",
    "do_lech_chuan_trong_so = np.std(weights)\n",
    "\n",
    "\n",
    "# Tính độ lệch chuẩn\n",
    "std_deviation = np.std(probabilities)\n",
    "\n",
    "    \n",
    "print(\"Giá trị cạnh trung bình của đồ thị protein579138:\", mean_probability)\n",
    "print(\"Độ lệch chuẩn của của  đồ thị protein579138:\", std_deviation)\n",
    "print(\"Độ lệch chuẩn trọng số của của  đồ thị protein579138:\", do_lech_chuan_trong_so)\n",
    "\n",
    "print(\"Trọng số cạnh trung bình của đồ thị là:\",mean_weight)"
   ]
  },
  {
   "cell_type": "code",
   "execution_count": 5,
   "id": "0d65c588",
   "metadata": {},
   "outputs": [
    {
     "name": "stderr",
     "output_type": "stream",
     "text": [
      "Processing: 100%|████████████████████████████████████████████████████████████████| 1674/1674 [09:02<00:00,  3.09node/s]"
     ]
    },
    {
     "name": "stdout",
     "output_type": "stream",
     "text": [
      "Thời gian tổng thể: 543.4428 giây\n",
      "Thời gian vòng lặp: 542.1975 giây\n"
     ]
    },
    {
     "name": "stderr",
     "output_type": "stream",
     "text": [
      "\n"
     ]
    }
   ],
   "source": [
    "uds_wiki_vote = greedy_uds(G)"
   ]
  },
  {
   "cell_type": "code",
   "execution_count": 6,
   "id": "1943bb7d",
   "metadata": {},
   "outputs": [
    {
     "name": "stdout",
     "output_type": "stream",
     "text": [
      "Mật độ cạnh kì vọng của đồ thị con được tạo ra bởi thuật toán uds là: 0.23410217451228932\n",
      "Xác xuất cạnh trung bình của đồ thị con được tạo ra bởi thuật toán uds là: 0.746686911890492\n",
      "Độ lệch chuẩn của đồ thị con được tạo ra bởi thuật toán uds là: 0.2725871803311424\n",
      "Độ lệch chuẩn trọng số của đồ thị con được tạo ra bởi thuật toán uds là: 0.28770387216996784\n",
      "Trọng số cạnh trung bình của thuật toán obs là: 0.5026702060259106\n",
      "số đỉnh của uds_wiki_vote: 123\n",
      "Số cạnh của uds_wiki_vote: 9352\n"
     ]
    }
   ],
   "source": [
    "# Lấy các giá trị xác suất từ các cạnh\n",
    "probabilities = [uds_wiki_vote[u][v]['probability'] for u, v in uds_wiki_vote.edges()]\n",
    "weights = [uds_wiki_vote[u][v]['weight'] for u, v in uds_wiki_vote.edges()]\n",
    "\n",
    "# Tính giá trị trung bình\n",
    "mean_probability = np.mean(probabilities)\n",
    "mean_weight = np.mean(weights)\n",
    "\n",
    "\n",
    "# Tính độ lệch chuẩn\n",
    "std_deviation = np.std(probabilities)\n",
    "do_lech_chuan_trong_so = np.std(weights)\n",
    "print(\"Mật độ cạnh kì vọng của đồ thị con được tạo ra bởi thuật toán uds là:\",calculate_edge_density(uds_wiki_vote))\n",
    "print(\"Xác xuất cạnh trung bình của đồ thị con được tạo ra bởi thuật toán uds là:\",average_edge_probability(uds_wiki_vote))\n",
    "print(\"Độ lệch chuẩn của đồ thị con được tạo ra bởi thuật toán uds là:\", std_deviation)\n",
    "print(\"Độ lệch chuẩn trọng số của đồ thị con được tạo ra bởi thuật toán uds là:\", do_lech_chuan_trong_so)\n",
    "print(\"Trọng số cạnh trung bình của thuật toán obs là:\",mean_weight)\n",
    "print(\"số đỉnh của uds_wiki_vote:\", len(uds_wiki_vote.nodes))\n",
    "print(\"Số cạnh của uds_wiki_vote:\", len(uds_wiki_vote.edges))"
   ]
  },
  {
   "cell_type": "code",
   "execution_count": 16,
   "id": "be562f3a",
   "metadata": {},
   "outputs": [],
   "source": [
    "nx.write_gexf(uds_wiki_vote, \"uds_579138_protein.gexf\")\n"
   ]
  },
  {
   "cell_type": "markdown",
   "id": "21ef754b",
   "metadata": {},
   "source": [
    "# Đối với đồ thị protein 1736402.protein.links.v12.0\n"
   ]
  },
  {
   "cell_type": "code",
   "execution_count": 7,
   "id": "0ecb5efc",
   "metadata": {},
   "outputs": [
    {
     "name": "stdout",
     "output_type": "stream",
     "text": [
      "Number of nodes: 3082\n",
      "Number of edges: 315247\n",
      "Giá trị cạnh trung bình của đồ thị protein579138: 0.2812061907012597\n",
      "Độ lệch chuẩn của của  đồ thị protein579138: 0.18194945319649977\n",
      "Độ lệch chuẩn trọng số của của  đồ thị protein579138: 0.28855910003547514\n",
      "Trọng số cạnh trung bình của đồ thị là: 0.49985353210339717\n"
     ]
    }
   ],
   "source": [
    "random.seed(9)\n",
    "# Đọc dữ liệu từ tệp TXT\n",
    "file_path = '1736402.protein.links.v12.0.txt'\n",
    "data = pd.read_csv(file_path, sep=' ')\n",
    "\n",
    "# Khởi tạo đồ thị có hướng\n",
    "G = nx.DiGraph()\n",
    "\n",
    "# Thêm các cạnh với trọng số và xác suất\n",
    "for _, row in data.iterrows():\n",
    "    protein1 = row['protein1']\n",
    "    protein2 = row['protein2']\n",
    "    combined_score = row['combined_score']\n",
    "    \n",
    "    # Giả sử xác suất được tính dựa trên combined_score\n",
    "    probability = combined_score / 1000.0  # Điều chỉnh hệ số nếu cần thiết\n",
    "\n",
    "     # Định hướng cạnh dựa trên một quy tắc ngẫu nhiên\n",
    "        \n",
    "    if random.choice([True, False]):\n",
    "        G.add_edge(protein1, protein2, probability= probability, weight= random.random())\n",
    "#     else:\n",
    "#         G.add_edge(protein2, protein1, probability= probability, weight= random.random())\n",
    "\n",
    "# # Hàm vẽ đồ thị\n",
    "# def plot_graph(G):\n",
    "#     pos = nx.spring_layout(G)  # Tạo bố cục cho đồ thị\n",
    "\n",
    "#     # Lấy thuộc tính xác suất và trọng số của các cạnh\n",
    "#     edge_probabilities = nx.get_edge_attributes(G, 'probability')\n",
    "#     edge_weights = nx.get_edge_attributes(G, 'weight')\n",
    "\n",
    "#     # Kết hợp xác suất và trọng số vào nhãn cạnh\n",
    "#     edge_labels = {edge: f\"{edge_weights[edge]:.2f}, {edge_probabilities[edge]:.2f}\" for edge in G.edges()}\n",
    "\n",
    "#     # Vẽ đồ thị\n",
    "#     nx.draw(G, pos, with_labels=True, node_color='lightblue', edge_color='red', node_size=500, font_size=8, font_weight='bold')\n",
    "#     nx.draw_networkx_edge_labels(G, pos, edge_labels=edge_labels, font_size=7)  # Hiển thị nhãn của các cạnh\n",
    "\n",
    "#     plt.title('Uncertain Weighted Directed Graph Visualization')\n",
    "#     plt.show()\n",
    "\n",
    "# # Gọi hàm để vẽ đồ thị\n",
    "# plot_graph(G)\n",
    "\n",
    "# # In các cạnh của đồ thị có hướng\n",
    "# print(\"Edges in directed graph:\")\n",
    "# for edge in G.edges(data=True):\n",
    "#     print(edge)\n",
    "print(\"Number of nodes:\", G.number_of_nodes())\n",
    "print(\"Number of edges:\", G.number_of_edges())\n",
    "\n",
    "\n",
    "# Lấy các giá trị xác suất từ các cạnh\n",
    "probabilities = [G[u][v]['probability'] for u, v in G.edges()]\n",
    "weights = [G[u][v]['weight'] for u, v in G.edges()]\n",
    "# Tính giá trị trung bình\n",
    "mean_probability = np.mean(probabilities)\n",
    "mean_weight = np.mean(weights)\n",
    "do_lech_chuan_trong_so = np.std(weights)\n",
    "\n",
    "\n",
    "# Tính độ lệch chuẩn\n",
    "std_deviation = np.std(probabilities)\n",
    "\n",
    "    \n",
    "print(\"Giá trị cạnh trung bình của đồ thị protein579138:\", mean_probability)\n",
    "print(\"Độ lệch chuẩn của của  đồ thị protein579138:\", std_deviation)\n",
    "print(\"Độ lệch chuẩn trọng số của của  đồ thị protein579138:\", do_lech_chuan_trong_so)\n",
    "\n",
    "print(\"Trọng số cạnh trung bình của đồ thị là:\",mean_weight)"
   ]
  },
  {
   "cell_type": "code",
   "execution_count": 8,
   "id": "fafff65b",
   "metadata": {},
   "outputs": [
    {
     "name": "stderr",
     "output_type": "stream",
     "text": [
      "Processing: 100%|██████████████████████████████████████████████████████████████| 3080/3080 [1:24:28<00:00,  1.65s/node]"
     ]
    },
    {
     "name": "stdout",
     "output_type": "stream",
     "text": [
      "Thời gian tổng thể: 5071.6272 giây\n",
      "Thời gian vòng lặp: 5068.1048 giây\n"
     ]
    },
    {
     "name": "stderr",
     "output_type": "stream",
     "text": [
      "\n"
     ]
    }
   ],
   "source": [
    "uds_wiki_vote = greedy_uds(G)"
   ]
  },
  {
   "cell_type": "code",
   "execution_count": 9,
   "id": "8b4fdbeb",
   "metadata": {},
   "outputs": [
    {
     "name": "stdout",
     "output_type": "stream",
     "text": [
      "Mật độ cạnh kì vọng của đồ thị con được tạo ra bởi thuật toán uds là: 0.24670937166530363\n",
      "Xác xuất cạnh trung bình của đồ thị con được tạo ra bởi thuật toán uds là: 0.6476070192782917\n",
      "Độ lệch chuẩn của đồ thị con được tạo ra bởi thuật toán uds là: 0.2841739259525697\n",
      "Độ lệch chuẩn trọng số của đồ thị con được tạo ra bởi thuật toán uds là: 0.29096404152563127\n",
      "Trọng số cạnh trung bình của thuật toán obs là: 0.5024647974844263\n",
      "số đỉnh của uds_wiki_vote: 179\n",
      "Số cạnh của uds_wiki_vote: 12138\n"
     ]
    }
   ],
   "source": [
    "# Lấy các giá trị xác suất từ các cạnh\n",
    "probabilities = [uds_wiki_vote[u][v]['probability'] for u, v in uds_wiki_vote.edges()]\n",
    "weights = [uds_wiki_vote[u][v]['weight'] for u, v in uds_wiki_vote.edges()]\n",
    "\n",
    "# Tính giá trị trung bình\n",
    "mean_probability = np.mean(probabilities)\n",
    "mean_weight = np.mean(weights)\n",
    "\n",
    "\n",
    "# Tính độ lệch chuẩn\n",
    "std_deviation = np.std(probabilities)\n",
    "do_lech_chuan_trong_so = np.std(weights)\n",
    "print(\"Mật độ cạnh kì vọng của đồ thị con được tạo ra bởi thuật toán uds là:\",calculate_edge_density(uds_wiki_vote))\n",
    "print(\"Xác xuất cạnh trung bình của đồ thị con được tạo ra bởi thuật toán uds là:\",average_edge_probability(uds_wiki_vote))\n",
    "print(\"Độ lệch chuẩn của đồ thị con được tạo ra bởi thuật toán uds là:\", std_deviation)\n",
    "print(\"Độ lệch chuẩn trọng số của đồ thị con được tạo ra bởi thuật toán uds là:\", do_lech_chuan_trong_so)\n",
    "print(\"Trọng số cạnh trung bình của thuật toán obs là:\",mean_weight)\n",
    "print(\"số đỉnh của uds_wiki_vote:\", len(uds_wiki_vote.nodes))\n",
    "print(\"Số cạnh của uds_wiki_vote:\", len(uds_wiki_vote.edges))"
   ]
  },
  {
   "cell_type": "markdown",
   "id": "63de2631",
   "metadata": {},
   "source": [
    "# 300267.protein.links.v12.0"
   ]
  },
  {
   "cell_type": "code",
   "execution_count": 10,
   "id": "b8162b06",
   "metadata": {},
   "outputs": [
    {
     "name": "stdout",
     "output_type": "stream",
     "text": [
      "Number of nodes: 4136\n",
      "Number of edges: 299573\n",
      "Giá trị cạnh trung bình của đồ thị protein579138: 0.2811085778758432\n",
      "Độ lệch chuẩn của của  đồ thị protein579138: 0.17968720524154452\n",
      "Độ lệch chuẩn trọng số của của  đồ thị protein579138: 0.2885328357603919\n",
      "Trọng số cạnh trung bình của đồ thị là: 0.49987883587971643\n",
      "Mật độ cạnh kì vọng ban đầu của đồ thị: 0.004924030367738544\n"
     ]
    }
   ],
   "source": [
    "random.seed(9)\n",
    "# Đọc dữ liệu từ tệp TXT\n",
    "file_path = '300267.protein.links.v12.0.txt'\n",
    "data = pd.read_csv(file_path, sep=' ')\n",
    "\n",
    "# Khởi tạo đồ thị có hướng\n",
    "G = nx.DiGraph()\n",
    "\n",
    "# Thêm các cạnh với trọng số và xác suất\n",
    "for _, row in data.iterrows():\n",
    "    protein1 = row['protein1']\n",
    "    protein2 = row['protein2']\n",
    "    combined_score = row['combined_score']\n",
    "    \n",
    "    # Giả sử xác suất được tính dựa trên combined_score\n",
    "    probability = combined_score / 1000.0  # Điều chỉnh hệ số nếu cần thiết\n",
    "\n",
    "     # Định hướng cạnh dựa trên một quy tắc ngẫu nhiên\n",
    "        \n",
    "    if random.choice([True, False]):\n",
    "        G.add_edge(protein1, protein2, probability= probability, weight= random.random())\n",
    "#     else:\n",
    "#         G.add_edge(protein2, protein1, probability= probability, weight= random.random())\n",
    "\n",
    "# # Hàm vẽ đồ thị\n",
    "# def plot_graph(G):\n",
    "#     pos = nx.spring_layout(G)  # Tạo bố cục cho đồ thị\n",
    "\n",
    "#     # Lấy thuộc tính xác suất và trọng số của các cạnh\n",
    "#     edge_probabilities = nx.get_edge_attributes(G, 'probability')\n",
    "#     edge_weights = nx.get_edge_attributes(G, 'weight')\n",
    "\n",
    "#     # Kết hợp xác suất và trọng số vào nhãn cạnh\n",
    "#     edge_labels = {edge: f\"{edge_weights[edge]:.2f}, {edge_probabilities[edge]:.2f}\" for edge in G.edges()}\n",
    "\n",
    "#     # Vẽ đồ thị\n",
    "#     nx.draw(G, pos, with_labels=True, node_color='lightblue', edge_color='red', node_size=500, font_size=8, font_weight='bold')\n",
    "#     nx.draw_networkx_edge_labels(G, pos, edge_labels=edge_labels, font_size=7)  # Hiển thị nhãn của các cạnh\n",
    "\n",
    "#     plt.title('Uncertain Weighted Directed Graph Visualization')\n",
    "#     plt.show()\n",
    "\n",
    "# # Gọi hàm để vẽ đồ thị\n",
    "# plot_graph(G)\n",
    "\n",
    "# # In các cạnh của đồ thị có hướng\n",
    "# print(\"Edges in directed graph:\")\n",
    "# for edge in G.edges(data=True):\n",
    "#     print(edge)\n",
    "print(\"Number of nodes:\", G.number_of_nodes())\n",
    "print(\"Number of edges:\", G.number_of_edges())\n",
    "\n",
    "\n",
    "# Lấy các giá trị xác suất từ các cạnh\n",
    "probabilities = [G[u][v]['probability'] for u, v in G.edges()]\n",
    "weights = [G[u][v]['weight'] for u, v in G.edges()]\n",
    "# Tính giá trị trung bình\n",
    "mean_probability = np.mean(probabilities)\n",
    "mean_weight = np.mean(weights)\n",
    "do_lech_chuan_trong_so = np.std(weights)\n",
    "\n",
    "\n",
    "# Tính độ lệch chuẩn\n",
    "std_deviation = np.std(probabilities)\n",
    "\n",
    "    \n",
    "print(\"Giá trị cạnh trung bình của đồ thị protein579138:\", mean_probability)\n",
    "print(\"Độ lệch chuẩn của của  đồ thị protein579138:\", std_deviation)\n",
    "print(\"Độ lệch chuẩn trọng số của của  đồ thị protein579138:\", do_lech_chuan_trong_so)\n",
    "print(\"Trọng số cạnh trung bình của đồ thị là:\",mean_weight)\n",
    "print(\"Mật độ cạnh kì vọng ban đầu của đồ thị:\", calculate_edge_density(G))"
   ]
  },
  {
   "cell_type": "code",
   "execution_count": 11,
   "id": "114fa60c",
   "metadata": {},
   "outputs": [
    {
     "name": "stderr",
     "output_type": "stream",
     "text": [
      "Processing: 100%|████████████████████████████████████████████████████████████████| 4134/4134 [35:45<00:00,  1.93node/s]\n"
     ]
    },
    {
     "name": "stdout",
     "output_type": "stream",
     "text": [
      "Thời gian tổng thể: 2148.3647 giây\n",
      "Thời gian vòng lặp: 2145.5570 giây\n",
      "Mật độ cạnh kì vọng của đồ thị con được tạo ra bởi thuật toán uds là: 0.21540614303728947\n",
      "Xác xuất cạnh trung bình của đồ thị con được tạo ra bởi thuật toán uds là: 0.5481180380472124\n",
      "Độ lệch chuẩn của đồ thị con được tạo ra bởi thuật toán uds là: 0.2859192792732919\n",
      "Độ lệch chuẩn trọng số của đồ thị con được tạo ra bởi thuật toán uds là: 0.2886491702540732\n",
      "Trọng số cạnh trung bình của thuật toán obs là: 0.49879835258580135\n",
      "số đỉnh của uds_wiki_vote: 183\n",
      "Số cạnh của uds_wiki_vote: 13089\n"
     ]
    }
   ],
   "source": [
    "\n",
    "uds_wiki_vote = greedy_uds(G)\n",
    "# Lấy các giá trị xác suất từ các cạnh\n",
    "probabilities = [uds_wiki_vote[u][v]['probability'] for u, v in uds_wiki_vote.edges()]\n",
    "weights = [uds_wiki_vote[u][v]['weight'] for u, v in uds_wiki_vote.edges()]\n",
    "\n",
    "# Tính giá trị trung bình\n",
    "mean_probability = np.mean(probabilities)\n",
    "mean_weight = np.mean(weights)\n",
    "\n",
    "\n",
    "# Tính độ lệch chuẩn\n",
    "std_deviation = np.std(probabilities)\n",
    "do_lech_chuan_trong_so = np.std(weights)\n",
    "print(\"Mật độ cạnh kì vọng của đồ thị con được tạo ra bởi thuật toán uds là:\",calculate_edge_density(uds_wiki_vote))\n",
    "print(\"Xác xuất cạnh trung bình của đồ thị con được tạo ra bởi thuật toán uds là:\",average_edge_probability(uds_wiki_vote))\n",
    "print(\"Độ lệch chuẩn của đồ thị con được tạo ra bởi thuật toán uds là:\", std_deviation)\n",
    "print(\"Độ lệch chuẩn trọng số của đồ thị con được tạo ra bởi thuật toán uds là:\", do_lech_chuan_trong_so)\n",
    "print(\"Trọng số cạnh trung bình của thuật toán obs là:\",mean_weight)\n",
    "print(\"số đỉnh của uds_wiki_vote:\", len(uds_wiki_vote.nodes))\n",
    "print(\"Số cạnh của uds_wiki_vote:\", len(uds_wiki_vote.edges))"
   ]
  },
  {
   "cell_type": "code",
   "execution_count": null,
   "id": "92070513",
   "metadata": {},
   "outputs": [],
   "source": []
  }
 ],
 "metadata": {
  "kernelspec": {
   "display_name": "Python 3 (ipykernel)",
   "language": "python",
   "name": "python3"
  },
  "language_info": {
   "codemirror_mode": {
    "name": "ipython",
    "version": 3
   },
   "file_extension": ".py",
   "mimetype": "text/x-python",
   "name": "python",
   "nbconvert_exporter": "python",
   "pygments_lexer": "ipython3",
   "version": "3.9.13"
  }
 },
 "nbformat": 4,
 "nbformat_minor": 5
}
