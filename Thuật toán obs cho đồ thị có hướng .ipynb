{
 "cells": [
  {
   "cell_type": "code",
   "execution_count": 1,
   "id": "23c9e2ec",
   "metadata": {},
   "outputs": [],
   "source": [
    "import networkx as nx\n",
    "import random\n",
    "import heapq\n",
    "import matplotlib.pyplot as plt\n",
    "import numpy as np\n",
    "import time\n",
    "from tqdm import tqdm\n",
    "import pandas as pd"
   ]
  },
  {
   "cell_type": "markdown",
   "id": "45de9a62",
   "metadata": {},
   "source": [
    "# import đồ thị email-Eu-core"
   ]
  },
  {
   "cell_type": "code",
   "execution_count": 4,
   "id": "e5597f20",
   "metadata": {},
   "outputs": [
    {
     "name": "stdout",
     "output_type": "stream",
     "text": [
      "Number of nodes: 1005\n",
      "Number of edges: 25571\n"
     ]
    }
   ],
   "source": [
    "# Đọc đồ thị từ file và gán xác suất ngẫu nhiên cho các cạnh\n",
    "random.seed(6)\n",
    "G = nx.DiGraph()\n",
    "\n",
    "with open('data/email-Eu-core.txt', 'r') as file:\n",
    "    for line in file:\n",
    "        if line.startswith('#'):\n",
    "            continue\n",
    "        source, target = map(int, line.split())\n",
    "        probability = random.random()  # Xác suất ngẫu nhiên giữa 0 và 1\n",
    "        weight = random.random()\n",
    "        G.add_edge(source, target, probability=probability, weight=weight)\n",
    "\n",
    "print(\"Number of nodes:\", G.number_of_nodes())\n",
    "print(\"Number of edges:\", G.number_of_edges())\n",
    "\n",
    "# Xác định các tập S và T từ các cạnh của đồ thị\n",
    "S = set()\n",
    "T = set()\n",
    "for u, v in G.edges():\n",
    "    S.add(u)\n",
    "    T.add(v)\n",
    "\n",
    "# print(\"Set S:\", S)\n",
    "# print(\"Set T:\", T)"
   ]
  },
  {
   "cell_type": "code",
   "execution_count": 5,
   "id": "b6e6507b",
   "metadata": {},
   "outputs": [
    {
     "name": "stdout",
     "output_type": "stream",
     "text": [
      "Giá trị cạnh trung bình của đồ thị protein579138: 0.49997592443758215\n",
      "Độ lệch chuẩn của của  đồ thị protein579138: 0.28853840579632817\n",
      "Trọng số cạnh trung bình của đồ thị là: 0.5008380616468823\n"
     ]
    }
   ],
   "source": [
    "\n",
    "# Lấy các giá trị xác suất từ các cạnh\n",
    "probabilities = [G[u][v]['probability'] for u, v in G.edges()]\n",
    "weights = [G[u][v]['weight'] for u, v in G.edges()]\n",
    "# Tính giá trị trung bình\n",
    "mean_probability = np.mean(probabilities)\n",
    "mean_weight = np.mean(weights)\n",
    "\n",
    "\n",
    "# Tính độ lệch chuẩn\n",
    "std_deviation = np.std(probabilities)\n",
    "\n",
    "    \n",
    "print(\"Giá trị cạnh trung bình của đồ thị protein579138:\", mean_probability)\n",
    "print(\"Độ lệch chuẩn của của  đồ thị protein579138:\", std_deviation)\n",
    "print(\"Trọng số cạnh trung bình của đồ thị là:\",mean_weight)\n",
    "\n",
    "\n"
   ]
  },
  {
   "cell_type": "code",
   "execution_count": 2,
   "id": "0fc044d4",
   "metadata": {},
   "outputs": [],
   "source": [
    "def plot_graph(G):\n",
    "    pos = nx.spring_layout(G)  # Tạo bố cục cho đồ thị\n",
    "    edge_labels = nx.get_edge_attributes(G, 'probability')  # Lấy thuộc tính xác suất của các cạnh\n",
    "\n",
    "    # Vẽ đồ thị\n",
    "    nx.draw(G, pos, with_labels=True, node_color='lightblue', edge_color='red', node_size=500, font_size=8, font_weight='bold')\n",
    "    nx.draw_networkx_edge_labels(G, pos, edge_labels=edge_labels)  # Hiển thị nhãn của các cạnh\n",
    "\n",
    "    plt.title('Uncertain Graph Visualization')\n",
    "    plt.show()\n",
    "    \n",
    "def plot_graph_v2(G):\n",
    "    pos = nx.spring_layout(G)  # Tạo bố cục cho đồ thị\n",
    "\n",
    "    # Lấy thuộc tính xác suất và trọng số của các cạnh\n",
    "    edge_probabilities = nx.get_edge_attributes(G, 'probability')\n",
    "    edge_weights = nx.get_edge_attributes(G, 'weight')\n",
    "\n",
    "    # Kết hợp xác suất và trọng số vào nhãn cạnh\n",
    "    edge_labels = {edge: f\"{edge_weights[edge]:.2f}, {edge_probabilities[edge]:.2f}\" for edge in G.edges()}\n",
    "\n",
    "    # Vẽ đồ thị\n",
    "    nx.draw(G, pos, with_labels=True, node_color='lightblue', edge_color='red', node_size=200, font_size=8, font_weight='bold')\n",
    "    nx.draw_networkx_edge_labels(G, pos, edge_labels=edge_labels, font_size=7)  # Hiển thị nhãn của các cạnh\n",
    "\n",
    "    plt.title('Uncertain Weighted Directed Graph Visualization')\n",
    "    plt.show()\n",
    "    \n",
    "def average_edge_probability(G):\n",
    "    \"\"\" Tính xác suất trung bình của các cạnh trong đồ thị G. \"\"\"\n",
    "    total_probability = sum(nx.get_edge_attributes(G, 'probability').values())\n",
    "    num_edges = G.number_of_edges()\n",
    "    return total_probability / num_edges if num_edges > 0 else 0\n",
    "\n",
    "\n",
    "def calculate_f_beta(G_S, beta):\n",
    "    \"\"\"\n",
    "    Tính giá trị f_beta cho đồ thị con G_S.\n",
    "    - G_S: Đồ thị con được kích thích từ tập hợp các đỉnh S.\n",
    "    - beta: Ngưỡng xác suất β.\n",
    "    \"\"\"\n",
    "    # Tính xác suất trung bình của cạnh trong G_S\n",
    "    p_GS = average_edge_probability(G_S)\n",
    "    \n",
    "    # Số đỉnh và số cạnh của G_S\n",
    "    num_vertices = G_S.number_of_nodes()\n",
    "    num_edges = G_S.number_of_edges()\n",
    "    \n",
    "    # Tính f_beta dựa trên công thức\n",
    "    f_beta = (p_GS - beta) * (num_edges / num_vertices if num_vertices > 0 else 0)\n",
    "    return f_beta\n",
    "\n",
    "def calculate_f_beta_v2(G_S, beta, S, T):\n",
    "    # Tính xác suất trung bình của các cạnh trong G_S\n",
    "    total_weighted = sum(G_S[u][v]['weight'] for u, v in G_S.edges())\n",
    "    num_edges = G_S.number_of_edges()\n",
    "    trong_so_trung_binh_canh = total_weighted / num_edges if num_edges > 0 else 0\n",
    "    tong_trong_so_xac_xuat = sum(G_S[u][v]['weight'] * G_S[u][v]['probability'] for u, v in G_S.edges())\n",
    "    p_GS = average_edge_probability(G_S)\n",
    "    \n",
    "    if len(S) > 0 and len(T) > 0:\n",
    "        f_beta = (p_GS * trong_so_trung_binh_canh - beta) * (num_edges / (len(S) * len(T))**0.5)\n",
    "    else:\n",
    "        f_beta = 0\n",
    "    return f_beta\n",
    "    \n",
    "\n",
    "def average_edge_probability_v2(G):\n",
    "    \"\"\"Tính xác suất trung bình của các cạnh trong đồ thị G.\"\"\"\n",
    "    total_probability = sum(nx.get_edge_attributes(G, 'probability').values())\n",
    "    num_edges = G.number_of_edges()\n",
    "    return total_probability / num_edges if num_edges > 0 else 0\n",
    "\n",
    "\n",
    "\n",
    "def surplus_degree(G, v, beta):\n",
    "    \"\"\"\n",
    "    Tính Surplus Degree của đỉnh v trong đồ thị G không sử dụng giá trị tuyệt đối.\n",
    "    \n",
    "    - G: đồ thị (V, E, p) với xác suất trên mỗi cạnh.\n",
    "    - v: đỉnh cần tính Surplus Degree.\n",
    "    - beta: tham số beta trong khoảng (0, 1).\n",
    "    \"\"\"\n",
    "    # Lấy tập các cạnh liên kết với đỉnh v\n",
    "    edges = G.edges(v, data=True)\n",
    "    \n",
    "    # Tính Surplus Degree\n",
    "    s_deg = sum(edge[2]['probability'] - beta for edge in edges)\n",
    "    \n",
    "    return s_deg\n",
    "\n",
    "def surplus_degree_v2(G, v, beta):\n",
    "    \"\"\"\n",
    "    Tính Surplus Degree của đỉnh v trong đồ thị G có trọng số và xác suất.\n",
    "    \n",
    "    - G: đồ thị (V, E, p) với trọng số và xác suất trên mỗi cạnh.\n",
    "    - v: đỉnh cần tính Surplus Degree.\n",
    "    - beta: tham số beta trong khoảng (0, 1).\n",
    "    \"\"\"\n",
    "    # Lấy các cạnh đi vào và đi ra từ đỉnh v\n",
    "    in_edges = G.in_edges(v, data=True)\n",
    "    out_edges = G.out_edges(v, data=True)\n",
    "    \n",
    "    # Tính Surplus Degree\n",
    "    s_deg_in = sum(edge[2]['weight'] * edge[2]['probability'] - edge[2]['weight'] * beta for edge in in_edges)\n",
    "    s_deg_out = sum(edge[2]['weight'] * edge[2]['probability'] - edge[2]['weight'] * beta for edge in out_edges)\n",
    "    \n",
    "    return s_deg_in + s_deg_out\n",
    "\n",
    "\n",
    "def surplus_degree_out(G, v, beta):\n",
    "    return sum(G[v][w]['weight'] *G[v][w]['probability'] - beta for w in G.successors(v) if w in G)\n",
    "\n",
    "def surplus_degree_in(G, v, beta):\n",
    "    return sum(G[u][v]['weight'] *G[u][v]['probability'] - beta for u in G.predecessors(v) if u in G)\n",
    "\n",
    "\n",
    "def initialize_priority_queue_out(G, beta):\n",
    "    \"\"\" Khởi tạo hàng đợi ưu tiên với bậc dư thừa cho mỗi đỉnh \"\"\"\n",
    "    priority_queue = []\n",
    "    for v in G.nodes():\n",
    "        sd = surplus_degree_out(G, v, beta)\n",
    "        heapq.heappush(priority_queue, (sd, v))\n",
    "        \n",
    "    return priority_queue\n",
    "\n",
    "def initialize_priority_queue_in(G, beta):\n",
    "    \"\"\" Khởi tạo hàng đợi ưu tiên với bậc dư thừa cho mỗi đỉnh \"\"\"\n",
    "    priority_queue = []\n",
    "    for v in G.nodes():\n",
    "        sd = surplus_degree_in(G, v, beta)\n",
    "        heapq.heappush(priority_queue, (sd, v))\n",
    "        \n",
    "    return priority_queue\n",
    "\n",
    "def calculate_edge_density_v2(G):\n",
    "    \"\"\"\n",
    "    Tính mật độ cạnh kỳ vọng của đồ thị G.\n",
    "    \"\"\"\n",
    "    # Assuming the function `average_edge_probability` is defined elsewhere\n",
    "    average_edge = average_edge_probability(G)\n",
    "    num_edges = G.number_of_edges()\n",
    "    \n",
    "    num_vertices = G.number_of_nodes()  # Assuming num_vertices should be the number of nodes in G\n",
    "#     num_possible_edges = num_vertices * (num_vertices - 1) / 2 \n",
    "    num_possible_edges = num_vertices * (num_vertices - 1)\n",
    "    return (average_edge * num_edges) / num_possible_edges\n",
    "\n",
    "def calculate_edge_density(G):\n",
    "    \"\"\" Tính mật độ cạnh kỳ vọng của đồ thị G. τ \"\"\"\n",
    "    num_vertices = len(G.nodes())\n",
    "    num_possible_edges = num_vertices * (num_vertices - 1)\n",
    "    sum_probabilities = sum(G[u][v]['probability'] for u, v in G.edges())\n",
    "    print(\"sum_probabilities\",sum_probabilities)\n",
    "    print(\"num_possible_edges\", num_possible_edges)\n",
    "    return sum_probabilities / num_possible_edges\n",
    "\n",
    "def calculate_edge_density_v3(G):\n",
    "    \"\"\"Tính mật độ cạnh kỳ vọng của đồ thị G. τ\"\"\"\n",
    "    num_vertices = len(G.nodes())\n",
    "    num_possible_edges = num_vertices * (num_vertices - 1) if num_vertices > 1 else 1\n",
    "    sum_weighted_probabilities = sum(G[u][v]['weight'] * G[u][v]['probability'] for u, v in G.edges())\n",
    "    return sum_weighted_probabilities / num_possible_edges\n",
    "\n",
    "def expected_density(G):\n",
    "    if G.number_of_edges() == 0:\n",
    "        return 0\n",
    "    probability_sum = sum(G[u][v]['probability'] for u, v in G.edges())\n",
    "    num_vertices = len(G.nodes())\n",
    "    return probability_sum /  num_vertices   if num_vertices > 0 else 0\n",
    "\n",
    "def expected_density_v2(G):\n",
    "    if G.number_of_edges() == 0:\n",
    "        return 0\n",
    "    probability_sum = sum(G[u][v]['probability'] for u, v in G.edges())\n",
    "    num_vertices = len(G.nodes())\n",
    "    return probability_sum /  (num_vertices*(num_vertices -1))   if num_vertices > 0 else 0\n",
    "\n",
    "def greedy_average_surplus_degree(G, beta):\n",
    "    H = G.copy()\n",
    "    S_temp = set(H.nodes())\n",
    "    T_temp = set(H.nodes())\n",
    "    best_subgraph = H.copy()\n",
    "    best_f_beta = calculate_f_beta_v2(best_subgraph, beta, S_temp, T_temp)\n",
    "\n",
    "    priority_queue_out = initialize_priority_queue_out(H, beta)\n",
    "    priority_queue_in = initialize_priority_queue_in(H, beta)\n",
    "\n",
    "    with tqdm(total=H.number_of_nodes() - 2, desc=\"Processing\", unit=\"node\") as pbar:\n",
    "        while S_temp and T_temp:\n",
    "            while priority_queue_out:\n",
    "                _, i_min = heapq.heappop(priority_queue_out)\n",
    "                if i_min in H:\n",
    "                    break\n",
    "\n",
    "            while priority_queue_in:\n",
    "                _, j_min = heapq.heappop(priority_queue_in)\n",
    "                if j_min in H:\n",
    "                    break\n",
    "\n",
    "            d_S = surplus_degree_out(H, i_min, beta) if i_min in H else float('inf')\n",
    "            d_T = surplus_degree_in(H, j_min, beta) if j_min in H else float('inf')\n",
    "            \n",
    "            if d_S <= d_T:\n",
    "                S_temp.remove(i_min)\n",
    "                H.remove_node(i_min)\n",
    "            else:\n",
    "                T_temp.remove(j_min)\n",
    "                H.remove_node(j_min)\n",
    "\n",
    "            current_f_beta = calculate_f_beta_v2(H, beta, S_temp, T_temp)\n",
    "            \n",
    "            S_temp = {u for u in S_temp if u in H}\n",
    "            T_temp = {v for v in T_temp if v in H}\n",
    "            \n",
    "            if current_f_beta > best_f_beta:\n",
    "                best_f_beta = current_f_beta\n",
    "                best_subgraph = H.copy()  # Lưu bản sao của H với mật độ cao nhất\n",
    "\n",
    "            # Cập nhật lại hàng đợi ưu tiên\n",
    "            priority_queue_out = initialize_priority_queue_out(H, beta)\n",
    "            priority_queue_in = initialize_priority_queue_in(H, beta)\n",
    "            \n",
    "            pbar.update(1)  # Cập nhật tiến trình mỗi khi một đỉnh được loại bỏ\n",
    "    \n",
    "    return best_subgraph\n"
   ]
  },
  {
   "cell_type": "markdown",
   "id": "12a28646",
   "metadata": {},
   "source": [
    "## Khi beta bằng 0.1"
   ]
  },
  {
   "cell_type": "code",
   "execution_count": 55,
   "id": "4caff0a1",
   "metadata": {},
   "outputs": [
    {
     "name": "stderr",
     "output_type": "stream",
     "text": [
      "100%|██████████████████████████████████████████████████████████████████████████████| 1003/1003 [00:46<00:00, 21.40it/s]"
     ]
    },
    {
     "name": "stdout",
     "output_type": "stream",
     "text": [
      "Mật độ kì vọng của đồ thị con do thuật toán obs sinh ra là: 22.90862654359603\n",
      "Số đỉnh trong đồ thị con của thuật toán obs  là: 208\n",
      "Số cạnh trong đồ thị con của thuật toán obs  là: 9414\n",
      "sum_probabilities 4764.994321067974\n",
      "num_possible_edges 43056\n",
      "Mật độ kì cạnh vọng của thuật toán obs  là: 0.11066969344732382\n",
      "Xác xuất cạnh trung bình của thuật toán obs là: 0.5061604335105134\n",
      " trọng số cạnh trung bình của thuật toán obs là: 0.4975614166564639\n",
      "Độ lệch chuẩn của thuật toán obs: 0.2894176798873584\n"
     ]
    },
    {
     "name": "stderr",
     "output_type": "stream",
     "text": [
      "\n"
     ]
    }
   ],
   "source": [
    "beta = 0.1\n",
    "\n",
    "ObsEmailEuCore01 = greedy_average_surplus_degree(G,beta)\n",
    "\n",
    "\n",
    "# Lấy các giá trị xác suất từ các cạnh\n",
    "probabilities = [ObsEmailEuCore01[u][v]['probability'] for u, v in ObsEmailEuCore01.edges()]\n",
    "weights = [ObsEmailEuCore01[u][v]['weight'] for u, v in ObsEmailEuCore01.edges()]\n",
    "\n",
    "# Tính giá trị trung bình\n",
    "mean_probability = np.mean(probabilities)\n",
    "mean_weight = np.mean(weights)\n",
    "\n",
    "# Tính độ lệch chuẩn\n",
    "std_deviation = np.std(probabilities)\n",
    "print(\"Mật độ kì vọng của đồ thị con do thuật toán obs sinh ra là:\", expected_density(ObsEmailEuCore01))\n",
    "print(\"Số đỉnh trong đồ thị con của thuật toán obs  là:\", ObsEmailEuCore01.number_of_nodes())\n",
    "print(\"Số cạnh trong đồ thị con của thuật toán obs  là:\", ObsEmailEuCore01.number_of_edges())\n",
    "print(\"Mật độ kì cạnh vọng của thuật toán obs  là:\",calculate_edge_density(ObsEmailEuCore01))\n",
    "print(\"Xác xuất cạnh trung bình của thuật toán obs là:\",average_edge_probability(ObsEmailEuCore01))\n",
    "print(\" trọng số cạnh trung bình của thuật toán obs là:\",mean_weight)\n",
    "print(\"Độ lệch chuẩn của thuật toán obs:\", std_deviation)"
   ]
  },
  {
   "cell_type": "markdown",
   "id": "f2e9bc21",
   "metadata": {},
   "source": [
    "## Khi beta = 0.2"
   ]
  },
  {
   "cell_type": "code",
   "execution_count": 48,
   "id": "74349516",
   "metadata": {},
   "outputs": [
    {
     "name": "stderr",
     "output_type": "stream",
     "text": [
      "Processing: 1005node [02:45,  6.06node/s]                                                                              "
     ]
    },
    {
     "name": "stdout",
     "output_type": "stream",
     "text": [
      "Mật độ kì vọng của đồ thị con do thuật toán obs sinh ra là: 17.87502077673858\n",
      "Số đỉnh trong đồ thị con của thuật toán obs  là: 257\n",
      "Số cạnh trong đồ thị con của thuật toán obs  là: 8777\n",
      "sum_probabilities 4593.880339621815\n",
      "num_possible_edges 65792\n",
      "Mật độ kì cạnh vọng của thuật toán obs  là: 0.06982429990913508\n",
      "Xác xuất cạnh trung bình của thuật toán obs là: 0.5233998336130586\n",
      " trọng số cạnh trung bình của thuật toán obs là: 0.5196830631076178\n",
      "Độ lệch chuẩn của thuật toán obs: 0.28822867961085485\n"
     ]
    },
    {
     "name": "stderr",
     "output_type": "stream",
     "text": [
      "\n"
     ]
    }
   ],
   "source": [
    "beta = 0.2\n",
    "\n",
    "ObsEmailEuCore02 = greedy_average_surplus_degree(G,beta)\n",
    "# Lấy các giá trị xác suất từ các cạnh\n",
    "probabilities = [ObsEmailEuCore02[u][v]['probability'] for u, v in ObsEmailEuCore02.edges()]\n",
    "weights = [ObsEmailEuCore02[u][v]['weight'] for u, v in ObsEmailEuCore02.edges()]\n",
    "\n",
    "# Tính giá trị trung bình\n",
    "mean_probability = np.mean(probabilities)\n",
    "mean_weight = np.mean(weights)\n",
    "\n",
    "# Tính độ lệch chuẩn\n",
    "std_deviation = np.std(probabilities)\n",
    "print(\"Mật độ kì vọng của đồ thị con do thuật toán obs sinh ra là:\", expected_density(ObsEmailEuCore02))\n",
    "print(\"Số đỉnh trong đồ thị con của thuật toán obs  là:\", ObsEmailEuCore02.number_of_nodes())\n",
    "print(\"Số cạnh trong đồ thị con của thuật toán obs  là:\", ObsEmailEuCore02.number_of_edges())\n",
    "print(\"Mật độ kì cạnh vọng của thuật toán obs  là:\",calculate_edge_density(ObsEmailEuCore02))\n",
    "print(\"Xác xuất cạnh trung bình của thuật toán obs là:\",average_edge_probability(ObsEmailEuCore02))\n",
    "print(\" trọng số cạnh trung bình của thuật toán obs là:\",mean_weight)\n",
    "print(\"Độ lệch chuẩn của thuật toán obs:\", std_deviation)\n"
   ]
  },
  {
   "cell_type": "code",
   "execution_count": 49,
   "id": "5d855402",
   "metadata": {},
   "outputs": [
    {
     "name": "stderr",
     "output_type": "stream",
     "text": [
      "Processing: 1005node [00:53, 18.80node/s]                                                                              "
     ]
    },
    {
     "name": "stdout",
     "output_type": "stream",
     "text": [
      "Mật độ kì vọng của đồ thị con do thuật toán obs sinh ra là: 1.7194434124807219\n",
      "Số đỉnh trong đồ thị con của thuật toán obs  là: 2\n",
      "Số cạnh trong đồ thị con của thuật toán obs  là: 4\n",
      "sum_probabilities 3.4388868249614437\n",
      "num_possible_edges 2\n",
      "Mật độ kì cạnh vọng của thuật toán obs  là: 1.7194434124807219\n",
      "Xác xuất cạnh trung bình của thuật toán obs là: 0.8597217062403609\n",
      " trọng số cạnh trung bình của thuật toán obs là: 0.8242070966595273\n",
      "Độ lệch chuẩn của thuật toán obs: 0.11836408907047516\n"
     ]
    },
    {
     "name": "stderr",
     "output_type": "stream",
     "text": [
      "\n"
     ]
    }
   ],
   "source": [
    "beta = 0.35\n",
    "\n",
    "ObsEmailEuCore02 = greedy_average_surplus_degree(G,beta)\n",
    "# Lấy các giá trị xác suất từ các cạnh\n",
    "probabilities = [ObsEmailEuCore02[u][v]['probability'] for u, v in ObsEmailEuCore02.edges()]\n",
    "weights = [ObsEmailEuCore02[u][v]['weight'] for u, v in ObsEmailEuCore02.edges()]\n",
    "\n",
    "# Tính giá trị trung bình\n",
    "mean_probability = np.mean(probabilities)\n",
    "mean_weight = np.mean(weights)\n",
    "\n",
    "# Tính độ lệch chuẩn\n",
    "std_deviation = np.std(probabilities)\n",
    "print(\"Mật độ kì vọng của đồ thị con do thuật toán obs sinh ra là:\", expected_density(ObsEmailEuCore02))\n",
    "print(\"Số đỉnh trong đồ thị con của thuật toán obs  là:\", ObsEmailEuCore02.number_of_nodes())\n",
    "print(\"Số cạnh trong đồ thị con của thuật toán obs  là:\", ObsEmailEuCore02.number_of_edges())\n",
    "print(\"Mật độ kì cạnh vọng của thuật toán obs  là:\",calculate_edge_density(ObsEmailEuCore02))\n",
    "print(\"Xác xuất cạnh trung bình của thuật toán obs là:\",average_edge_probability(ObsEmailEuCore02))\n",
    "print(\" trọng số cạnh trung bình của thuật toán obs là:\",mean_weight)\n",
    "print(\"Độ lệch chuẩn của thuật toán obs:\", std_deviation)\n"
   ]
  },
  {
   "cell_type": "code",
   "execution_count": 50,
   "id": "fbd6527a",
   "metadata": {},
   "outputs": [
    {
     "name": "stderr",
     "output_type": "stream",
     "text": [
      "Processing: 1005node [01:00, 16.75node/s]                                                                              "
     ]
    },
    {
     "name": "stdout",
     "output_type": "stream",
     "text": [
      "Mật độ kì vọng của đồ thị con do thuật toán obs sinh ra là: 1.7194434124807219\n",
      "Số đỉnh trong đồ thị con của thuật toán obs  là: 2\n",
      "Số cạnh trong đồ thị con của thuật toán obs  là: 4\n",
      "sum_probabilities 3.4388868249614437\n",
      "num_possible_edges 2\n",
      "Mật độ kì cạnh vọng của thuật toán obs  là: 1.7194434124807219\n",
      "Xác xuất cạnh trung bình của thuật toán obs là: 0.8597217062403609\n",
      " trọng số cạnh trung bình của thuật toán obs là: 0.8242070966595273\n",
      "Độ lệch chuẩn của thuật toán obs: 0.11836408907047516\n"
     ]
    },
    {
     "name": "stderr",
     "output_type": "stream",
     "text": [
      "\n"
     ]
    }
   ],
   "source": [
    "beta = 0.3\n",
    "\n",
    "ObsEmailEuCore02 = greedy_average_surplus_degree(G,beta)\n",
    "# Lấy các giá trị xác suất từ các cạnh\n",
    "probabilities = [ObsEmailEuCore02[u][v]['probability'] for u, v in ObsEmailEuCore02.edges()]\n",
    "weights = [ObsEmailEuCore02[u][v]['weight'] for u, v in ObsEmailEuCore02.edges()]\n",
    "\n",
    "# Tính giá trị trung bình\n",
    "mean_probability = np.mean(probabilities)\n",
    "mean_weight = np.mean(weights)\n",
    "\n",
    "# Tính độ lệch chuẩn\n",
    "std_deviation = np.std(probabilities)\n",
    "print(\"Mật độ kì vọng của đồ thị con do thuật toán obs sinh ra là:\", expected_density(ObsEmailEuCore02))\n",
    "print(\"Số đỉnh trong đồ thị con của thuật toán obs  là:\", ObsEmailEuCore02.number_of_nodes())\n",
    "print(\"Số cạnh trong đồ thị con của thuật toán obs  là:\", ObsEmailEuCore02.number_of_edges())\n",
    "print(\"Mật độ kì cạnh vọng của thuật toán obs  là:\",calculate_edge_density(ObsEmailEuCore02))\n",
    "print(\"Xác xuất cạnh trung bình của thuật toán obs là:\",average_edge_probability(ObsEmailEuCore02))\n",
    "print(\" trọng số cạnh trung bình của thuật toán obs là:\",mean_weight)\n",
    "print(\"Độ lệch chuẩn của thuật toán obs:\", std_deviation)\n"
   ]
  },
  {
   "cell_type": "code",
   "execution_count": 52,
   "id": "64d332f6",
   "metadata": {},
   "outputs": [
    {
     "name": "stderr",
     "output_type": "stream",
     "text": [
      "Processing: 1005node [00:56, 17.83node/s]                                                                              "
     ]
    },
    {
     "name": "stdout",
     "output_type": "stream",
     "text": [
      "Mật độ kì vọng của đồ thị con do thuật toán obs sinh ra là: 1.846316835197146\n",
      "Số đỉnh trong đồ thị con của thuật toán obs  là: 11\n",
      "Số cạnh trong đồ thị con của thuật toán obs  là: 27\n",
      "sum_probabilities 20.309485187168605\n",
      "num_possible_edges 110\n",
      "Mật độ kì cạnh vọng của thuật toán obs  là: 0.1846316835197146\n",
      "Xác xuất cạnh trung bình của thuật toán obs là: 0.7522031550803187\n",
      " trọng số cạnh trung bình của thuật toán obs là: 0.7987990217032347\n",
      "Độ lệch chuẩn của thuật toán obs: 0.22095945463705174\n"
     ]
    },
    {
     "name": "stderr",
     "output_type": "stream",
     "text": [
      "\n"
     ]
    }
   ],
   "source": [
    "beta = 0.27\n",
    "\n",
    "ObsEmailEuCore02 = greedy_average_surplus_degree(G,beta)\n",
    "# Lấy các giá trị xác suất từ các cạnh\n",
    "probabilities = [ObsEmailEuCore02[u][v]['probability'] for u, v in ObsEmailEuCore02.edges()]\n",
    "weights = [ObsEmailEuCore02[u][v]['weight'] for u, v in ObsEmailEuCore02.edges()]\n",
    "\n",
    "# Tính giá trị trung bình\n",
    "mean_probability = np.mean(probabilities)\n",
    "mean_weight = np.mean(weights)\n",
    "\n",
    "# Tính độ lệch chuẩn\n",
    "std_deviation = np.std(probabilities)\n",
    "print(\"Mật độ kì vọng của đồ thị con do thuật toán obs sinh ra là:\", expected_density(ObsEmailEuCore02))\n",
    "print(\"Số đỉnh trong đồ thị con của thuật toán obs  là:\", ObsEmailEuCore02.number_of_nodes())\n",
    "print(\"Số cạnh trong đồ thị con của thuật toán obs  là:\", ObsEmailEuCore02.number_of_edges())\n",
    "print(\"Mật độ kì cạnh vọng của thuật toán obs  là:\",calculate_edge_density(ObsEmailEuCore02))\n",
    "print(\"Xác xuất cạnh trung bình của thuật toán obs là:\",average_edge_probability(ObsEmailEuCore02))\n",
    "print(\" trọng số cạnh trung bình của thuật toán obs là:\",mean_weight)\n",
    "print(\"Độ lệch chuẩn của thuật toán obs:\", std_deviation)\n"
   ]
  },
  {
   "cell_type": "code",
   "execution_count": 55,
   "id": "2a593cdb",
   "metadata": {},
   "outputs": [
    {
     "name": "stderr",
     "output_type": "stream",
     "text": [
      "Processing: 1005node [01:13, 13.64node/s]                                                                              "
     ]
    },
    {
     "name": "stdout",
     "output_type": "stream",
     "text": [
      "Mật độ kì vọng của đồ thị con do thuật toán obs sinh ra là: 1.6984677061922553\n",
      "Số đỉnh trong đồ thị con của thuật toán obs  là: 11\n",
      "Số cạnh trong đồ thị con của thuật toán obs  là: 23\n",
      "sum_probabilities 18.683144768114808\n",
      "num_possible_edges 110\n",
      "Mật độ kì cạnh vọng của thuật toán obs  là: 0.1698467706192255\n",
      "Xác xuất cạnh trung bình của thuật toán obs là: 0.8123106420919481\n",
      " trọng số cạnh trung bình của thuật toán obs là: 0.7793510082919212\n",
      "Độ lệch chuẩn của thuật toán obs: 0.17931882322281406\n"
     ]
    },
    {
     "name": "stderr",
     "output_type": "stream",
     "text": [
      "\n"
     ]
    }
   ],
   "source": [
    "beta = 0.275\n",
    "\n",
    "ObsEmailEuCore02 = greedy_average_surplus_degree(G,beta)\n",
    "# Lấy các giá trị xác suất từ các cạnh\n",
    "probabilities = [ObsEmailEuCore02[u][v]['probability'] for u, v in ObsEmailEuCore02.edges()]\n",
    "weights = [ObsEmailEuCore02[u][v]['weight'] for u, v in ObsEmailEuCore02.edges()]\n",
    "\n",
    "# Tính giá trị trung bình\n",
    "mean_probability = np.mean(probabilities)\n",
    "mean_weight = np.mean(weights)\n",
    "\n",
    "# Tính độ lệch chuẩn\n",
    "std_deviation = np.std(probabilities)\n",
    "print(\"Mật độ kì vọng của đồ thị con do thuật toán obs sinh ra là:\", expected_density(ObsEmailEuCore02))\n",
    "print(\"Số đỉnh trong đồ thị con của thuật toán obs  là:\", ObsEmailEuCore02.number_of_nodes())\n",
    "print(\"Số cạnh trong đồ thị con của thuật toán obs  là:\", ObsEmailEuCore02.number_of_edges())\n",
    "print(\"Mật độ kì cạnh vọng của thuật toán obs  là:\",calculate_edge_density(ObsEmailEuCore02))\n",
    "print(\"Xác xuất cạnh trung bình của thuật toán obs là:\",average_edge_probability(ObsEmailEuCore02))\n",
    "print(\" trọng số cạnh trung bình của thuật toán obs là:\",mean_weight)\n",
    "print(\"Độ lệch chuẩn của thuật toán obs:\", std_deviation)\n"
   ]
  },
  {
   "cell_type": "code",
   "execution_count": null,
   "id": "955677fd",
   "metadata": {},
   "outputs": [
    {
     "name": "stderr",
     "output_type": "stream",
     "text": [
      "Processing:  15%|█████████▋                                                       | 150/1003 [00:30<02:09,  6.57node/s]"
     ]
    }
   ],
   "source": [
    "beta = 0.277 \n",
    "\n",
    "ObsEmailEuCore02 = greedy_average_surplus_degree(G,beta)\n",
    "# Lấy các giá trị xác suất từ các cạnh\n",
    "probabilities = [ObsEmailEuCore02[u][v]['probability'] for u, v in ObsEmailEuCore02.edges()]\n",
    "weights = [ObsEmailEuCore02[u][v]['weight'] for u, v in ObsEmailEuCore02.edges()]\n",
    "\n",
    "# Tính giá trị trung bình\n",
    "mean_probability = np.mean(probabilities)\n",
    "mean_weight = np.mean(weights)\n",
    "\n",
    "# Tính độ lệch chuẩn\n",
    "std_deviation = np.std(probabilities)\n",
    "print(\"Mật độ kì vọng của đồ thị con do thuật toán obs sinh ra là:\", expected_density(ObsEmailEuCore02))\n",
    "print(\"Số đỉnh trong đồ thị con của thuật toán obs  là:\", ObsEmailEuCore02.number_of_nodes())\n",
    "print(\"Số cạnh trong đồ thị con của thuật toán obs  là:\", ObsEmailEuCore02.number_of_edges())\n",
    "print(\"Mật độ kì cạnh vọng của thuật toán obs  là:\",calculate_edge_density(ObsEmailEuCore02))\n",
    "print(\"Xác xuất cạnh trung bình của thuật toán obs là:\",average_edge_probability(ObsEmailEuCore02))\n",
    "print(\" trọng số cạnh trung bình của thuật toán obs là:\",mean_weight)\n",
    "print(\"Độ lệch chuẩn của thuật toán obs:\", std_deviation)\n"
   ]
  },
  {
   "cell_type": "code",
   "execution_count": 53,
   "id": "ed24e3d7",
   "metadata": {},
   "outputs": [
    {
     "name": "stderr",
     "output_type": "stream",
     "text": [
      "Processing: 1005node [00:58, 17.17node/s]                                                                              "
     ]
    },
    {
     "name": "stdout",
     "output_type": "stream",
     "text": [
      "Mật độ kì vọng của đồ thị con do thuật toán obs sinh ra là: 1.7194434124807219\n",
      "Số đỉnh trong đồ thị con của thuật toán obs  là: 2\n",
      "Số cạnh trong đồ thị con của thuật toán obs  là: 4\n",
      "sum_probabilities 3.4388868249614437\n",
      "num_possible_edges 2\n",
      "Mật độ kì cạnh vọng của thuật toán obs  là: 1.7194434124807219\n",
      "Xác xuất cạnh trung bình của thuật toán obs là: 0.8597217062403609\n",
      " trọng số cạnh trung bình của thuật toán obs là: 0.8242070966595273\n",
      "Độ lệch chuẩn của thuật toán obs: 0.11836408907047516\n"
     ]
    },
    {
     "name": "stderr",
     "output_type": "stream",
     "text": [
      "\n"
     ]
    }
   ],
   "source": [
    "beta = 0.28\n",
    "\n",
    "ObsEmailEuCore02 = greedy_average_surplus_degree(G,beta)\n",
    "# Lấy các giá trị xác suất từ các cạnh\n",
    "probabilities = [ObsEmailEuCore02[u][v]['probability'] for u, v in ObsEmailEuCore02.edges()]\n",
    "weights = [ObsEmailEuCore02[u][v]['weight'] for u, v in ObsEmailEuCore02.edges()]\n",
    "\n",
    "# Tính giá trị trung bình\n",
    "mean_probability = np.mean(probabilities)\n",
    "mean_weight = np.mean(weights)\n",
    "\n",
    "# Tính độ lệch chuẩn\n",
    "std_deviation = np.std(probabilities)\n",
    "print(\"Mật độ kì vọng của đồ thị con do thuật toán obs sinh ra là:\", expected_density(ObsEmailEuCore02))\n",
    "print(\"Số đỉnh trong đồ thị con của thuật toán obs  là:\", ObsEmailEuCore02.number_of_nodes())\n",
    "print(\"Số cạnh trong đồ thị con của thuật toán obs  là:\", ObsEmailEuCore02.number_of_edges())\n",
    "print(\"Mật độ kì cạnh vọng của thuật toán obs  là:\",calculate_edge_density(ObsEmailEuCore02))\n",
    "print(\"Xác xuất cạnh trung bình của thuật toán obs là:\",average_edge_probability(ObsEmailEuCore02))\n",
    "print(\" trọng số cạnh trung bình của thuật toán obs là:\",mean_weight)\n",
    "print(\"Độ lệch chuẩn của thuật toán obs:\", std_deviation)\n"
   ]
  },
  {
   "cell_type": "code",
   "execution_count": 54,
   "id": "1964a2b6",
   "metadata": {},
   "outputs": [
    {
     "name": "stderr",
     "output_type": "stream",
     "text": [
      "Processing: 1005node [01:03, 15.90node/s]                                                                              "
     ]
    },
    {
     "name": "stdout",
     "output_type": "stream",
     "text": [
      "Mật độ kì vọng của đồ thị con do thuật toán obs sinh ra là: 1.7194434124807219\n",
      "Số đỉnh trong đồ thị con của thuật toán obs  là: 2\n",
      "Số cạnh trong đồ thị con của thuật toán obs  là: 4\n",
      "sum_probabilities 3.4388868249614437\n",
      "num_possible_edges 2\n",
      "Mật độ kì cạnh vọng của thuật toán obs  là: 1.7194434124807219\n",
      "Xác xuất cạnh trung bình của thuật toán obs là: 0.8597217062403609\n",
      " trọng số cạnh trung bình của thuật toán obs là: 0.8242070966595273\n",
      "Độ lệch chuẩn của thuật toán obs: 0.11836408907047516\n"
     ]
    },
    {
     "name": "stderr",
     "output_type": "stream",
     "text": [
      "\n"
     ]
    }
   ],
   "source": [
    "beta = 0.29\n",
    "\n",
    "ObsEmailEuCore02 = greedy_average_surplus_degree(G,beta)\n",
    "# Lấy các giá trị xác suất từ các cạnh\n",
    "probabilities = [ObsEmailEuCore02[u][v]['probability'] for u, v in ObsEmailEuCore02.edges()]\n",
    "weights = [ObsEmailEuCore02[u][v]['weight'] for u, v in ObsEmailEuCore02.edges()]\n",
    "\n",
    "# Tính giá trị trung bình\n",
    "mean_probability = np.mean(probabilities)\n",
    "mean_weight = np.mean(weights)\n",
    "\n",
    "# Tính độ lệch chuẩn\n",
    "std_deviation = np.std(probabilities)\n",
    "print(\"Mật độ kì vọng của đồ thị con do thuật toán obs sinh ra là:\", expected_density(ObsEmailEuCore02))\n",
    "print(\"Số đỉnh trong đồ thị con của thuật toán obs  là:\", ObsEmailEuCore02.number_of_nodes())\n",
    "print(\"Số cạnh trong đồ thị con của thuật toán obs  là:\", ObsEmailEuCore02.number_of_edges())\n",
    "print(\"Mật độ kì cạnh vọng của thuật toán obs  là:\",calculate_edge_density(ObsEmailEuCore02))\n",
    "print(\"Xác xuất cạnh trung bình của thuật toán obs là:\",average_edge_probability(ObsEmailEuCore02))\n",
    "print(\" trọng số cạnh trung bình của thuật toán obs là:\",mean_weight)\n",
    "print(\"Độ lệch chuẩn của thuật toán obs:\", std_deviation)\n"
   ]
  },
  {
   "cell_type": "code",
   "execution_count": null,
   "id": "e73db28d",
   "metadata": {},
   "outputs": [],
   "source": []
  },
  {
   "cell_type": "code",
   "execution_count": 51,
   "id": "4acc5ccb",
   "metadata": {},
   "outputs": [
    {
     "name": "stderr",
     "output_type": "stream",
     "text": [
      "Processing: 1005node [01:36, 10.41node/s]                                                                              "
     ]
    },
    {
     "name": "stdout",
     "output_type": "stream",
     "text": [
      "Mật độ kì vọng của đồ thị con do thuật toán obs sinh ra là: 5.24628135701621\n",
      "Số đỉnh trong đồ thị con của thuật toán obs  là: 92\n",
      "Số cạnh trong đồ thị con của thuật toán obs  là: 822\n",
      "sum_probabilities 482.6578848454913\n",
      "num_possible_edges 8372\n",
      "Mật độ kì cạnh vọng của thuật toán obs  là: 0.057651443483694616\n",
      "Xác xuất cạnh trung bình của thuật toán obs là: 0.5871750423911086\n",
      " trọng số cạnh trung bình của thuật toán obs là: 0.6031150377141511\n",
      "Độ lệch chuẩn của thuật toán obs: 0.28855593655170775\n"
     ]
    },
    {
     "name": "stderr",
     "output_type": "stream",
     "text": [
      "\n"
     ]
    }
   ],
   "source": [
    "beta = 0.25\n",
    "\n",
    "ObsEmailEuCore02 = greedy_average_surplus_degree(G,beta)\n",
    "# Lấy các giá trị xác suất từ các cạnh\n",
    "probabilities = [ObsEmailEuCore02[u][v]['probability'] for u, v in ObsEmailEuCore02.edges()]\n",
    "weights = [ObsEmailEuCore02[u][v]['weight'] for u, v in ObsEmailEuCore02.edges()]\n",
    "\n",
    "# Tính giá trị trung bình\n",
    "mean_probability = np.mean(probabilities)\n",
    "mean_weight = np.mean(weights)\n",
    "\n",
    "# Tính độ lệch chuẩn\n",
    "std_deviation = np.std(probabilities)\n",
    "print(\"Mật độ kì vọng của đồ thị con do thuật toán obs sinh ra là:\", expected_density(ObsEmailEuCore02))\n",
    "print(\"Số đỉnh trong đồ thị con của thuật toán obs  là:\", ObsEmailEuCore02.number_of_nodes())\n",
    "print(\"Số cạnh trong đồ thị con của thuật toán obs  là:\", ObsEmailEuCore02.number_of_edges())\n",
    "print(\"Mật độ kì cạnh vọng của thuật toán obs  là:\",calculate_edge_density(ObsEmailEuCore02))\n",
    "print(\"Xác xuất cạnh trung bình của thuật toán obs là:\",average_edge_probability(ObsEmailEuCore02))\n",
    "print(\" trọng số cạnh trung bình của thuật toán obs là:\",mean_weight)\n",
    "print(\"Độ lệch chuẩn của thuật toán obs:\", std_deviation)\n"
   ]
  },
  {
   "cell_type": "markdown",
   "id": "bc2a0c5d",
   "metadata": {},
   "source": [
    "## Khi beta = 0.4"
   ]
  },
  {
   "cell_type": "code",
   "execution_count": 29,
   "id": "04c51f24",
   "metadata": {},
   "outputs": [
    {
     "name": "stderr",
     "output_type": "stream",
     "text": [
      "Processing: 1005node [00:43, 23.19node/s]                                                                              "
     ]
    },
    {
     "name": "stdout",
     "output_type": "stream",
     "text": [
      "Mật độ kì vọng của đồ thị con do thuật toán obs sinh ra là: 1.3362078994078095\n",
      "Số đỉnh trong đồ thị con của thuật toán obs  là: 4\n",
      "Số cạnh trong đồ thị con của thuật toán obs  là: 6\n",
      "sum_probabilities 5.344831597631238\n",
      "num_possible_edges 12\n",
      "Mật độ kì cạnh vọng của thuật toán obs  là: 0.4454026331359365\n",
      "Xác xuất cạnh trung bình của thuật toán obs là: 0.890805266271873\n",
      " trọng số cạnh trung bình của thuật toán obs là: 0.8552832962351243\n",
      "Độ lệch chuẩn của thuật toán obs: 0.10629224646257118\n"
     ]
    },
    {
     "name": "stderr",
     "output_type": "stream",
     "text": [
      "\n"
     ]
    }
   ],
   "source": [
    "beta = 0.4\n",
    "\n",
    "ObsEmailEuCore04 = greedy_average_surplus_degree(G,beta)\n",
    "# Lấy các giá trị xác suất từ các cạnh\n",
    "probabilities = [ObsEmailEuCore04[u][v]['probability'] for u, v in ObsEmailEuCore04.edges()]\n",
    "weights = [ObsEmailEuCore04[u][v]['weight'] for u, v in ObsEmailEuCore04.edges()]\n",
    "\n",
    "# Tính giá trị trung bình\n",
    "mean_probability = np.mean(probabilities)\n",
    "mean_weight = np.mean(weights)\n",
    "\n",
    "# Tính độ lệch chuẩn\n",
    "std_deviation = np.std(probabilities)\n",
    "print(\"Mật độ kì vọng của đồ thị con do thuật toán obs sinh ra là:\", expected_density(ObsEmailEuCore04))\n",
    "print(\"Số đỉnh trong đồ thị con của thuật toán obs  là:\", ObsEmailEuCore04.number_of_nodes())\n",
    "print(\"Số cạnh trong đồ thị con của thuật toán obs  là:\", ObsEmailEuCore04.number_of_edges())\n",
    "print(\"Mật độ kì cạnh vọng của thuật toán obs  là:\",calculate_edge_density(ObsEmailEuCore04))\n",
    "print(\"Xác xuất cạnh trung bình của thuật toán obs là:\",average_edge_probability(ObsEmailEuCore04))\n",
    "print(\" trọng số cạnh trung bình của thuật toán obs là:\",mean_weight)\n",
    "print(\"Độ lệch chuẩn của thuật toán obs:\", std_deviation)\n"
   ]
  },
  {
   "cell_type": "code",
   "execution_count": 30,
   "id": "34e19df0",
   "metadata": {},
   "outputs": [
    {
     "data": {
      "image/png": "[encoded data removed]",
      "text/plain": [
       "<Figure size 640x480 with 1 Axes>"
      ]
     },
     "metadata": {},
     "output_type": "display_data"
    }
   ],
   "source": [
    "plot_graph_v2(ObsEmailEuCore04)"
   ]
  },
  {
   "cell_type": "markdown",
   "id": "b2dc690f",
   "metadata": {},
   "source": [
    "## Khi beta = 0.6"
   ]
  },
  {
   "cell_type": "code",
   "execution_count": 34,
   "id": "ddde1c3f",
   "metadata": {},
   "outputs": [
    {
     "name": "stderr",
     "output_type": "stream",
     "text": [
      "Processing: 1005node [00:40, 24.79node/s]                                                                              "
     ]
    },
    {
     "name": "stdout",
     "output_type": "stream",
     "text": [
      "Số đỉnh trong đồ thị con của thuật toán obs  là: 2\n",
      "Số cạnh trong đồ thị con của thuật toán obs  là: 4\n",
      "sum_probabilities 3.4100459837663717\n",
      "num_possible_edges 2\n",
      "Mật độ kì cạnh vọng của thuật toán obs  là: 1.7050229918831858\n",
      "Xác xuất cạnh trung bình của thuật toán obs là: 0.8525114959415929\n",
      " trọng số cạnh trung bình của thuật toán obs là: 0.3933528955779124\n",
      "Độ lệch chuẩn của thuật toán obs: 0.07783985821730238\n"
     ]
    },
    {
     "name": "stderr",
     "output_type": "stream",
     "text": [
      "\n"
     ]
    }
   ],
   "source": [
    "beta = 0.6\n",
    "\n",
    "ObsEmailEuCore06 = greedy_average_surplus_degree(G,beta)\n",
    "# Lấy các giá trị xác suất từ các cạnh\n",
    "probabilities = [ObsEmailEuCore06[u][v]['probability'] for u, v in ObsEmailEuCore06.edges()]\n",
    "weights = [ObsEmailEuCore06[u][v]['weight'] for u, v in ObsEmailEuCore06.edges()]\n",
    "\n",
    "# Tính giá trị trung bình\n",
    "mean_probability = np.mean(probabilities)\n",
    "mean_weight = np.mean(weights)\n",
    "\n",
    "# Tính độ lệch chuẩn\n",
    "std_deviation = np.std(probabilities)\n",
    "# print(\"Mật độ kì vọng của đồ thị con do thuật toán obs sinh ra là:\", expected_density(ObsEmailEuCore06))\n",
    "print(\"Số đỉnh trong đồ thị con của thuật toán obs  là:\", ObsEmailEuCore06.number_of_nodes())\n",
    "print(\"Số cạnh trong đồ thị con của thuật toán obs  là:\", ObsEmailEuCore06.number_of_edges())\n",
    "print(\"Mật độ kì cạnh vọng của thuật toán obs  là:\",calculate_edge_density(ObsEmailEuCore06))\n",
    "print(\"Xác xuất cạnh trung bình của thuật toán obs là:\",average_edge_probability(ObsEmailEuCore06))\n",
    "print(\" trọng số cạnh trung bình của thuật toán obs là:\",mean_weight)\n",
    "print(\"Độ lệch chuẩn của thuật toán obs:\", std_deviation)\n"
   ]
  },
  {
   "cell_type": "code",
   "execution_count": 25,
   "id": "b8b1d0de",
   "metadata": {},
   "outputs": [],
   "source": [
    "# Lưu đồ thị\n",
    "nx.write_gexf(ObsEmailEuCore06, \"ObsEmailEuCore06.gexf\")\n"
   ]
  },
  {
   "cell_type": "markdown",
   "id": "a999f040",
   "metadata": {},
   "source": [
    "## Khi beta = 0.8"
   ]
  },
  {
   "cell_type": "code",
   "execution_count": 60,
   "id": "a2c0f10c",
   "metadata": {},
   "outputs": [
    {
     "name": "stderr",
     "output_type": "stream",
     "text": [
      "100%|██████████████████████████████████████████████████████████████████████████████| 1003/1003 [00:13<00:00, 76.22it/s]"
     ]
    },
    {
     "name": "stdout",
     "output_type": "stream",
     "text": [
      "Mật độ kì vọng của đồ thị con do thuật toán obs sinh ra là: 1.2044068968402208\n",
      "Số đỉnh trong đồ thị con của thuật toán obs  là: 4\n",
      "Số cạnh trong đồ thị con của thuật toán obs  là: 5\n",
      "sum_probabilities 4.817627587360883\n",
      "num_possible_edges 12\n",
      "Mật độ kì cạnh vọng của thuật toán obs  là: 0.40146896561340695\n",
      "Xác xuất cạnh trung bình của thuật toán obs là: 0.9635255174721766\n",
      " trọng số cạnh trung bình của thuật toán obs là: 0.4395060410096788\n",
      "Độ lệch chuẩn của thuật toán obs: 0.04959977923460279\n"
     ]
    },
    {
     "name": "stderr",
     "output_type": "stream",
     "text": [
      "\n"
     ]
    }
   ],
   "source": [
    "beta = 0.8\n",
    "\n",
    "ObsEmailEuCore08 = greedy_average_surplus_degree(G,beta)\n",
    "# Lấy các giá trị xác suất từ các cạnh\n",
    "probabilities = [ObsEmailEuCore08[u][v]['probability'] for u, v in ObsEmailEuCore08.edges()]\n",
    "weights = [ObsEmailEuCore08[u][v]['weight'] for u, v in ObsEmailEuCore08.edges()]\n",
    "\n",
    "# Tính giá trị trung bình\n",
    "mean_probability = np.mean(probabilities)\n",
    "mean_weight = np.mean(weights)\n",
    "\n",
    "# Tính độ lệch chuẩn\n",
    "std_deviation = np.std(probabilities)\n",
    "print(\"Mật độ kì vọng của đồ thị con do thuật toán obs sinh ra là:\", expected_density(ObsEmailEuCore08))\n",
    "print(\"Số đỉnh trong đồ thị con của thuật toán obs  là:\", ObsEmailEuCore08.number_of_nodes())\n",
    "print(\"Số cạnh trong đồ thị con của thuật toán obs  là:\", ObsEmailEuCore08.number_of_edges())\n",
    "print(\"Mật độ kì cạnh vọng của thuật toán obs  là:\",calculate_edge_density(ObsEmailEuCore08))\n",
    "print(\"Xác xuất cạnh trung bình của thuật toán obs là:\",average_edge_probability(ObsEmailEuCore08))\n",
    "print(\" trọng số cạnh trung bình của thuật toán obs là:\",mean_weight)\n",
    "print(\"Độ lệch chuẩn của thuật toán obs:\", std_deviation)\n"
   ]
  },
  {
   "cell_type": "code",
   "execution_count": 63,
   "id": "81632e3c",
   "metadata": {},
   "outputs": [
    {
     "data": {
      "image/png": "[encoded data removed]",
      "text/plain": [
       "<Figure size 640x480 with 1 Axes>"
      ]
     },
     "metadata": {},
     "output_type": "display_data"
    }
   ],
   "source": [
    "plot_graph_v2(obs_06)"
   ]
  },
  {
   "cell_type": "markdown",
   "id": "026a4f42",
   "metadata": {},
   "source": [
    "# Đối với đồ thị protein 1736402.protein.links\n",
    "\n"
   ]
  },
  {
   "cell_type": "code",
   "execution_count": 3,
   "id": "5e20368c",
   "metadata": {},
   "outputs": [
    {
     "name": "stdout",
     "output_type": "stream",
     "text": [
      "Number of nodes: 3082\n",
      "Number of edges: 315247\n",
      "Giá trị cạnh trung bình của đồ thị protein579138: 0.2812061907012597\n",
      "Độ lệch chuẩn của của  đồ thị protein579138: 0.18194945319649977\n",
      "Độ lệch chuẩn trọng số của đồ thị con được tạo ra bởi thuật toán uds là: 0.28855910003547514\n",
      "Trọng số cạnh trung bình của đồ thị là: 0.49985353210339717\n",
      "sum_probabilities 88649.408\n",
      "num_possible_edges 9495642\n",
      "Mật độ kì cạnh vọng là: 0.009335799306671418\n"
     ]
    }
   ],
   "source": [
    "random.seed(9)\n",
    "\n",
    "# Đọc dữ liệu từ tệp TXT\n",
    "file_path = 'data/1736402.protein.links.v12.0.txt'\n",
    "data = pd.read_csv(file_path, sep=' ')\n",
    "\n",
    "# Khởi tạo đồ thị có hướng\n",
    "G = nx.DiGraph()\n",
    "\n",
    "# Thêm các cạnh với trọng số và xác suất\n",
    "for _, row in data.iterrows():\n",
    "    protein1 = row['protein1']\n",
    "    protein2 = row['protein2']\n",
    "    combined_score = row['combined_score']\n",
    "    \n",
    "    # Giả sử xác suất được tính dựa trên combined_score\n",
    "    probability = combined_score / 1000.0  # Điều chỉnh hệ số nếu cần thiết\n",
    "\n",
    "     # Định hướng cạnh dựa trên một quy tắc ngẫu nhiên\n",
    "    if random.choice([True, False]):\n",
    "        G.add_edge(protein1, protein2, probability= probability, weight=random.random())\n",
    "#     else:\n",
    "#         G.add_edge(protein2, protein1, probability= probability, weight=random.randint(1, 10))\n",
    "\n",
    "# # Hàm vẽ đồ thị\n",
    "# def plot_graph(G):\n",
    "#     pos = nx.spring_layout(G)  # Tạo bố cục cho đồ thị\n",
    "\n",
    "#     # Lấy thuộc tính xác suất và trọng số của các cạnh\n",
    "#     edge_probabilities = nx.get_edge_attributes(G, 'probability')\n",
    "#     edge_weights = nx.get_edge_attributes(G, 'weight')\n",
    "\n",
    "#     # Kết hợp xác suất và trọng số vào nhãn cạnh\n",
    "#     edge_labels = {edge: f\"{edge_weights[edge]:.2f}, {edge_probabilities[edge]:.2f}\" for edge in G.edges()}\n",
    "\n",
    "#     # Vẽ đồ thị\n",
    "#     nx.draw(G, pos, with_labels=True, node_color='lightblue', edge_color='red', node_size=500, font_size=8, font_weight='bold')\n",
    "#     nx.draw_networkx_edge_labels(G, pos, edge_labels=edge_labels, font_size=7)  # Hiển thị nhãn của các cạnh\n",
    "\n",
    "#     plt.title('Uncertain Weighted Directed Graph Visualization')\n",
    "#     plt.show()\n",
    "\n",
    "# # Gọi hàm để vẽ đồ thị\n",
    "# plot_graph(G)\n",
    "\n",
    "# # In các cạnh của đồ thị có hướng\n",
    "# print(\"Edges in directed graph:\")\n",
    "# for edge in G.edges(data=True):\n",
    "#     print(edge)\n",
    "print(\"Number of nodes:\", G.number_of_nodes())\n",
    "print(\"Number of edges:\", G.number_of_edges())\n",
    "\n",
    "\n",
    "\n",
    "# Lấy các giá trị xác suất từ các cạnh\n",
    "probabilities = [G[u][v]['probability'] for u, v in G.edges()]\n",
    "weights = [G[u][v]['weight'] for u, v in G.edges()]\n",
    "# Tính giá trị trung bình\n",
    "mean_probability = np.mean(probabilities)\n",
    "mean_weight = np.mean(weights)\n",
    "\n",
    "\n",
    "# Tính độ lệch chuẩn\n",
    "std_deviation = np.std(probabilities)\n",
    "do_lech_chuan_trong_so = np.std(weights)\n",
    "\n",
    "    \n",
    "print(\"Giá trị cạnh trung bình của đồ thị protein579138:\", mean_probability)\n",
    "print(\"Độ lệch chuẩn của của  đồ thị protein579138:\", std_deviation)\n",
    "print(\"Độ lệch chuẩn trọng số của đồ thị con được tạo ra bởi thuật toán uds là:\", do_lech_chuan_trong_so)\n",
    "print(\"Trọng số cạnh trung bình của đồ thị là:\",mean_weight)\n",
    "print(\"Mật độ kì cạnh vọng là:\",calculate_edge_density(G))\n",
    "\n",
    "\n"
   ]
  },
  {
   "cell_type": "code",
   "execution_count": 4,
   "id": "2e89b176-794c-4c88-be3a-7af15f35b771",
   "metadata": {},
   "outputs": [
    {
     "name": "stdout",
     "output_type": "stream",
     "text": [
      "0.49985353210339717\n"
     ]
    }
   ],
   "source": [
    "total_weighted = sum(G[u][v]['weight'] for u, v in G.edges())\n",
    "num_edges = G.number_of_edges()\n",
    "trong_so_trung_binh_canh = total_weighted / num_edges if num_edges > 0 else 0\n",
    "print(trong_so_trung_binh_canh)"
   ]
  },
  {
   "cell_type": "code",
   "execution_count": 5,
   "id": "4ec387ec-b67a-45dd-9d9f-6222bc2d6a98",
   "metadata": {},
   "outputs": [
    {
     "name": "stderr",
     "output_type": "stream",
     "text": [
      "Processing: 3082node [48:18,  1.06node/s]                                                                              \n"
     ]
    },
    {
     "name": "stdout",
     "output_type": "stream",
     "text": [
      "Số đỉnh trong đồ thị con của thuật toán obs  là: 121\n",
      "Số cạnh trong đồ thị con của thuật toán obs  là: 6380\n",
      "sum_probabilities 5007.157\n",
      "num_possible_edges 14520\n",
      "Mật độ kì cạnh vọng của thuật toán obs  là: 0.34484552341597796\n",
      "Xác xuất cạnh trung bình của thuật toán obs là: 0.7848208463949844\n",
      " trọng số cạnh trung bình của thuật toán obs là: 0.5063264480473177\n",
      "Độ lệch chuẩn của thuật toán obs: 0.24512968297954763\n"
     ]
    },
    {
     "name": "stderr",
     "output_type": "stream",
     "text": [
      "Processing: 3082node [26:22,  1.95node/s]                                                                              \n"
     ]
    },
    {
     "name": "stdout",
     "output_type": "stream",
     "text": [
      "Số đỉnh trong đồ thị con của thuật toán obs  là: 93\n",
      "Số cạnh trong đồ thị con của thuật toán obs  là: 4092\n",
      "sum_probabilities 3585.913\n",
      "num_possible_edges 8556\n",
      "Mật độ kì cạnh vọng của thuật toán obs  là: 0.41911091631603553\n",
      "Xác xuất cạnh trung bình của thuật toán obs là: 0.8763228250244379\n",
      " trọng số cạnh trung bình của thuật toán obs là: 0.505747244740056\n",
      "Độ lệch chuẩn của thuật toán obs: 0.18119532144410175\n"
     ]
    },
    {
     "name": "stderr",
     "output_type": "stream",
     "text": [
      "Processing: 3082node [22:17,  2.30node/s]                                                                              \n"
     ]
    },
    {
     "name": "stdout",
     "output_type": "stream",
     "text": [
      "Số đỉnh trong đồ thị con của thuật toán obs  là: 75\n",
      "Số cạnh trong đồ thị con của thuật toán obs  là: 2780\n",
      "sum_probabilities 2590.806\n",
      "num_possible_edges 5550\n",
      "Mật độ kì cạnh vọng của thuật toán obs  là: 0.4668118918918919\n",
      "Xác xuất cạnh trung bình của thuật toán obs là: 0.9319446043165468\n",
      " trọng số cạnh trung bình của thuật toán obs là: 0.5068253957020605\n",
      "Độ lệch chuẩn của thuật toán obs: 0.12436823004106985\n"
     ]
    },
    {
     "name": "stderr",
     "output_type": "stream",
     "text": [
      "Processing: 3082node [21:16,  2.42node/s]                                                                              \n"
     ]
    },
    {
     "name": "stdout",
     "output_type": "stream",
     "text": [
      "Số đỉnh trong đồ thị con của thuật toán obs  là: 38\n",
      "Số cạnh trong đồ thị con của thuật toán obs  là: 729\n",
      "sum_probabilities 706.086\n",
      "num_possible_edges 1406\n",
      "Mật độ kì cạnh vọng của thuật toán obs  là: 0.5021948790896159\n",
      "Xác xuất cạnh trung bình của thuật toán obs là: 0.9685679012345679\n",
      " trọng số cạnh trung bình của thuật toán obs là: 0.5510400355112608\n",
      "Độ lệch chuẩn của thuật toán obs: 0.07270292908106885\n"
     ]
    },
    {
     "name": "stderr",
     "output_type": "stream",
     "text": [
      "Processing: 3082node [20:51,  2.46node/s]                                                                              \n"
     ]
    },
    {
     "name": "stdout",
     "output_type": "stream",
     "text": [
      "Số đỉnh trong đồ thị con của thuật toán obs  là: 9\n",
      "Số cạnh trong đồ thị con của thuật toán obs  là: 17\n",
      "sum_probabilities 16.31\n",
      "num_possible_edges 72\n",
      "Mật độ kì cạnh vọng của thuật toán obs  là: 0.22652777777777777\n",
      "Xác xuất cạnh trung bình của thuật toán obs là: 0.9594117647058823\n",
      " trọng số cạnh trung bình của thuật toán obs là: 0.7755934710214828\n",
      "Độ lệch chuẩn của thuật toán obs: 0.032289242104907655\n"
     ]
    },
    {
     "name": "stderr",
     "output_type": "stream",
     "text": [
      "Processing: 3082node [20:46,  2.47node/s]                                                                              \n"
     ]
    },
    {
     "name": "stdout",
     "output_type": "stream",
     "text": [
      "Số đỉnh trong đồ thị con của thuật toán obs  là: 2\n",
      "Số cạnh trong đồ thị con của thuật toán obs  là: 2\n",
      "sum_probabilities 1.998\n",
      "num_possible_edges 2\n",
      "Mật độ kì cạnh vọng của thuật toán obs  là: 0.999\n",
      "Xác xuất cạnh trung bình của thuật toán obs là: 0.999\n",
      " trọng số cạnh trung bình của thuật toán obs là: 0.9136050849684584\n",
      "Độ lệch chuẩn của thuật toán obs: 0.0\n"
     ]
    },
    {
     "name": "stderr",
     "output_type": "stream",
     "text": [
      "Processing: 3082node [20:38,  2.49node/s]                                                                              \n"
     ]
    },
    {
     "name": "stdout",
     "output_type": "stream",
     "text": [
      "Số đỉnh trong đồ thị con của thuật toán obs  là: 4\n",
      "Số cạnh trong đồ thị con của thuật toán obs  là: 4\n",
      "sum_probabilities 3.782\n",
      "num_possible_edges 12\n",
      "Mật độ kì cạnh vọng của thuật toán obs  là: 0.31516666666666665\n",
      "Xác xuất cạnh trung bình của thuật toán obs là: 0.9455\n",
      " trọng số cạnh trung bình của thuật toán obs là: 0.8450071553788747\n",
      "Độ lệch chuẩn của thuật toán obs: 0.04849999999999999\n"
     ]
    },
    {
     "name": "stderr",
     "output_type": "stream",
     "text": [
      "Processing: 3082node [19:46,  2.60node/s]                                                                              \n"
     ]
    },
    {
     "name": "stdout",
     "output_type": "stream",
     "text": [
      "Số đỉnh trong đồ thị con của thuật toán obs  là: 2\n",
      "Số cạnh trong đồ thị con của thuật toán obs  là: 2\n",
      "sum_probabilities 1.998\n",
      "num_possible_edges 2\n",
      "Mật độ kì cạnh vọng của thuật toán obs  là: 0.999\n",
      "Xác xuất cạnh trung bình của thuật toán obs là: 0.999\n",
      " trọng số cạnh trung bình của thuật toán obs là: 0.9136050849684584\n",
      "Độ lệch chuẩn của thuật toán obs: 0.0\n"
     ]
    },
    {
     "name": "stderr",
     "output_type": "stream",
     "text": [
      "Processing: 3082node [20:13,  2.54node/s]                                                                              "
     ]
    },
    {
     "name": "stdout",
     "output_type": "stream",
     "text": [
      "Số đỉnh trong đồ thị con của thuật toán obs  là: 218\n",
      "Số cạnh trong đồ thị con của thuật toán obs  là: 2\n",
      "sum_probabilities 1.952\n",
      "num_possible_edges 47306\n",
      "Mật độ kì cạnh vọng của thuật toán obs  là: 4.126326470215194e-05\n",
      "Xác xuất cạnh trung bình của thuật toán obs là: 0.976\n",
      " trọng số cạnh trung bình của thuật toán obs là: 0.9825727145061721\n",
      "Độ lệch chuẩn của thuật toán obs: 0.02200000000000002\n"
     ]
    },
    {
     "name": "stderr",
     "output_type": "stream",
     "text": [
      "\n"
     ]
    }
   ],
   "source": [
    "beta = 0.1\n",
    "\n",
    "Obs511145Protein06 = greedy_average_surplus_degree(G,beta)\n",
    "# Lấy các giá trị xác suất từ các cạnh\n",
    "probabilities = [Obs511145Protein06[u][v]['probability'] for u, v in Obs511145Protein06.edges()]\n",
    "weights = [Obs511145Protein06[u][v]['weight'] for u, v in Obs511145Protein06.edges()]\n",
    "\n",
    "# Tính giá trị trung bình\n",
    "mean_probability = np.mean(probabilities)\n",
    "mean_weight = np.mean(weights)\n",
    "\n",
    "# Tính độ lệch chuẩn\n",
    "std_deviation = np.std(probabilities)\n",
    "# print(\"Mật độ kì vọng của đồ thị con do thuật toán obs sinh ra là:\", expected_density(Obs511145Protein06))\n",
    "print(\"Số đỉnh trong đồ thị con của thuật toán obs  là:\", Obs511145Protein06.number_of_nodes())\n",
    "print(\"Số cạnh trong đồ thị con của thuật toán obs  là:\", Obs511145Protein06.number_of_edges())\n",
    "print(\"Mật độ kì cạnh vọng của thuật toán obs  là:\",calculate_edge_density(Obs511145Protein06))\n",
    "print(\"Xác xuất cạnh trung bình của thuật toán obs là:\",average_edge_probability(Obs511145Protein06))\n",
    "print(\" trọng số cạnh trung bình của thuật toán obs là:\",mean_weight)\n",
    "print(\"Độ lệch chuẩn của thuật toán obs:\", std_deviation)\n",
    "beta = 0.2\n",
    "\n",
    "Obs511145Protein06 = greedy_average_surplus_degree(G,beta)\n",
    "# Lấy các giá trị xác suất từ các cạnh\n",
    "probabilities = [Obs511145Protein06[u][v]['probability'] for u, v in Obs511145Protein06.edges()]\n",
    "weights = [Obs511145Protein06[u][v]['weight'] for u, v in Obs511145Protein06.edges()]\n",
    "\n",
    "# Tính giá trị trung bình\n",
    "mean_probability = np.mean(probabilities)\n",
    "mean_weight = np.mean(weights)\n",
    "\n",
    "# Tính độ lệch chuẩn\n",
    "std_deviation = np.std(probabilities)\n",
    "# print(\"Mật độ kì vọng của đồ thị con do thuật toán obs sinh ra là:\", expected_density(Obs511145Protein06))\n",
    "print(\"Số đỉnh trong đồ thị con của thuật toán obs  là:\", Obs511145Protein06.number_of_nodes())\n",
    "print(\"Số cạnh trong đồ thị con của thuật toán obs  là:\", Obs511145Protein06.number_of_edges())\n",
    "print(\"Mật độ kì cạnh vọng của thuật toán obs  là:\",calculate_edge_density(Obs511145Protein06))\n",
    "print(\"Xác xuất cạnh trung bình của thuật toán obs là:\",average_edge_probability(Obs511145Protein06))\n",
    "print(\" trọng số cạnh trung bình của thuật toán obs là:\",mean_weight)\n",
    "print(\"Độ lệch chuẩn của thuật toán obs:\", std_deviation)\n",
    "beta = 0.3\n",
    "\n",
    "Obs511145Protein06 = greedy_average_surplus_degree(G,beta)\n",
    "# Lấy các giá trị xác suất từ các cạnh\n",
    "probabilities = [Obs511145Protein06[u][v]['probability'] for u, v in Obs511145Protein06.edges()]\n",
    "weights = [Obs511145Protein06[u][v]['weight'] for u, v in Obs511145Protein06.edges()]\n",
    "\n",
    "# Tính giá trị trung bình\n",
    "mean_probability = np.mean(probabilities)\n",
    "mean_weight = np.mean(weights)\n",
    "\n",
    "# Tính độ lệch chuẩn\n",
    "std_deviation = np.std(probabilities)\n",
    "# print(\"Mật độ kì vọng của đồ thị con do thuật toán obs sinh ra là:\", expected_density(Obs511145Protein06))\n",
    "print(\"Số đỉnh trong đồ thị con của thuật toán obs  là:\", Obs511145Protein06.number_of_nodes())\n",
    "print(\"Số cạnh trong đồ thị con của thuật toán obs  là:\", Obs511145Protein06.number_of_edges())\n",
    "print(\"Mật độ kì cạnh vọng của thuật toán obs  là:\",calculate_edge_density(Obs511145Protein06))\n",
    "print(\"Xác xuất cạnh trung bình của thuật toán obs là:\",average_edge_probability(Obs511145Protein06))\n",
    "print(\" trọng số cạnh trung bình của thuật toán obs là:\",mean_weight)\n",
    "print(\"Độ lệch chuẩn của thuật toán obs:\", std_deviation)\n",
    "beta = 0.4\n",
    "\n",
    "Obs511145Protein06 = greedy_average_surplus_degree(G,beta)\n",
    "# Lấy các giá trị xác suất từ các cạnh\n",
    "probabilities = [Obs511145Protein06[u][v]['probability'] for u, v in Obs511145Protein06.edges()]\n",
    "weights = [Obs511145Protein06[u][v]['weight'] for u, v in Obs511145Protein06.edges()]\n",
    "\n",
    "# Tính giá trị trung bình\n",
    "mean_probability = np.mean(probabilities)\n",
    "mean_weight = np.mean(weights)\n",
    "\n",
    "# Tính độ lệch chuẩn\n",
    "std_deviation = np.std(probabilities)\n",
    "# print(\"Mật độ kì vọng của đồ thị con do thuật toán obs sinh ra là:\", expected_density(Obs511145Protein06))\n",
    "print(\"Số đỉnh trong đồ thị con của thuật toán obs  là:\", Obs511145Protein06.number_of_nodes())\n",
    "print(\"Số cạnh trong đồ thị con của thuật toán obs  là:\", Obs511145Protein06.number_of_edges())\n",
    "print(\"Mật độ kì cạnh vọng của thuật toán obs  là:\",calculate_edge_density(Obs511145Protein06))\n",
    "print(\"Xác xuất cạnh trung bình của thuật toán obs là:\",average_edge_probability(Obs511145Protein06))\n",
    "print(\" trọng số cạnh trung bình của thuật toán obs là:\",mean_weight)\n",
    "print(\"Độ lệch chuẩn của thuật toán obs:\", std_deviation)\n",
    "beta = 0.5 \n",
    "\n",
    "Obs511145Protein06 = greedy_average_surplus_degree(G,beta)\n",
    "# Lấy các giá trị xác suất từ các cạnh\n",
    "probabilities = [Obs511145Protein06[u][v]['probability'] for u, v in Obs511145Protein06.edges()]\n",
    "weights = [Obs511145Protein06[u][v]['weight'] for u, v in Obs511145Protein06.edges()]\n",
    "\n",
    "# Tính giá trị trung bình\n",
    "mean_probability = np.mean(probabilities)\n",
    "mean_weight = np.mean(weights)\n",
    "\n",
    "# Tính độ lệch chuẩn\n",
    "std_deviation = np.std(probabilities)\n",
    "# print(\"Mật độ kì vọng của đồ thị con do thuật toán obs sinh ra là:\", expected_density(Obs511145Protein06))\n",
    "print(\"Số đỉnh trong đồ thị con của thuật toán obs  là:\", Obs511145Protein06.number_of_nodes())\n",
    "print(\"Số cạnh trong đồ thị con của thuật toán obs  là:\", Obs511145Protein06.number_of_edges())\n",
    "print(\"Mật độ kì cạnh vọng của thuật toán obs  là:\",calculate_edge_density(Obs511145Protein06))\n",
    "print(\"Xác xuất cạnh trung bình của thuật toán obs là:\",average_edge_probability(Obs511145Protein06))\n",
    "print(\" trọng số cạnh trung bình của thuật toán obs là:\",mean_weight)\n",
    "print(\"Độ lệch chuẩn của thuật toán obs:\", std_deviation)\n",
    "beta = 0.6\n",
    "\n",
    "Obs511145Protein06 = greedy_average_surplus_degree(G,beta)\n",
    "# Lấy các giá trị xác suất từ các cạnh\n",
    "probabilities = [Obs511145Protein06[u][v]['probability'] for u, v in Obs511145Protein06.edges()]\n",
    "weights = [Obs511145Protein06[u][v]['weight'] for u, v in Obs511145Protein06.edges()]\n",
    "\n",
    "# Tính giá trị trung bình\n",
    "mean_probability = np.mean(probabilities)\n",
    "mean_weight = np.mean(weights)\n",
    "\n",
    "# Tính độ lệch chuẩn\n",
    "std_deviation = np.std(probabilities)\n",
    "# print(\"Mật độ kì vọng của đồ thị con do thuật toán obs sinh ra là:\", expected_density(Obs511145Protein06))\n",
    "print(\"Số đỉnh trong đồ thị con của thuật toán obs  là:\", Obs511145Protein06.number_of_nodes())\n",
    "print(\"Số cạnh trong đồ thị con của thuật toán obs  là:\", Obs511145Protein06.number_of_edges())\n",
    "print(\"Mật độ kì cạnh vọng của thuật toán obs  là:\",calculate_edge_density(Obs511145Protein06))\n",
    "print(\"Xác xuất cạnh trung bình của thuật toán obs là:\",average_edge_probability(Obs511145Protein06))\n",
    "print(\" trọng số cạnh trung bình của thuật toán obs là:\",mean_weight)\n",
    "print(\"Độ lệch chuẩn của thuật toán obs:\", std_deviation)\n",
    "beta = 0.7\n",
    "\n",
    "Obs511145Protein06 = greedy_average_surplus_degree(G,beta)\n",
    "# Lấy các giá trị xác suất từ các cạnh\n",
    "probabilities = [Obs511145Protein06[u][v]['probability'] for u, v in Obs511145Protein06.edges()]\n",
    "weights = [Obs511145Protein06[u][v]['weight'] for u, v in Obs511145Protein06.edges()]\n",
    "\n",
    "# Tính giá trị trung bình\n",
    "mean_probability = np.mean(probabilities)\n",
    "mean_weight = np.mean(weights)\n",
    "\n",
    "# Tính độ lệch chuẩn\n",
    "std_deviation = np.std(probabilities)\n",
    "# print(\"Mật độ kì vọng của đồ thị con do thuật toán obs sinh ra là:\", expected_density(Obs511145Protein06))\n",
    "print(\"Số đỉnh trong đồ thị con của thuật toán obs  là:\", Obs511145Protein06.number_of_nodes())\n",
    "print(\"Số cạnh trong đồ thị con của thuật toán obs  là:\", Obs511145Protein06.number_of_edges())\n",
    "print(\"Mật độ kì cạnh vọng của thuật toán obs  là:\",calculate_edge_density(Obs511145Protein06))\n",
    "print(\"Xác xuất cạnh trung bình của thuật toán obs là:\",average_edge_probability(Obs511145Protein06))\n",
    "print(\" trọng số cạnh trung bình của thuật toán obs là:\",mean_weight)\n",
    "print(\"Độ lệch chuẩn của thuật toán obs:\", std_deviation)\n",
    "beta = 0.8\n",
    "\n",
    "Obs511145Protein06 = greedy_average_surplus_degree(G,beta)\n",
    "# Lấy các giá trị xác suất từ các cạnh\n",
    "probabilities = [Obs511145Protein06[u][v]['probability'] for u, v in Obs511145Protein06.edges()]\n",
    "weights = [Obs511145Protein06[u][v]['weight'] for u, v in Obs511145Protein06.edges()]\n",
    "\n",
    "# Tính giá trị trung bình\n",
    "mean_probability = np.mean(probabilities)\n",
    "mean_weight = np.mean(weights)\n",
    "\n",
    "# Tính độ lệch chuẩn\n",
    "std_deviation = np.std(probabilities)\n",
    "# print(\"Mật độ kì vọng của đồ thị con do thuật toán obs sinh ra là:\", expected_density(Obs511145Protein06))\n",
    "print(\"Số đỉnh trong đồ thị con của thuật toán obs  là:\", Obs511145Protein06.number_of_nodes())\n",
    "print(\"Số cạnh trong đồ thị con của thuật toán obs  là:\", Obs511145Protein06.number_of_edges())\n",
    "print(\"Mật độ kì cạnh vọng của thuật toán obs  là:\",calculate_edge_density(Obs511145Protein06))\n",
    "print(\"Xác xuất cạnh trung bình của thuật toán obs là:\",average_edge_probability(Obs511145Protein06))\n",
    "print(\" trọng số cạnh trung bình của thuật toán obs là:\",mean_weight)\n",
    "print(\"Độ lệch chuẩn của thuật toán obs:\", std_deviation)\n",
    "beta = 0.9\n",
    "\n",
    "Obs511145Protein06 = greedy_average_surplus_degree(G,beta)\n",
    "# Lấy các giá trị xác suất từ các cạnh\n",
    "probabilities = [Obs511145Protein06[u][v]['probability'] for u, v in Obs511145Protein06.edges()]\n",
    "weights = [Obs511145Protein06[u][v]['weight'] for u, v in Obs511145Protein06.edges()]\n",
    "\n",
    "# Tính giá trị trung bình\n",
    "mean_probability = np.mean(probabilities)\n",
    "mean_weight = np.mean(weights)\n",
    "\n",
    "# Tính độ lệch chuẩn\n",
    "std_deviation = np.std(probabilities)\n",
    "# print(\"Mật độ kì vọng của đồ thị con do thuật toán obs sinh ra là:\", expected_density(Obs511145Protein06))\n",
    "print(\"Số đỉnh trong đồ thị con của thuật toán obs  là:\", Obs511145Protein06.number_of_nodes())\n",
    "print(\"Số cạnh trong đồ thị con của thuật toán obs  là:\", Obs511145Protein06.number_of_edges())\n",
    "print(\"Mật độ kì cạnh vọng của thuật toán obs  là:\",calculate_edge_density(Obs511145Protein06))\n",
    "print(\"Xác xuất cạnh trung bình của thuật toán obs là:\",average_edge_probability(Obs511145Protein06))\n",
    "print(\" trọng số cạnh trung bình của thuật toán obs là:\",mean_weight)\n",
    "print(\"Độ lệch chuẩn của thuật toán obs:\", std_deviation)"
   ]
  },
  {
   "cell_type": "code",
   "execution_count": 6,
   "id": "d4238017-cec9-4026-a3bc-5352d846a148",
   "metadata": {},
   "outputs": [
    {
     "name": "stderr",
     "output_type": "stream",
     "text": [
      "Processing: 3082node [54:09,  1.05s/node]                                                                              \n"
     ]
    },
    {
     "name": "stdout",
     "output_type": "stream",
     "text": [
      "Số đỉnh trong đồ thị con của thuật toán obs  là: 168\n",
      "Số cạnh trong đồ thị con của thuật toán obs  là: 11021\n",
      "sum_probabilities 7349.561\n",
      "num_possible_edges 28056\n",
      "Mật độ kì cạnh vọng của thuật toán obs  là: 0.2619604006273168\n",
      "Xác xuất cạnh trung bình của thuật toán obs là: 0.6668687959350331\n",
      " trọng số cạnh trung bình của thuật toán obs là: 0.5028712423088344\n",
      "Độ lệch chuẩn của thuật toán obs: 0.28052725195085654\n"
     ]
    },
    {
     "name": "stderr",
     "output_type": "stream",
     "text": [
      "Processing: 3082node [49:55,  1.03node/s]                                                                              \n"
     ]
    },
    {
     "name": "stdout",
     "output_type": "stream",
     "text": [
      "Số đỉnh trong đồ thị con của thuật toán obs  là: 121\n",
      "Số cạnh trong đồ thị con của thuật toán obs  là: 6380\n",
      "sum_probabilities 5007.157\n",
      "num_possible_edges 14520\n",
      "Mật độ kì cạnh vọng của thuật toán obs  là: 0.34484552341597796\n",
      "Xác xuất cạnh trung bình của thuật toán obs là: 0.7848208463949844\n",
      " trọng số cạnh trung bình của thuật toán obs là: 0.5063264480473177\n",
      "Độ lệch chuẩn của thuật toán obs: 0.24512968297954763\n"
     ]
    }
   ],
   "source": [
    "beta = 0.1 * trong_so_trung_binh_canh\n",
    "\n",
    "Obs511145Protein06 = greedy_average_surplus_degree(G,beta)\n",
    "# Lấy các giá trị xác suất từ các cạnh\n",
    "probabilities = [Obs511145Protein06[u][v]['probability'] for u, v in Obs511145Protein06.edges()]\n",
    "weights = [Obs511145Protein06[u][v]['weight'] for u, v in Obs511145Protein06.edges()]\n",
    "\n",
    "# Tính giá trị trung bình\n",
    "mean_probability = np.mean(probabilities)\n",
    "mean_weight = np.mean(weights)\n",
    "\n",
    "# Tính độ lệch chuẩn\n",
    "std_deviation = np.std(probabilities)\n",
    "# print(\"Mật độ kì vọng của đồ thị con do thuật toán obs sinh ra là:\", expected_density(Obs511145Protein06))\n",
    "print(\"Số đỉnh trong đồ thị con của thuật toán obs  là:\", Obs511145Protein06.number_of_nodes())\n",
    "print(\"Số cạnh trong đồ thị con của thuật toán obs  là:\", Obs511145Protein06.number_of_edges())\n",
    "print(\"Mật độ kì cạnh vọng của thuật toán obs  là:\",calculate_edge_density(Obs511145Protein06))\n",
    "print(\"Xác xuất cạnh trung bình của thuật toán obs là:\",average_edge_probability(Obs511145Protein06))\n",
    "print(\" trọng số cạnh trung bình của thuật toán obs là:\",mean_weight)\n",
    "print(\"Độ lệch chuẩn của thuật toán obs:\", std_deviation)\n",
    "beta = 0.2 * trong_so_trung_binh_canh\n",
    "\n",
    "Obs511145Protein06 = greedy_average_surplus_degree(G,beta)\n",
    "# Lấy các giá trị xác suất từ các cạnh\n",
    "probabilities = [Obs511145Protein06[u][v]['probability'] for u, v in Obs511145Protein06.edges()]\n",
    "weights = [Obs511145Protein06[u][v]['weight'] for u, v in Obs511145Protein06.edges()]\n",
    "\n",
    "# Tính giá trị trung bình\n",
    "mean_probability = np.mean(probabilities)\n",
    "mean_weight = np.mean(weights)\n",
    "\n",
    "# Tính độ lệch chuẩn\n",
    "std_deviation = np.std(probabilities)\n",
    "# print(\"Mật độ kì vọng của đồ thị con do thuật toán obs sinh ra là:\", expected_density(Obs511145Protein06))\n",
    "print(\"Số đỉnh trong đồ thị con của thuật toán obs  là:\", Obs511145Protein06.number_of_nodes())\n",
    "print(\"Số cạnh trong đồ thị con của thuật toán obs  là:\", Obs511145Protein06.number_of_edges())\n",
    "print(\"Mật độ kì cạnh vọng của thuật toán obs  là:\",calculate_edge_density(Obs511145Protein06))\n",
    "print(\"Xác xuất cạnh trung bình của thuật toán obs là:\",average_edge_probability(Obs511145Protein06))\n",
    "print(\" trọng số cạnh trung bình của thuật toán obs là:\",mean_weight)\n",
    "print(\"Độ lệch chuẩn của thuật toán obs:\", std_deviation)\n"
   ]
  },
  {
   "cell_type": "code",
   "execution_count": 7,
   "id": "352678ba-b120-4326-ae66-70aefd1dd56e",
   "metadata": {},
   "outputs": [
    {
     "name": "stderr",
     "output_type": "stream",
     "text": [
      "Processing: 3082node [34:57,  1.47node/s]                                                                              "
     ]
    },
    {
     "name": "stdout",
     "output_type": "stream",
     "text": [
      "Số đỉnh trong đồ thị con của thuật toán obs  là: 112\n",
      "Số cạnh trong đồ thị con của thuật toán obs  là: 5641\n",
      "sum_probabilities 4576.546\n",
      "num_possible_edges 12432\n",
      "Mật độ kì cạnh vọng của thuật toán obs  là: 0.368126287001287\n",
      "Xác xuất cạnh trung bình của thuật toán obs là: 0.8113004786385393\n",
      " trọng số cạnh trung bình của thuật toán obs là: 0.5059709005369534\n",
      "Độ lệch chuẩn của thuật toán obs: 0.23211397404915843\n"
     ]
    },
    {
     "name": "stderr",
     "output_type": "stream",
     "text": [
      "\n"
     ]
    }
   ],
   "source": [
    "beta = 0.3 * trong_so_trung_binh_canh\n",
    "\n",
    "Obs511145Protein06 = greedy_average_surplus_degree(G,beta)\n",
    "# Lấy các giá trị xác suất từ các cạnh\n",
    "probabilities = [Obs511145Protein06[u][v]['probability'] for u, v in Obs511145Protein06.edges()]\n",
    "weights = [Obs511145Protein06[u][v]['weight'] for u, v in Obs511145Protein06.edges()]\n",
    "\n",
    "# Tính giá trị trung bình\n",
    "mean_probability = np.mean(probabilities)\n",
    "mean_weight = np.mean(weights)\n",
    "\n",
    "# Tính độ lệch chuẩn\n",
    "std_deviation = np.std(probabilities)\n",
    "# print(\"Mật độ kì vọng của đồ thị con do thuật toán obs sinh ra là:\", expected_density(Obs511145Protein06))\n",
    "print(\"Số đỉnh trong đồ thị con của thuật toán obs  là:\", Obs511145Protein06.number_of_nodes())\n",
    "print(\"Số cạnh trong đồ thị con của thuật toán obs  là:\", Obs511145Protein06.number_of_edges())\n",
    "print(\"Mật độ kì cạnh vọng của thuật toán obs  là:\",calculate_edge_density(Obs511145Protein06))\n",
    "print(\"Xác xuất cạnh trung bình của thuật toán obs là:\",average_edge_probability(Obs511145Protein06))\n",
    "print(\" trọng số cạnh trung bình của thuật toán obs là:\",mean_weight)\n",
    "print(\"Độ lệch chuẩn của thuật toán obs:\", std_deviation)\n"
   ]
  },
  {
   "cell_type": "code",
   "execution_count": 8,
   "id": "285c4605-3e16-449a-9647-c12f8eaaaac9",
   "metadata": {},
   "outputs": [
    {
     "name": "stderr",
     "output_type": "stream",
     "text": [
      "Processing: 3082node [25:57,  1.98node/s]                                                                              "
     ]
    },
    {
     "name": "stdout",
     "output_type": "stream",
     "text": [
      "Số đỉnh trong đồ thị con của thuật toán obs  là: 93\n",
      "Số cạnh trong đồ thị con của thuật toán obs  là: 4092\n",
      "sum_probabilities 3585.913\n",
      "num_possible_edges 8556\n",
      "Mật độ kì cạnh vọng của thuật toán obs  là: 0.41911091631603553\n",
      "Xác xuất cạnh trung bình của thuật toán obs là: 0.8763228250244379\n",
      " trọng số cạnh trung bình của thuật toán obs là: 0.505747244740056\n",
      "Độ lệch chuẩn của thuật toán obs: 0.18119532144410175\n"
     ]
    },
    {
     "name": "stderr",
     "output_type": "stream",
     "text": [
      "\n"
     ]
    }
   ],
   "source": [
    "beta = 0.4 * trong_so_trung_binh_canh\n",
    "\n",
    "Obs511145Protein06 = greedy_average_surplus_degree(G,beta)\n",
    "# Lấy các giá trị xác suất từ các cạnh\n",
    "probabilities = [Obs511145Protein06[u][v]['probability'] for u, v in Obs511145Protein06.edges()]\n",
    "weights = [Obs511145Protein06[u][v]['weight'] for u, v in Obs511145Protein06.edges()]\n",
    "\n",
    "# Tính giá trị trung bình\n",
    "mean_probability = np.mean(probabilities)\n",
    "mean_weight = np.mean(weights)\n",
    "\n",
    "# Tính độ lệch chuẩn\n",
    "std_deviation = np.std(probabilities)\n",
    "# print(\"Mật độ kì vọng của đồ thị con do thuật toán obs sinh ra là:\", expected_density(Obs511145Protein06))\n",
    "print(\"Số đỉnh trong đồ thị con của thuật toán obs  là:\", Obs511145Protein06.number_of_nodes())\n",
    "print(\"Số cạnh trong đồ thị con của thuật toán obs  là:\", Obs511145Protein06.number_of_edges())\n",
    "print(\"Mật độ kì cạnh vọng của thuật toán obs  là:\",calculate_edge_density(Obs511145Protein06))\n",
    "print(\"Xác xuất cạnh trung bình của thuật toán obs là:\",average_edge_probability(Obs511145Protein06))\n",
    "print(\" trọng số cạnh trung bình của thuật toán obs là:\",mean_weight)\n",
    "print(\"Độ lệch chuẩn của thuật toán obs:\", std_deviation)\n"
   ]
  },
  {
   "cell_type": "code",
   "execution_count": null,
   "id": "51ac5e75",
   "metadata": {},
   "outputs": [
    {
     "name": "stderr",
     "output_type": "stream",
     "text": [
      "Processing:  13%|████████▏                                                        | 388/3080 [09:20<52:04,  1.16s/node]"
     ]
    }
   ],
   "source": [
    "beta = 0.5 * trong_so_trung_binh_canh\n",
    "\n",
    "Obs511145Protein06 = greedy_average_surplus_degree(G,beta)\n",
    "# Lấy các giá trị xác suất từ các cạnh\n",
    "probabilities = [Obs511145Protein06[u][v]['probability'] for u, v in Obs511145Protein06.edges()]\n",
    "weights = [Obs511145Protein06[u][v]['weight'] for u, v in Obs511145Protein06.edges()]\n",
    "\n",
    "# Tính giá trị trung bình\n",
    "mean_probability = np.mean(probabilities)\n",
    "mean_weight = np.mean(weights)\n",
    "\n",
    "# Tính độ lệch chuẩn\n",
    "std_deviation = np.std(probabilities)\n",
    "# print(\"Mật độ kì vọng của đồ thị con do thuật toán obs sinh ra là:\", expected_density(Obs511145Protein06))\n",
    "print(\"Số đỉnh trong đồ thị con của thuật toán obs  là:\", Obs511145Protein06.number_of_nodes())\n",
    "print(\"Số cạnh trong đồ thị con của thuật toán obs  là:\", Obs511145Protein06.number_of_edges())\n",
    "print(\"Mật độ kì cạnh vọng của thuật toán obs  là:\",calculate_edge_density(Obs511145Protein06))\n",
    "print(\"Xác xuất cạnh trung bình của thuật toán obs là:\",average_edge_probability(Obs511145Protein06))\n",
    "print(\" trọng số cạnh trung bình của thuật toán obs là:\",mean_weight)\n",
    "print(\"Độ lệch chuẩn của thuật toán obs:\", std_deviation)\n"
   ]
  },
  {
   "cell_type": "code",
   "execution_count": null,
   "id": "9e2adf38-8815-4ec5-8468-0fefcb10ac44",
   "metadata": {},
   "outputs": [],
   "source": [
    "beta = 0.6 * trong_so_trung_binh_canh\n",
    "\n",
    "Obs511145Protein06 = greedy_average_surplus_degree(G,beta)\n",
    "# Lấy các giá trị xác suất từ các cạnh\n",
    "probabilities = [Obs511145Protein06[u][v]['probability'] for u, v in Obs511145Protein06.edges()]\n",
    "weights = [Obs511145Protein06[u][v]['weight'] for u, v in Obs511145Protein06.edges()]\n",
    "\n",
    "# Tính giá trị trung bình\n",
    "mean_probability = np.mean(probabilities)\n",
    "mean_weight = np.mean(weights)\n",
    "\n",
    "# Tính độ lệch chuẩn\n",
    "std_deviation = np.std(probabilities)\n",
    "# print(\"Mật độ kì vọng của đồ thị con do thuật toán obs sinh ra là:\", expected_density(Obs511145Protein06))\n",
    "print(\"Số đỉnh trong đồ thị con của thuật toán obs  là:\", Obs511145Protein06.number_of_nodes())\n",
    "print(\"Số cạnh trong đồ thị con của thuật toán obs  là:\", Obs511145Protein06.number_of_edges())\n",
    "print(\"Mật độ kì cạnh vọng của thuật toán obs  là:\",calculate_edge_density(Obs511145Protein06))\n",
    "print(\"Xác xuất cạnh trung bình của thuật toán obs là:\",average_edge_probability(Obs511145Protein06))\n",
    "print(\" trọng số cạnh trung bình của thuật toán obs là:\",mean_weight)\n",
    "print(\"Độ lệch chuẩn của thuật toán obs:\", std_deviation)\n"
   ]
  },
  {
   "cell_type": "markdown",
   "id": "47b6bb74",
   "metadata": {},
   "source": [
    "# 300267.protein"
   ]
  },
  {
   "cell_type": "code",
   "execution_count": null,
   "id": "29724c17",
   "metadata": {},
   "outputs": [],
   "source": [
    "random.seed(9)\n",
    "# Đọc dữ liệu từ tệp TXT\n",
    "file_path = 'data/300267.protein.links.v12.0.txt'\n",
    "data = pd.read_csv(file_path, sep=' ')\n",
    "\n",
    "# Khởi tạo đồ thị có hướng\n",
    "G = nx.DiGraph()\n",
    "\n",
    "# Thêm các cạnh với trọng số và xác suất\n",
    "for _, row in data.iterrows():\n",
    "    protein1 = row['protein1']\n",
    "    protein2 = row['protein2']\n",
    "    combined_score = row['combined_score']\n",
    "    \n",
    "    # Giả sử xác suất được tính dựa trên combined_score\n",
    "    probability = combined_score / 1000.0  # Điều chỉnh hệ số nếu cần thiết\n",
    "\n",
    "     # Định hướng cạnh dựa trên một quy tắc ngẫu nhiên\n",
    "        \n",
    "    if random.choice([True, False]):\n",
    "        G.add_edge(protein1, protein2, probability= probability, weight= random.random())\n",
    "#     else:\n",
    "#         G.add_edge(protein2, protein1, probability= probability, weight= random.random())\n",
    "\n",
    "# # Hàm vẽ đồ thị\n",
    "# def plot_graph(G):\n",
    "#     pos = nx.spring_layout(G)  # Tạo bố cục cho đồ thị\n",
    "\n",
    "#     # Lấy thuộc tính xác suất và trọng số của các cạnh\n",
    "#     edge_probabilities = nx.get_edge_attributes(G, 'probability')\n",
    "#     edge_weights = nx.get_edge_attributes(G, 'weight')\n",
    "\n",
    "#     # Kết hợp xác suất và trọng số vào nhãn cạnh\n",
    "#     edge_labels = {edge: f\"{edge_weights[edge]:.2f}, {edge_probabilities[edge]:.2f}\" for edge in G.edges()}\n",
    "\n",
    "#     # Vẽ đồ thị\n",
    "#     nx.draw(G, pos, with_labels=True, node_color='lightblue', edge_color='red', node_size=500, font_size=8, font_weight='bold')\n",
    "#     nx.draw_networkx_edge_labels(G, pos, edge_labels=edge_labels, font_size=7)  # Hiển thị nhãn của các cạnh\n",
    "\n",
    "#     plt.title('Uncertain Weighted Directed Graph Visualization')\n",
    "#     plt.show()\n",
    "\n",
    "# # Gọi hàm để vẽ đồ thị\n",
    "# plot_graph(G)\n",
    "\n",
    "# # In các cạnh của đồ thị có hướng\n",
    "# print(\"Edges in directed graph:\")\n",
    "# for edge in G.edges(data=True):\n",
    "#     print(edge)\n",
    "print(\"Number of nodes:\", G.number_of_nodes())\n",
    "print(\"Number of edges:\", G.number_of_edges())\n",
    "\n",
    "\n",
    "# Lấy các giá trị xác suất từ các cạnh\n",
    "probabilities = [G[u][v]['probability'] for u, v in G.edges()]\n",
    "weights = [G[u][v]['weight'] for u, v in G.edges()]\n",
    "# Tính giá trị trung bình\n",
    "mean_probability = np.mean(probabilities)\n",
    "mean_weight = np.mean(weights)\n",
    "do_lech_chuan_trong_so = np.std(weights)\n",
    "\n",
    "\n",
    "# Tính độ lệch chuẩn\n",
    "std_deviation = np.std(probabilities)\n",
    "\n",
    "    \n",
    "print(\"Giá trị cạnh trung bình của đồ thị protein579138:\", mean_probability)\n",
    "print(\"Độ lệch chuẩn của của  đồ thị protein579138:\", std_deviation)\n",
    "print(\"Độ lệch chuẩn trọng số của của  đồ thị protein579138:\", do_lech_chuan_trong_so)\n",
    "print(\"Trọng số cạnh trung bình của đồ thị là:\",mean_weight)\n",
    "print(\"Mật độ cạnh kì vọng ban đầu của đồ thị:\", calculate_edge_density(G))"
   ]
  },
  {
   "cell_type": "code",
   "execution_count": null,
   "id": "7edfaed5",
   "metadata": {},
   "outputs": [],
   "source": [
    "beta = 0.1\n",
    "\n",
    "Obs511145Protein06 = greedy_average_surplus_degree(G,beta)\n",
    "# Lấy các giá trị xác suất từ các cạnh\n",
    "probabilities = [Obs511145Protein06[u][v]['probability'] for u, v in Obs511145Protein06.edges()]\n",
    "weights = [Obs511145Protein06[u][v]['weight'] for u, v in Obs511145Protein06.edges()]\n",
    "\n",
    "# Tính giá trị trung bình\n",
    "mean_probability = np.mean(probabilities)\n",
    "mean_weight = np.mean(weights)\n",
    "\n",
    "# Tính độ lệch chuẩn\n",
    "std_deviation = np.std(probabilities)\n",
    "print(\"Mật độ kì vọng của đồ thị con do thuật toán obs sinh ra là:\", expected_density(Obs511145Protein06))\n",
    "print(\"Số đỉnh trong đồ thị con của thuật toán obs  là:\", Obs511145Protein06.number_of_nodes())\n",
    "print(\"Số cạnh trong đồ thị con của thuật toán obs  là:\", Obs511145Protein06.number_of_edges())\n",
    "print(\"Mật độ kì cạnh vọng của thuật toán obs  là:\",calculate_edge_density(Obs511145Protein06))\n",
    "print(\"Xác xuất cạnh trung bình của thuật toán obs là:\",average_edge_probability(Obs511145Protein06))\n",
    "print(\" trọng số cạnh trung bình của thuật toán obs là:\",mean_weight)\n",
    "print(\"Độ lệch chuẩn của thuật toán obs:\", std_deviation)\n",
    "\n",
    "beta = 0.2\n",
    "\n",
    "Obs579138Protein01 = greedy_average_surplus_degree(G,beta)\n",
    "# Lấy các giá trị xác suất từ các cạnh\n",
    "probabilities = [Obs579138Protein01[u][v]['probability'] for u, v in Obs579138Protein01.edges()]\n",
    "weights = [Obs579138Protein01[u][v]['weight'] for u, v in Obs579138Protein01.edges()]\n",
    "\n",
    "# Tính giá trị trung bình\n",
    "mean_probability = np.mean(probabilities)\n",
    "mean_weight = np.mean(weights)\n",
    "\n",
    "# Tính độ lệch chuẩn\n",
    "std_deviation = np.std(probabilities)\n",
    "print(\"Mật độ kì vọng của đồ thị con do thuật toán obs sinh ra là:\", expected_density(Obs579138Protein01))\n",
    "print(\"Số đỉnh trong đồ thị con của thuật toán obs  là:\", Obs579138Protein01.number_of_nodes())\n",
    "print(\"Số cạnh trong đồ thị con của thuật toán obs  là:\", Obs579138Protein01.number_of_edges())\n",
    "print(\"Mật độ kì cạnh vọng của thuật toán obs  là:\",calculate_edge_density(Obs579138Protein01))\n",
    "print(\"Xác xuất cạnh trung bình của thuật toán obs là:\",average_edge_probability(Obs579138Protein01))\n",
    "print(\" trọng số cạnh trung bình của thuật toán obs là:\",mean_weight)\n",
    "print(\"Độ lệch chuẩn của thuật toán obs:\", std_deviation)\n",
    "\n",
    "beta = 0.3\n",
    "\n",
    "Obs579138Protein02 = greedy_average_surplus_degree(G,beta)\n",
    "# Lấy các giá trị xác suất từ các cạnh\n",
    "probabilities = [Obs579138Protein02[u][v]['probability'] for u, v in Obs579138Protein02.edges()]\n",
    "weights = [Obs579138Protein02[u][v]['weight'] for u, v in Obs579138Protein02.edges()]\n",
    "\n",
    "# Tính giá trị trung bình\n",
    "mean_probability = np.mean(probabilities)\n",
    "mean_weight = np.mean(weights)\n",
    "\n",
    "# Tính độ lệch chuẩn\n",
    "std_deviation = np.std(probabilities)\n",
    "print(\"Mật độ kì vọng của đồ thị con do thuật toán obs sinh ra là:\", expected_density(Obs579138Protein02))\n",
    "print(\"Số đỉnh trong đồ thị con của thuật toán obs  là:\", Obs579138Protein02.number_of_nodes())\n",
    "print(\"Số cạnh trong đồ thị con của thuật toán obs  là:\", Obs579138Protein02.number_of_edges())\n",
    "print(\"Mật độ kì cạnh vọng của thuật toán obs  là:\",calculate_edge_density(Obs579138Protein02))\n",
    "print(\"Xác xuất cạnh trung bình của thuật toán obs là:\",average_edge_probability(Obs579138Protein02))\n",
    "print(\" trọng số cạnh trung bình của thuật toán obs là:\",mean_weight)\n",
    "print(\"Độ lệch chuẩn của thuật toán obs:\", std_deviation)\n",
    "\n",
    "beta = 0.4\n",
    "\n",
    "Obs579138Protein04 = greedy_average_surplus_degree(G,beta)\n",
    "# Lấy các giá trị xác suất từ các cạnh\n",
    "probabilities = [Obs579138Protein04[u][v]['probability'] for u, v in Obs579138Protein04.edges()]\n",
    "weights = [Obs579138Protein04[u][v]['weight'] for u, v in Obs579138Protein04.edges()]\n",
    "\n",
    "# Tính giá trị trung bình\n",
    "mean_probability = np.mean(probabilities)\n",
    "mean_weight = np.mean(weights)\n",
    "\n",
    "# Tính độ lệch chuẩn\n",
    "std_deviation = np.std(probabilities)\n",
    "print(\"Mật độ kì vọng của đồ thị con do thuật toán obs sinh ra là:\", expected_density(Obs579138Protein04))\n",
    "print(\"Số đỉnh trong đồ thị con của thuật toán obs  là:\", Obs579138Protein04.number_of_nodes())\n",
    "print(\"Số cạnh trong đồ thị con của thuật toán obs  là:\", Obs579138Protein04.number_of_edges())\n",
    "print(\"Mật độ kì cạnh vọng của thuật toán obs  là:\",calculate_edge_density(Obs579138Protein04))\n",
    "print(\"Xác xuất cạnh trung bình của thuật toán obs là:\",average_edge_probability(Obs579138Protein04))\n",
    "print(\" trọng số cạnh trung bình của thuật toán obs là:\",mean_weight)\n",
    "print(\"Độ lệch chuẩn của thuật toán obs:\", std_deviation)\n",
    "\n",
    "beta = 0.5\n",
    "\n",
    "Obs579138Protein01 = greedy_average_surplus_degree(G,beta)\n",
    "# Lấy các giá trị xác suất từ các cạnh\n",
    "probabilities = [Obs579138Protein01[u][v]['probability'] for u, v in Obs579138Protein01.edges()]\n",
    "weights = [Obs579138Protein01[u][v]['weight'] for u, v in Obs579138Protein01.edges()]\n",
    "\n",
    "# Tính giá trị trung bình\n",
    "mean_probability = np.mean(probabilities)\n",
    "mean_weight = np.mean(weights)\n",
    "\n",
    "# Tính độ lệch chuẩn\n",
    "std_deviation = np.std(probabilities)\n",
    "print(\"Mật độ kì vọng của đồ thị con do thuật toán obs sinh ra là:\", expected_density(Obs579138Protein01))\n",
    "print(\"Số đỉnh trong đồ thị con của thuật toán obs  là:\", Obs579138Protein01.number_of_nodes())\n",
    "print(\"Số cạnh trong đồ thị con của thuật toán obs  là:\", Obs579138Protein01.number_of_edges())\n",
    "print(\"Mật độ kì cạnh vọng của thuật toán obs  là:\",calculate_edge_density(Obs579138Protein01))\n",
    "print(\"Xác xuất cạnh trung bình của thuật toán obs là:\",average_edge_probability(Obs579138Protein01))\n",
    "print(\" trọng số cạnh trung bình của thuật toán obs là:\",mean_weight)\n",
    "print(\"Độ lệch chuẩn của thuật toán obs:\", std_deviation)\n",
    "\n",
    "beta = 0.6\n",
    "\n",
    "Obs579138Protein01 = greedy_average_surplus_degree(G,beta)\n",
    "# Lấy các giá trị xác suất từ các cạnh\n",
    "probabilities = [Obs579138Protein01[u][v]['probability'] for u, v in Obs579138Protein01.edges()]\n",
    "weights = [Obs579138Protein01[u][v]['weight'] for u, v in Obs579138Protein01.edges()]\n",
    "\n",
    "# Tính giá trị trung bình\n",
    "mean_probability = np.mean(probabilities)\n",
    "mean_weight = np.mean(weights)\n",
    "\n",
    "# Tính độ lệch chuẩn\n",
    "std_deviation = np.std(probabilities)\n",
    "print(\"Mật độ kì vọng của đồ thị con do thuật toán obs sinh ra là:\", expected_density(Obs579138Protein01))\n",
    "print(\"Số đỉnh trong đồ thị con của thuật toán obs  là:\", Obs579138Protein01.number_of_nodes())\n",
    "print(\"Số cạnh trong đồ thị con của thuật toán obs  là:\", Obs579138Protein01.number_of_edges())\n",
    "print(\"Mật độ kì cạnh vọng của thuật toán obs  là:\",calculate_edge_density(Obs579138Protein01))\n",
    "print(\"Xác xuất cạnh trung bình của thuật toán obs là:\",average_edge_probability(Obs579138Protein01))\n",
    "print(\" trọng số cạnh trung bình của thuật toán obs là:\",mean_weight)\n",
    "print(\"Độ lệch chuẩn của thuật toán obs:\", std_deviation)\n",
    "\n",
    "\n",
    "beta = 0.7\n",
    "\n",
    "Obs579138Protein08 = greedy_average_surplus_degree(G,beta)\n",
    "# Lấy các giá trị xác suất từ các cạnh\n",
    "probabilities = [Obs579138Protein08[u][v]['probability'] for u, v in Obs579138Protein08.edges()]\n",
    "weights = [Obs579138Protein08[u][v]['weight'] for u, v in Obs579138Protein08.edges()]\n",
    "\n",
    "# Tính giá trị trung bình\n",
    "mean_probability = np.mean(probabilities)\n",
    "mean_weight = np.mean(weights)\n",
    "\n",
    "# Tính độ lệch chuẩn\n",
    "std_deviation = np.std(probabilities)\n",
    "print(\"Mật độ kì vọng của đồ thị con do thuật toán obs sinh ra là:\", expected_density(Obs579138Protein08))\n",
    "print(\"Số đỉnh trong đồ thị con của thuật toán obs  là:\", Obs579138Protein08.number_of_nodes())\n",
    "print(\"Số cạnh trong đồ thị con của thuật toán obs  là:\", Obs579138Protein08.number_of_edges())\n",
    "print(\"Mật độ kì cạnh vọng của thuật toán obs  là:\",calculate_edge_density(Obs579138Protein08))\n",
    "print(\"Xác xuất cạnh trung bình của thuật toán obs là:\",average_edge_probability(Obs579138Protein08))\n",
    "print(\" trọng số cạnh trung bình của thuật toán obs là:\",mean_weight)\n",
    "print(\"Độ lệch chuẩn của thuật toán obs:\", std_deviation)\n",
    "\n",
    "\n",
    "beta = 0.8\n",
    "\n",
    "Obs579138Protein08 = greedy_average_surplus_degree(G,beta)\n",
    "# Lấy các giá trị xác suất từ các cạnh\n",
    "probabilities = [Obs579138Protein08[u][v]['probability'] for u, v in Obs579138Protein08.edges()]\n",
    "weights = [Obs579138Protein08[u][v]['weight'] for u, v in Obs579138Protein08.edges()]\n",
    "\n",
    "# Tính giá trị trung bình\n",
    "mean_probability = np.mean(probabilities)\n",
    "mean_weight = np.mean(weights)\n",
    "\n",
    "# Tính độ lệch chuẩn\n",
    "std_deviation = np.std(probabilities)\n",
    "print(\"Mật độ kì vọng của đồ thị con do thuật toán obs sinh ra là:\", expected_density(Obs579138Protein08))\n",
    "print(\"Số đỉnh trong đồ thị con của thuật toán obs  là:\", Obs579138Protein08.number_of_nodes())\n",
    "print(\"Số cạnh trong đồ thị con của thuật toán obs  là:\", Obs579138Protein08.number_of_edges())\n",
    "print(\"Mật độ kì cạnh vọng của thuật toán obs  là:\",calculate_edge_density(Obs579138Protein08))\n",
    "print(\"Xác xuất cạnh trung bình của thuật toán obs là:\",average_edge_probability(Obs579138Protein08))\n",
    "print(\" trọng số cạnh trung bình của thuật toán obs là:\",mean_weight)\n",
    "print(\"Độ lệch chuẩn của thuật toán obs:\", std_deviation)\n",
    "\n",
    "beta = 0.9\n",
    "\n",
    "Obs579138Protein08 = greedy_average_surplus_degree(G,beta)\n",
    "# Lấy các giá trị xác suất từ các cạnh\n",
    "probabilities = [Obs579138Protein08[u][v]['probability'] for u, v in Obs579138Protein08.edges()]\n",
    "weights = [Obs579138Protein08[u][v]['weight'] for u, v in Obs579138Protein08.edges()]\n",
    "\n",
    "# Tính giá trị trung bình\n",
    "mean_probability = np.mean(probabilities)\n",
    "mean_weight = np.mean(weights)\n",
    "\n",
    "# Tính độ lệch chuẩn\n",
    "std_deviation = np.std(probabilities)\n",
    "print(\"Mật độ kì vọng của đồ thị con do thuật toán obs sinh ra là:\", expected_density(Obs579138Protein08))\n",
    "print(\"Số đỉnh trong đồ thị con của thuật toán obs  là:\", Obs579138Protein08.number_of_nodes())\n",
    "print(\"Số cạnh trong đồ thị con của thuật toán obs  là:\", Obs579138Protein08.number_of_edges())\n",
    "print(\"Mật độ kì cạnh vọng của thuật toán obs  là:\",calculate_edge_density(Obs579138Protein08))\n",
    "print(\"Xác xuất cạnh trung bình của thuật toán obs là:\",average_edge_probability(Obs579138Protein08))\n",
    "print(\" trọng số cạnh trung bình của thuật toán obs là:\",mean_weight)\n",
    "print(\"Độ lệch chuẩn của thuật toán obs:\", std_deviation)\n"
   ]
  },
  {
   "cell_type": "code",
   "execution_count": null,
   "id": "a1f73036-8695-457c-8f1a-a67c74fda0af",
   "metadata": {},
   "outputs": [],
   "source": [
    "beta = 0.1 * trong_so_trung_binh_canh\n",
    "\n",
    "Obs511145Protein06 = greedy_average_surplus_degree(G,beta)\n",
    "# Lấy các giá trị xác suất từ các cạnh\n",
    "probabilities = [Obs511145Protein06[u][v]['probability'] for u, v in Obs511145Protein06.edges()]\n",
    "weights = [Obs511145Protein06[u][v]['weight'] for u, v in Obs511145Protein06.edges()]\n",
    "\n",
    "# Tính giá trị trung bình\n",
    "mean_probability = np.mean(probabilities)\n",
    "mean_weight = np.mean(weights)\n",
    "\n",
    "# Tính độ lệch chuẩn\n",
    "std_deviation = np.std(probabilities)\n",
    "print(\"Mật độ kì vọng của đồ thị con do thuật toán obs sinh ra là:\", expected_density(Obs511145Protein06))\n",
    "print(\"Số đỉnh trong đồ thị con của thuật toán obs  là:\", Obs511145Protein06.number_of_nodes())\n",
    "print(\"Số cạnh trong đồ thị con của thuật toán obs  là:\", Obs511145Protein06.number_of_edges())\n",
    "print(\"Mật độ kì cạnh vọng của thuật toán obs  là:\",calculate_edge_density(Obs511145Protein06))\n",
    "print(\"Xác xuất cạnh trung bình của thuật toán obs là:\",average_edge_probability(Obs511145Protein06))\n",
    "print(\" trọng số cạnh trung bình của thuật toán obs là:\",mean_weight)\n",
    "print(\"Độ lệch chuẩn của thuật toán obs:\", std_deviation)\n",
    "\n",
    "beta = 0.2 * trong_so_trung_binh_canh\n",
    "\n",
    "Obs579138Protein01 = greedy_average_surplus_degree(G,beta)\n",
    "# Lấy các giá trị xác suất từ các cạnh\n",
    "probabilities = [Obs579138Protein01[u][v]['probability'] for u, v in Obs579138Protein01.edges()]\n",
    "weights = [Obs579138Protein01[u][v]['weight'] for u, v in Obs579138Protein01.edges()]\n",
    "\n",
    "# Tính giá trị trung bình\n",
    "mean_probability = np.mean(probabilities)\n",
    "mean_weight = np.mean(weights)\n",
    "\n",
    "# Tính độ lệch chuẩn\n",
    "std_deviation = np.std(probabilities)\n",
    "print(\"Mật độ kì vọng của đồ thị con do thuật toán obs sinh ra là:\", expected_density(Obs579138Protein01))\n",
    "print(\"Số đỉnh trong đồ thị con của thuật toán obs  là:\", Obs579138Protein01.number_of_nodes())\n",
    "print(\"Số cạnh trong đồ thị con của thuật toán obs  là:\", Obs579138Protein01.number_of_edges())\n",
    "print(\"Mật độ kì cạnh vọng của thuật toán obs  là:\",calculate_edge_density(Obs579138Protein01))\n",
    "print(\"Xác xuất cạnh trung bình của thuật toán obs là:\",average_edge_probability(Obs579138Protein01))\n",
    "print(\" trọng số cạnh trung bình của thuật toán obs là:\",mean_weight)\n",
    "print(\"Độ lệch chuẩn của thuật toán obs:\", std_deviation)\n",
    "\n",
    "beta = 0.3 * trong_so_trung_binh_canh\n",
    "\n",
    "Obs579138Protein02 = greedy_average_surplus_degree(G,beta)\n",
    "# Lấy các giá trị xác suất từ các cạnh\n",
    "probabilities = [Obs579138Protein02[u][v]['probability'] for u, v in Obs579138Protein02.edges()]\n",
    "weights = [Obs579138Protein02[u][v]['weight'] for u, v in Obs579138Protein02.edges()]\n",
    "\n",
    "# Tính giá trị trung bình\n",
    "mean_probability = np.mean(probabilities)\n",
    "mean_weight = np.mean(weights)\n",
    "\n",
    "# Tính độ lệch chuẩn\n",
    "std_deviation = np.std(probabilities)\n",
    "print(\"Mật độ kì vọng của đồ thị con do thuật toán obs sinh ra là:\", expected_density(Obs579138Protein02))\n",
    "print(\"Số đỉnh trong đồ thị con của thuật toán obs  là:\", Obs579138Protein02.number_of_nodes())\n",
    "print(\"Số cạnh trong đồ thị con của thuật toán obs  là:\", Obs579138Protein02.number_of_edges())\n",
    "print(\"Mật độ kì cạnh vọng của thuật toán obs  là:\",calculate_edge_density(Obs579138Protein02))\n",
    "print(\"Xác xuất cạnh trung bình của thuật toán obs là:\",average_edge_probability(Obs579138Protein02))\n",
    "print(\" trọng số cạnh trung bình của thuật toán obs là:\",mean_weight)\n",
    "print(\"Độ lệch chuẩn của thuật toán obs:\", std_deviation)\n",
    "\n",
    "beta = 0.4 * trong_so_trung_binh_canh\n",
    "\n",
    "Obs579138Protein04 = greedy_average_surplus_degree(G,beta)\n",
    "# Lấy các giá trị xác suất từ các cạnh\n",
    "probabilities = [Obs579138Protein04[u][v]['probability'] for u, v in Obs579138Protein04.edges()]\n",
    "weights = [Obs579138Protein04[u][v]['weight'] for u, v in Obs579138Protein04.edges()]\n",
    "\n",
    "# Tính giá trị trung bình\n",
    "mean_probability = np.mean(probabilities)\n",
    "mean_weight = np.mean(weights)\n",
    "\n",
    "# Tính độ lệch chuẩn\n",
    "std_deviation = np.std(probabilities)\n",
    "print(\"Mật độ kì vọng của đồ thị con do thuật toán obs sinh ra là:\", expected_density(Obs579138Protein04))\n",
    "print(\"Số đỉnh trong đồ thị con của thuật toán obs  là:\", Obs579138Protein04.number_of_nodes())\n",
    "print(\"Số cạnh trong đồ thị con của thuật toán obs  là:\", Obs579138Protein04.number_of_edges())\n",
    "print(\"Mật độ kì cạnh vọng của thuật toán obs  là:\",calculate_edge_density(Obs579138Protein04))\n",
    "print(\"Xác xuất cạnh trung bình của thuật toán obs là:\",average_edge_probability(Obs579138Protein04))\n",
    "print(\" trọng số cạnh trung bình của thuật toán obs là:\",mean_weight)\n",
    "print(\"Độ lệch chuẩn của thuật toán obs:\", std_deviation)\n",
    "\n",
    "beta = 0.5 * trong_so_trung_binh_canh\n",
    "\n",
    "Obs579138Protein01 = greedy_average_surplus_degree(G,beta)\n",
    "# Lấy các giá trị xác suất từ các cạnh\n",
    "probabilities = [Obs579138Protein01[u][v]['probability'] for u, v in Obs579138Protein01.edges()]\n",
    "weights = [Obs579138Protein01[u][v]['weight'] for u, v in Obs579138Protein01.edges()]\n",
    "\n",
    "# Tính giá trị trung bình\n",
    "mean_probability = np.mean(probabilities)\n",
    "mean_weight = np.mean(weights)\n",
    "\n",
    "# Tính độ lệch chuẩn\n",
    "std_deviation = np.std(probabilities)\n",
    "print(\"Mật độ kì vọng của đồ thị con do thuật toán obs sinh ra là:\", expected_density(Obs579138Protein01))\n",
    "print(\"Số đỉnh trong đồ thị con của thuật toán obs  là:\", Obs579138Protein01.number_of_nodes())\n",
    "print(\"Số cạnh trong đồ thị con của thuật toán obs  là:\", Obs579138Protein01.number_of_edges())\n",
    "print(\"Mật độ kì cạnh vọng của thuật toán obs  là:\",calculate_edge_density(Obs579138Protein01))\n",
    "print(\"Xác xuất cạnh trung bình của thuật toán obs là:\",average_edge_probability(Obs579138Protein01))\n",
    "print(\" trọng số cạnh trung bình của thuật toán obs là:\",mean_weight)\n",
    "print(\"Độ lệch chuẩn của thuật toán obs:\", std_deviation)\n",
    "\n",
    "beta = 0.6 * trong_so_trung_binh_canh\n",
    "\n",
    "Obs579138Protein01 = greedy_average_surplus_degree(G,beta)\n",
    "# Lấy các giá trị xác suất từ các cạnh\n",
    "probabilities = [Obs579138Protein01[u][v]['probability'] for u, v in Obs579138Protein01.edges()]\n",
    "weights = [Obs579138Protein01[u][v]['weight'] for u, v in Obs579138Protein01.edges()]\n",
    "\n",
    "# Tính giá trị trung bình\n",
    "mean_probability = np.mean(probabilities)\n",
    "mean_weight = np.mean(weights)\n",
    "\n",
    "# Tính độ lệch chuẩn\n",
    "std_deviation = np.std(probabilities)\n",
    "print(\"Mật độ kì vọng của đồ thị con do thuật toán obs sinh ra là:\", expected_density(Obs579138Protein01))\n",
    "print(\"Số đỉnh trong đồ thị con của thuật toán obs  là:\", Obs579138Protein01.number_of_nodes())\n",
    "print(\"Số cạnh trong đồ thị con của thuật toán obs  là:\", Obs579138Protein01.number_of_edges())\n",
    "print(\"Mật độ kì cạnh vọng của thuật toán obs  là:\",calculate_edge_density(Obs579138Protein01))\n",
    "print(\"Xác xuất cạnh trung bình của thuật toán obs là:\",average_edge_probability(Obs579138Protein01))\n",
    "print(\" trọng số cạnh trung bình của thuật toán obs là:\",mean_weight)\n",
    "print(\"Độ lệch chuẩn của thuật toán obs:\", std_deviation)\n",
    "\n",
    "\n",
    "beta = 0.7 * trong_so_trung_binh_canh\n",
    "\n",
    "Obs579138Protein08 = greedy_average_surplus_degree(G,beta)\n",
    "# Lấy các giá trị xác suất từ các cạnh\n",
    "probabilities = [Obs579138Protein08[u][v]['probability'] for u, v in Obs579138Protein08.edges()]\n",
    "weights = [Obs579138Protein08[u][v]['weight'] for u, v in Obs579138Protein08.edges()]\n",
    "\n",
    "# Tính giá trị trung bình\n",
    "mean_probability = np.mean(probabilities)\n",
    "mean_weight = np.mean(weights)\n",
    "\n",
    "# Tính độ lệch chuẩn\n",
    "std_deviation = np.std(probabilities)\n",
    "print(\"Mật độ kì vọng của đồ thị con do thuật toán obs sinh ra là:\", expected_density(Obs579138Protein08))\n",
    "print(\"Số đỉnh trong đồ thị con của thuật toán obs  là:\", Obs579138Protein08.number_of_nodes())\n",
    "print(\"Số cạnh trong đồ thị con của thuật toán obs  là:\", Obs579138Protein08.number_of_edges())\n",
    "print(\"Mật độ kì cạnh vọng của thuật toán obs  là:\",calculate_edge_density(Obs579138Protein08))\n",
    "print(\"Xác xuất cạnh trung bình của thuật toán obs là:\",average_edge_probability(Obs579138Protein08))\n",
    "print(\" trọng số cạnh trung bình của thuật toán obs là:\",mean_weight)\n",
    "print(\"Độ lệch chuẩn của thuật toán obs:\", std_deviation)\n",
    "\n",
    "\n",
    "beta = 0.8 * trong_so_trung_binh_canh\n",
    "\n",
    "Obs579138Protein08 = greedy_average_surplus_degree(G,beta)\n",
    "# Lấy các giá trị xác suất từ các cạnh\n",
    "probabilities = [Obs579138Protein08[u][v]['probability'] for u, v in Obs579138Protein08.edges()]\n",
    "weights = [Obs579138Protein08[u][v]['weight'] for u, v in Obs579138Protein08.edges()]\n",
    "\n",
    "# Tính giá trị trung bình\n",
    "mean_probability = np.mean(probabilities)\n",
    "mean_weight = np.mean(weights)\n",
    "\n",
    "# Tính độ lệch chuẩn\n",
    "std_deviation = np.std(probabilities)\n",
    "print(\"Mật độ kì vọng của đồ thị con do thuật toán obs sinh ra là:\", expected_density(Obs579138Protein08))\n",
    "print(\"Số đỉnh trong đồ thị con của thuật toán obs  là:\", Obs579138Protein08.number_of_nodes())\n",
    "print(\"Số cạnh trong đồ thị con của thuật toán obs  là:\", Obs579138Protein08.number_of_edges())\n",
    "print(\"Mật độ kì cạnh vọng của thuật toán obs  là:\",calculate_edge_density(Obs579138Protein08))\n",
    "print(\"Xác xuất cạnh trung bình của thuật toán obs là:\",average_edge_probability(Obs579138Protein08))\n",
    "print(\" trọng số cạnh trung bình của thuật toán obs là:\",mean_weight)\n",
    "print(\"Độ lệch chuẩn của thuật toán obs:\", std_deviation)\n",
    "\n",
    "beta = 0.9 * trong_so_trung_binh_canh\n",
    "\n",
    "Obs579138Protein08 = greedy_average_surplus_degree(G,beta)\n",
    "# Lấy các giá trị xác suất từ các cạnh\n",
    "probabilities = [Obs579138Protein08[u][v]['probability'] for u, v in Obs579138Protein08.edges()]\n",
    "weights = [Obs579138Protein08[u][v]['weight'] for u, v in Obs579138Protein08.edges()]\n",
    "\n",
    "# Tính giá trị trung bình\n",
    "mean_probability = np.mean(probabilities)\n",
    "mean_weight = np.mean(weights)\n",
    "\n",
    "# Tính độ lệch chuẩn\n",
    "std_deviation = np.std(probabilities)\n",
    "print(\"Mật độ kì vọng của đồ thị con do thuật toán obs sinh ra là:\", expected_density(Obs579138Protein08))\n",
    "print(\"Số đỉnh trong đồ thị con của thuật toán obs  là:\", Obs579138Protein08.number_of_nodes())\n",
    "print(\"Số cạnh trong đồ thị con của thuật toán obs  là:\", Obs579138Protein08.number_of_edges())\n",
    "print(\"Mật độ kì cạnh vọng của thuật toán obs  là:\",calculate_edge_density(Obs579138Protein08))\n",
    "print(\"Xác xuất cạnh trung bình của thuật toán obs là:\",average_edge_probability(Obs579138Protein08))\n",
    "print(\" trọng số cạnh trung bình của thuật toán obs là:\",mean_weight)\n",
    "print(\"Độ lệch chuẩn của thuật toán obs:\", std_deviation)\n"
   ]
  },
  {
   "cell_type": "markdown",
   "id": "a622cca3",
   "metadata": {},
   "source": [
    "# Đối với đồ thị Wiki-Vote"
   ]
  },
  {
   "cell_type": "code",
   "execution_count": 3,
   "id": "b5b01a54",
   "metadata": {},
   "outputs": [
    {
     "name": "stdout",
     "output_type": "stream",
     "text": [
      "Number of nodes: 7115\n",
      "Number of edges: 103689\n",
      "Giá trị cạnh trung bình của đồ thị protein579138: 0.49914344764034696\n",
      "Độ lệch chuẩn của của  đồ thị protein579138: 0.28897262501123644\n",
      "Trọng số cạnh trung bình của đồ thị là: 0.4993515475524596\n"
     ]
    }
   ],
   "source": [
    "random.seed(9)\n",
    "# Initialize a directed graph\n",
    "G = nx.DiGraph()\n",
    "\n",
    "# Assuming your data is stored in a file called 'email-Eu-core.txt'\n",
    "# and the data starts from a specific line after the header.\n",
    "# Adjust the path to where you have stored your file.\n",
    "with open('wiki-Vote.txt/Wiki-Vote.txt', 'r') as file:\n",
    "    for line in file:\n",
    "        # Skip header lines or process them differently if needed\n",
    "        if line.startswith('#'):\n",
    "            continue\n",
    "        \n",
    "        # Split the line into source and target nodes\n",
    "        source, target = map(int, line.split())\n",
    "        # Assign a random probability to each edge\n",
    "        probability = random.random()  # Generate a random probability between 0 and 1\n",
    "        # Assign a random weight to each edge (for example, between 1 and 10)\n",
    "#         weight = random.randint(1, 10)\n",
    "        weight = random.random()\n",
    "\n",
    "        G.add_edge(source, target, probability=probability, weight=weight)\n",
    "\n",
    "print(\"Number of nodes:\", G.number_of_nodes())\n",
    "print(\"Number of edges:\", G.number_of_edges())\n",
    "\n",
    "\n",
    "\n",
    "\n",
    "# Optional: Print some edges with their attributes to verify\n",
    "# for u, v, data in G.edges(data=True):\n",
    "#     print(f\"Edge ({u}, {v}) - Probability: {data['probability']}, Weight: {data['weight']}\")\n",
    "\n",
    "\n",
    "# Lấy các giá trị xác suất từ các cạnh\n",
    "probabilities = [G[u][v]['probability'] for u, v in G.edges()]\n",
    "weights = [G[u][v]['weight'] for u, v in G.edges()]\n",
    "# Tính giá trị trung bình\n",
    "mean_probability = np.mean(probabilities)\n",
    "mean_weight = np.mean(weights)\n",
    "\n",
    "\n",
    "# Tính độ lệch chuẩn\n",
    "std_deviation = np.std(probabilities)\n",
    "\n",
    "    \n",
    "print(\"Giá trị cạnh trung bình của đồ thị protein579138:\", mean_probability)\n",
    "print(\"Độ lệch chuẩn của của  đồ thị protein579138:\", std_deviation)\n",
    "print(\"Trọng số cạnh trung bình của đồ thị là:\",mean_weight)\n",
    "\n",
    "\n",
    "\n"
   ]
  },
  {
   "cell_type": "code",
   "execution_count": 79,
   "id": "7d864b06",
   "metadata": {},
   "outputs": [],
   "source": [
    "# Lưu đồ thị\n",
    "nx.write_gexf(ObsWikiVote06, \"ObsWikiVote06.gexf\")\n"
   ]
  },
  {
   "cell_type": "code",
   "execution_count": 83,
   "id": "66c46a24",
   "metadata": {},
   "outputs": [
    {
     "data": {
      "image/png": "[encoded data removed]",
      "text/plain": [
       "<Figure size 640x480 with 1 Axes>"
      ]
     },
     "metadata": {},
     "output_type": "display_data"
    }
   ],
   "source": [
    "plot_graph_v2(ObsWikiVote06)"
   ]
  },
  {
   "cell_type": "code",
   "execution_count": 46,
   "id": "05826900",
   "metadata": {},
   "outputs": [
    {
     "name": "stderr",
     "output_type": "stream",
     "text": [
      "100%|██████████████████████████████████████████████████████████████████████████████| 7113/7113 [43:11<00:00,  2.74it/s]\n"
     ]
    },
    {
     "name": "stdout",
     "output_type": "stream",
     "text": [
      "Mật độ kì vọng của đồ thị con do thuật toán obs sinh ra là: 24.55960832530815\n",
      "Số đỉnh trong đồ thị con của thuật toán obs  là: 762\n",
      "Số cạnh trong đồ thị con của thuật toán obs  là: 37085\n",
      "sum_probabilities 18714.42154388481\n",
      "num_possible_edges 579882\n",
      "Mật độ kì cạnh vọng của thuật toán obs  là: 0.03227280988870979\n",
      "Xác xuất cạnh trung bình của thuật toán obs là: 0.5046358782225917\n",
      " trọng số cạnh trung bình của thuật toán obs là: 5.546797896723743\n",
      "Độ lệch chuẩn của thuật toán obs: 0.28911587760930796\n"
     ]
    }
   ],
   "source": [
    "beta = 0.1\n",
    "\n",
    "ObsWikiVote01 = greedy_average_surplus_degree(G,beta)\n",
    "# Lấy các giá trị xác suất từ các cạnh\n",
    "probabilities = [ObsWikiVote01[u][v]['probability'] for u, v in ObsWikiVote01.edges()]\n",
    "weights = [ObsWikiVote01[u][v]['weight'] for u, v in ObsWikiVote01.edges()]\n",
    "\n",
    "# Tính giá trị trung bình\n",
    "mean_probability = np.mean(probabilities)\n",
    "mean_weight = np.mean(weights)\n",
    "\n",
    "# Tính độ lệch chuẩn\n",
    "std_deviation = np.std(probabilities)\n",
    "print(\"Mật độ kì vọng của đồ thị con do thuật toán obs sinh ra là:\", expected_density(ObsWikiVote01))\n",
    "print(\"Số đỉnh trong đồ thị con của thuật toán obs  là:\", ObsWikiVote01.number_of_nodes())\n",
    "print(\"Số cạnh trong đồ thị con của thuật toán obs  là:\", ObsWikiVote01.number_of_edges())\n",
    "print(\"Mật độ kì cạnh vọng của thuật toán obs  là:\",calculate_edge_density(ObsWikiVote01))\n",
    "print(\"Xác xuất cạnh trung bình của thuật toán obs là:\",average_edge_probability(ObsWikiVote01))\n",
    "print(\" trọng số cạnh trung bình của thuật toán obs là:\",mean_weight)\n",
    "print(\"Độ lệch chuẩn của thuật toán obs:\", std_deviation)\n"
   ]
  },
  {
   "cell_type": "code",
   "execution_count": null,
   "id": "26c5f9ab",
   "metadata": {},
   "outputs": [],
   "source": [
    "nx.write_gexf(ObsWikiVote01, \"ObsWikiVote01.gexf\")\n"
   ]
  },
  {
   "cell_type": "code",
   "execution_count": 4,
   "id": "9e8eedaf",
   "metadata": {},
   "outputs": [
    {
     "name": "stderr",
     "output_type": "stream",
     "text": [
      "100%|██████████████████████████████████████████████████████████████████████████████| 7113/7113 [50:05<00:00,  2.37it/s]\n"
     ]
    },
    {
     "name": "stdout",
     "output_type": "stream",
     "text": [
      "Mật độ kì vọng của đồ thị con do thuật toán obs sinh ra là: 24.46116175592696\n",
      "Số đỉnh trong đồ thị con của thuật toán obs  là: 766\n",
      "Số cạnh trong đồ thị con của thuật toán obs  là: 37028\n",
      "sum_probabilities 18737.24990504005\n",
      "num_possible_edges 585990\n",
      "Mật độ kì cạnh vọng của thuật toán obs  là: 0.03197537484434897\n",
      "Xác xuất cạnh trung bình của thuật toán obs là: 0.5060292185654114\n",
      " trọng số cạnh trung bình của thuật toán obs là: 0.5033128510313922\n",
      "Độ lệch chuẩn của thuật toán obs: 0.28997723214426296\n"
     ]
    }
   ],
   "source": [
    "beta = 0.2\n",
    "ObsWikiVote02 = greedy_average_surplus_degree(G,beta)\n",
    "# Lấy các giá trị xác suất từ các cạnh\n",
    "probabilities = [ObsWikiVote02[u][v]['probability'] for u, v in ObsWikiVote02.edges()]\n",
    "weights = [ObsWikiVote02[u][v]['weight'] for u, v in ObsWikiVote02.edges()]\n",
    "\n",
    "# Tính giá trị trung bình\n",
    "mean_probability = np.mean(probabilities)\n",
    "mean_weight = np.mean(weights)\n",
    "\n",
    "# Tính độ lệch chuẩn\n",
    "std_deviation = np.std(probabilities)\n",
    "print(\"Mật độ kì vọng của đồ thị con do thuật toán obs sinh ra là:\", expected_density(ObsWikiVote02))\n",
    "print(\"Số đỉnh trong đồ thị con của thuật toán obs  là:\", ObsWikiVote02.number_of_nodes())\n",
    "print(\"Số cạnh trong đồ thị con của thuật toán obs  là:\", ObsWikiVote02.number_of_edges())\n",
    "print(\"Mật độ kì cạnh vọng của thuật toán obs  là:\",calculate_edge_density(ObsWikiVote02))\n",
    "print(\"Xác xuất cạnh trung bình của thuật toán obs là:\",average_edge_probability(ObsWikiVote02))\n",
    "print(\" trọng số cạnh trung bình của thuật toán obs là:\",mean_weight)\n",
    "print(\"Độ lệch chuẩn của thuật toán obs:\", std_deviation)"
   ]
  },
  {
   "cell_type": "code",
   "execution_count": 5,
   "id": "b30144f2",
   "metadata": {},
   "outputs": [
    {
     "name": "stderr",
     "output_type": "stream",
     "text": [
      "100%|██████████████████████████████████████████████████████████████████████████████| 7113/7113 [45:11<00:00,  2.62it/s]\n"
     ]
    },
    {
     "name": "stdout",
     "output_type": "stream",
     "text": [
      "Mật độ kì vọng của đồ thị con do thuật toán obs sinh ra là: 22.385075464632674\n",
      "Số đỉnh trong đồ thị con của thuật toán obs  là: 614\n",
      "Số cạnh trong đồ thị con của thuật toán obs  là: 26320\n",
      "sum_probabilities 13744.436335284463\n",
      "num_possible_edges 376382\n",
      "Mật độ kì cạnh vọng của thuật toán obs  là: 0.03651725198145624\n",
      "Xác xuất cạnh trung bình của thuật toán obs là: 0.5222050279363398\n",
      " trọng số cạnh trung bình của thuật toán obs là: 0.5024641921060727\n",
      "Độ lệch chuẩn của thuật toán obs: 0.289342031481842\n"
     ]
    }
   ],
   "source": [
    "beta = 0.4\n",
    "\n",
    "ObsWikiVote04 = greedy_average_surplus_degree(G,beta)\n",
    "# Lấy các giá trị xác suất từ các cạnh\n",
    "probabilities = [ObsWikiVote04[u][v]['probability'] for u, v in ObsWikiVote04.edges()]\n",
    "weights = [ObsWikiVote04[u][v]['weight'] for u, v in ObsWikiVote04.edges()]\n",
    "\n",
    "# Tính giá trị trung bình\n",
    "mean_probability = np.mean(probabilities)\n",
    "mean_weight = np.mean(weights)\n",
    "\n",
    "# Tính độ lệch chuẩn\n",
    "std_deviation = np.std(probabilities)\n",
    "print(\"Mật độ kì vọng của đồ thị con do thuật toán obs sinh ra là:\", expected_density(ObsWikiVote04))\n",
    "print(\"Số đỉnh trong đồ thị con của thuật toán obs  là:\", ObsWikiVote04.number_of_nodes())\n",
    "print(\"Số cạnh trong đồ thị con của thuật toán obs  là:\", ObsWikiVote04.number_of_edges())\n",
    "print(\"Mật độ kì cạnh vọng của thuật toán obs  là:\",calculate_edge_density(ObsWikiVote04))\n",
    "print(\"Xác xuất cạnh trung bình của thuật toán obs là:\",average_edge_probability(ObsWikiVote04))\n",
    "print(\" trọng số cạnh trung bình của thuật toán obs là:\",mean_weight)\n",
    "print(\"Độ lệch chuẩn của thuật toán obs:\", std_deviation)\n"
   ]
  },
  {
   "cell_type": "code",
   "execution_count": 6,
   "id": "edc2e2e3",
   "metadata": {},
   "outputs": [
    {
     "name": "stderr",
     "output_type": "stream",
     "text": [
      " 22%|█████████████████                                                             | 1557/7113 [04:48<17:10,  5.39it/s]\n"
     ]
    },
    {
     "ename": "KeyboardInterrupt",
     "evalue": "",
     "output_type": "error",
     "traceback": [
      "\u001b[1;31m---------------------------------------------------------------------------\u001b[0m",
      "\u001b[1;31mKeyboardInterrupt\u001b[0m                         Traceback (most recent call last)",
      "\u001b[1;32m~\\AppData\\Local\\Temp\\ipykernel_35236\\3339928577.py\u001b[0m in \u001b[0;36m<module>\u001b[1;34m\u001b[0m\n\u001b[0;32m      1\u001b[0m \u001b[0mbeta\u001b[0m \u001b[1;33m=\u001b[0m \u001b[1;36m0.6\u001b[0m\u001b[1;33m\u001b[0m\u001b[1;33m\u001b[0m\u001b[0m\n\u001b[0;32m      2\u001b[0m \u001b[1;33m\u001b[0m\u001b[0m\n\u001b[1;32m----> 3\u001b[1;33m \u001b[0mObsWikiVote06\u001b[0m \u001b[1;33m=\u001b[0m \u001b[0mgreedy_average_surplus_degree\u001b[0m\u001b[1;33m(\u001b[0m\u001b[0mG\u001b[0m\u001b[1;33m,\u001b[0m\u001b[0mbeta\u001b[0m\u001b[1;33m)\u001b[0m\u001b[1;33m\u001b[0m\u001b[1;33m\u001b[0m\u001b[0m\n\u001b[0m\u001b[0;32m      4\u001b[0m \u001b[1;31m# Lấy các giá trị xác suất từ các cạnh\u001b[0m\u001b[1;33m\u001b[0m\u001b[1;33m\u001b[0m\u001b[0m\n\u001b[0;32m      5\u001b[0m \u001b[0mprobabilities\u001b[0m \u001b[1;33m=\u001b[0m \u001b[1;33m[\u001b[0m\u001b[0mObsWikiVote06\u001b[0m\u001b[1;33m[\u001b[0m\u001b[0mu\u001b[0m\u001b[1;33m]\u001b[0m\u001b[1;33m[\u001b[0m\u001b[0mv\u001b[0m\u001b[1;33m]\u001b[0m\u001b[1;33m[\u001b[0m\u001b[1;34m'probability'\u001b[0m\u001b[1;33m]\u001b[0m \u001b[1;32mfor\u001b[0m \u001b[0mu\u001b[0m\u001b[1;33m,\u001b[0m \u001b[0mv\u001b[0m \u001b[1;32min\u001b[0m \u001b[0mObsWikiVote06\u001b[0m\u001b[1;33m.\u001b[0m\u001b[0medges\u001b[0m\u001b[1;33m(\u001b[0m\u001b[1;33m)\u001b[0m\u001b[1;33m]\u001b[0m\u001b[1;33m\u001b[0m\u001b[1;33m\u001b[0m\u001b[0m\n",
      "\u001b[1;32m~\\AppData\\Local\\Temp\\ipykernel_35236\\1029876242.py\u001b[0m in \u001b[0;36mgreedy_average_surplus_degree\u001b[1;34m(G, beta)\u001b[0m\n\u001b[0;32m    182\u001b[0m                 \u001b[0mpriority_queue\u001b[0m \u001b[1;33m=\u001b[0m \u001b[1;33m[\u001b[0m\u001b[1;33m]\u001b[0m  \u001b[1;31m# Tạo lại hàng đợi mới vì bậc dư thừa đã thay đổi\u001b[0m\u001b[1;33m\u001b[0m\u001b[1;33m\u001b[0m\u001b[0m\n\u001b[0;32m    183\u001b[0m                 \u001b[1;32mfor\u001b[0m \u001b[0mu\u001b[0m \u001b[1;32min\u001b[0m \u001b[0mH\u001b[0m\u001b[1;33m.\u001b[0m\u001b[0mnodes\u001b[0m\u001b[1;33m(\u001b[0m\u001b[1;33m)\u001b[0m\u001b[1;33m:\u001b[0m\u001b[1;33m\u001b[0m\u001b[1;33m\u001b[0m\u001b[0m\n\u001b[1;32m--> 184\u001b[1;33m                     \u001b[0msd\u001b[0m \u001b[1;33m=\u001b[0m \u001b[0msurplus_degree_v2\u001b[0m\u001b[1;33m(\u001b[0m\u001b[0mH\u001b[0m\u001b[1;33m,\u001b[0m \u001b[0mu\u001b[0m\u001b[1;33m,\u001b[0m \u001b[0mbeta\u001b[0m\u001b[1;33m)\u001b[0m\u001b[1;33m\u001b[0m\u001b[1;33m\u001b[0m\u001b[0m\n\u001b[0m\u001b[0;32m    185\u001b[0m                     \u001b[0mheapq\u001b[0m\u001b[1;33m.\u001b[0m\u001b[0mheappush\u001b[0m\u001b[1;33m(\u001b[0m\u001b[0mpriority_queue\u001b[0m\u001b[1;33m,\u001b[0m \u001b[1;33m(\u001b[0m\u001b[0msd\u001b[0m\u001b[1;33m,\u001b[0m \u001b[0mu\u001b[0m\u001b[1;33m)\u001b[0m\u001b[1;33m)\u001b[0m\u001b[1;33m\u001b[0m\u001b[1;33m\u001b[0m\u001b[0m\n\u001b[0;32m    186\u001b[0m \u001b[1;33m\u001b[0m\u001b[0m\n",
      "\u001b[1;32m~\\AppData\\Local\\Temp\\ipykernel_35236\\1029876242.py\u001b[0m in \u001b[0;36msurplus_degree_v2\u001b[1;34m(G, v, beta)\u001b[0m\n\u001b[0;32m    102\u001b[0m     \u001b[1;31m# Lấy các cạnh đi vào và đi ra từ đỉnh v\u001b[0m\u001b[1;33m\u001b[0m\u001b[1;33m\u001b[0m\u001b[0m\n\u001b[0;32m    103\u001b[0m     \u001b[0min_edges\u001b[0m \u001b[1;33m=\u001b[0m \u001b[0mG\u001b[0m\u001b[1;33m.\u001b[0m\u001b[0min_edges\u001b[0m\u001b[1;33m(\u001b[0m\u001b[0mv\u001b[0m\u001b[1;33m,\u001b[0m \u001b[0mdata\u001b[0m\u001b[1;33m=\u001b[0m\u001b[1;32mTrue\u001b[0m\u001b[1;33m)\u001b[0m\u001b[1;33m\u001b[0m\u001b[1;33m\u001b[0m\u001b[0m\n\u001b[1;32m--> 104\u001b[1;33m     \u001b[0mout_edges\u001b[0m \u001b[1;33m=\u001b[0m \u001b[0mG\u001b[0m\u001b[1;33m.\u001b[0m\u001b[0mout_edges\u001b[0m\u001b[1;33m(\u001b[0m\u001b[0mv\u001b[0m\u001b[1;33m,\u001b[0m \u001b[0mdata\u001b[0m\u001b[1;33m=\u001b[0m\u001b[1;32mTrue\u001b[0m\u001b[1;33m)\u001b[0m\u001b[1;33m\u001b[0m\u001b[1;33m\u001b[0m\u001b[0m\n\u001b[0m\u001b[0;32m    105\u001b[0m \u001b[1;33m\u001b[0m\u001b[0m\n\u001b[0;32m    106\u001b[0m     \u001b[1;31m# Tính Surplus Degree\u001b[0m\u001b[1;33m\u001b[0m\u001b[1;33m\u001b[0m\u001b[0m\n",
      "\u001b[1;32mC:\\ProgramData\\Anaconda3\\lib\\site-packages\\networkx\\classes\\reportviews.py\u001b[0m in \u001b[0;36m__call__\u001b[1;34m(self, nbunch, data, default)\u001b[0m\n\u001b[0;32m   1098\u001b[0m         \u001b[1;32mif\u001b[0m \u001b[0mnbunch\u001b[0m \u001b[1;32mis\u001b[0m \u001b[1;32mNone\u001b[0m \u001b[1;32mand\u001b[0m \u001b[0mdata\u001b[0m \u001b[1;32mis\u001b[0m \u001b[1;32mFalse\u001b[0m\u001b[1;33m:\u001b[0m\u001b[1;33m\u001b[0m\u001b[1;33m\u001b[0m\u001b[0m\n\u001b[0;32m   1099\u001b[0m             \u001b[1;32mreturn\u001b[0m \u001b[0mself\u001b[0m\u001b[1;33m\u001b[0m\u001b[1;33m\u001b[0m\u001b[0m\n\u001b[1;32m-> 1100\u001b[1;33m         \u001b[1;32mreturn\u001b[0m \u001b[0mself\u001b[0m\u001b[1;33m.\u001b[0m\u001b[0mdataview\u001b[0m\u001b[1;33m(\u001b[0m\u001b[0mself\u001b[0m\u001b[1;33m,\u001b[0m \u001b[0mnbunch\u001b[0m\u001b[1;33m,\u001b[0m \u001b[0mdata\u001b[0m\u001b[1;33m,\u001b[0m \u001b[0mdefault\u001b[0m\u001b[1;33m)\u001b[0m\u001b[1;33m\u001b[0m\u001b[1;33m\u001b[0m\u001b[0m\n\u001b[0m\u001b[0;32m   1101\u001b[0m \u001b[1;33m\u001b[0m\u001b[0m\n\u001b[0;32m   1102\u001b[0m     \u001b[1;32mdef\u001b[0m \u001b[0mdata\u001b[0m\u001b[1;33m(\u001b[0m\u001b[0mself\u001b[0m\u001b[1;33m,\u001b[0m \u001b[0mdata\u001b[0m\u001b[1;33m=\u001b[0m\u001b[1;32mTrue\u001b[0m\u001b[1;33m,\u001b[0m \u001b[0mdefault\u001b[0m\u001b[1;33m=\u001b[0m\u001b[1;32mNone\u001b[0m\u001b[1;33m,\u001b[0m \u001b[0mnbunch\u001b[0m\u001b[1;33m=\u001b[0m\u001b[1;32mNone\u001b[0m\u001b[1;33m)\u001b[0m\u001b[1;33m:\u001b[0m\u001b[1;33m\u001b[0m\u001b[1;33m\u001b[0m\u001b[0m\n",
      "\u001b[1;31mKeyboardInterrupt\u001b[0m: "
     ]
    }
   ],
   "source": [
    "beta = 0.6\n",
    "\n",
    "ObsWikiVote06 = greedy_average_surplus_degree(G,beta)\n",
    "# Lấy các giá trị xác suất từ các cạnh\n",
    "probabilities = [ObsWikiVote06[u][v]['probability'] for u, v in ObsWikiVote06.edges()]\n",
    "weights = [ObsWikiVote06[u][v]['weight'] for u, v in ObsWikiVote06.edges()]\n",
    "\n",
    "# Tính giá trị trung bình\n",
    "mean_probability = np.mean(probabilities)\n",
    "mean_weight = np.mean(weights)\n",
    "\n",
    "# Tính độ lệch chuẩn\n",
    "std_deviation = np.std(probabilities)\n",
    "print(\"Mật độ kì vọng của đồ thị con do thuật toán obs sinh ra là:\", expected_density(ObsWikiVote06))\n",
    "print(\"Số đỉnh trong đồ thị con của thuật toán obs  là:\", ObsWikiVote06.number_of_nodes())\n",
    "print(\"Số cạnh trong đồ thị con của thuật toán obs  là:\", ObsWikiVote06.number_of_edges())\n",
    "print(\"Mật độ kì cạnh vọng của thuật toán obs  là:\",calculate_edge_density(ObsWikiVote06))\n",
    "print(\"Xác xuất cạnh trung bình của thuật toán obs là:\",average_edge_probability(ObsWikiVote06))\n",
    "print(\" trọng số cạnh trung bình của thuật toán obs là:\",mean_weight)\n",
    "print(\"Độ lệch chuẩn của thuật toán obs:\", std_deviation)\n"
   ]
  },
  {
   "cell_type": "code",
   "execution_count": 7,
   "id": "fe13ba3a",
   "metadata": {},
   "outputs": [
    {
     "name": "stderr",
     "output_type": "stream",
     "text": [
      "100%|██████████████████████████████████████████████████████████████████████████████| 7113/7113 [07:28<00:00, 15.87it/s]"
     ]
    },
    {
     "name": "stdout",
     "output_type": "stream",
     "text": [
      "Mật độ kì vọng của đồ thị con do thuật toán obs sinh ra là: 0.576373392914729\n",
      "Số đỉnh trong đồ thị con của thuật toán obs  là: 32\n",
      "Số cạnh trong đồ thị con của thuật toán obs  là: 19\n",
      "sum_probabilities 18.443948573271328\n",
      "num_possible_edges 992\n",
      "Mật độ kì cạnh vọng của thuật toán obs  là: 0.018592690094023517\n",
      "Xác xuất cạnh trung bình của thuật toán obs là: 0.970734135435333\n",
      " trọng số cạnh trung bình của thuật toán obs là: 0.8766310236385282\n",
      "Độ lệch chuẩn của thuật toán obs: 0.026186013558480437\n"
     ]
    },
    {
     "name": "stderr",
     "output_type": "stream",
     "text": [
      "\n"
     ]
    }
   ],
   "source": [
    "beta = 0.8\n",
    "\n",
    "ObsWikiVote08 = greedy_average_surplus_degree(G,beta)\n",
    "# Lấy các giá trị xác suất từ các cạnh\n",
    "probabilities = [ObsWikiVote08[u][v]['probability'] for u, v in ObsWikiVote08.edges()]\n",
    "weights = [ObsWikiVote08[u][v]['weight'] for u, v in ObsWikiVote08.edges()]\n",
    "\n",
    "# Tính giá trị trung bình\n",
    "mean_probability = np.mean(probabilities)\n",
    "mean_weight = np.mean(weights)\n",
    "\n",
    "# Tính độ lệch chuẩn\n",
    "std_deviation = np.std(probabilities)\n",
    "print(\"Mật độ kì vọng của đồ thị con do thuật toán obs sinh ra là:\", expected_density(ObsWikiVote08))\n",
    "print(\"Số đỉnh trong đồ thị con của thuật toán obs  là:\", ObsWikiVote08.number_of_nodes())\n",
    "print(\"Số cạnh trong đồ thị con của thuật toán obs  là:\", ObsWikiVote08.number_of_edges())\n",
    "print(\"Mật độ kì cạnh vọng của thuật toán obs  là:\",calculate_edge_density(ObsWikiVote08))\n",
    "print(\"Xác xuất cạnh trung bình của thuật toán obs là:\",average_edge_probability(ObsWikiVote08))\n",
    "print(\" trọng số cạnh trung bình của thuật toán obs là:\",mean_weight)\n",
    "print(\"Độ lệch chuẩn của thuật toán obs:\", std_deviation)\n"
   ]
  },
  {
   "cell_type": "code",
   "execution_count": 89,
   "id": "3c4c3cd2",
   "metadata": {},
   "outputs": [],
   "source": [
    "nx.write_gexf(ObsWikiVote02, \"ObsWikiVote02.gexf\")\n",
    "nx.write_gexf(ObsWikiVote04, \"ObsWikiVote04.gexf\")\n",
    "nx.write_gexf(ObsWikiVote08, \"ObsWikiVote08.gexf\")\n"
   ]
  },
  {
   "cell_type": "markdown",
   "id": "d7feb68a",
   "metadata": {},
   "source": [
    "# Đối với đồ thị p2p-Gnutella08"
   ]
  },
  {
   "cell_type": "code",
   "execution_count": 66,
   "id": "ea15d107",
   "metadata": {},
   "outputs": [
    {
     "name": "stdout",
     "output_type": "stream",
     "text": [
      "Number of nodes: 6301\n",
      "Number of edges: 20777\n",
      "Giá trị cạnh trung bình của đồ thị protein579138: 0.5004933345397413\n",
      "Độ lệch chuẩn của của  đồ thị protein579138: 0.2896557323372045\n",
      "Trọng số cạnh trung bình của đồ thị là: 0.4994369331921513\n"
     ]
    }
   ],
   "source": [
    "random.seed(1)\n",
    "# Initialize a directed graph\n",
    "G = nx.DiGraph()\n",
    "\n",
    "# Assuming your data is stored in a file called 'email-Eu-core.txt'\n",
    "# and the data starts from a specific line after the header.\n",
    "# Adjust the path to where you have stored your file.\n",
    "with open('p2p-Gnutella08.txt', 'r') as file:\n",
    "    for line in file:\n",
    "        # Skip header lines or process them differently if needed\n",
    "        if line.startswith('#'):\n",
    "            continue\n",
    "        \n",
    "        # Split the line into source and target nodes\n",
    "        source, target = map(int, line.split())\n",
    "        # Assign a random probability to each edge\n",
    "        probability = random.random()  # Generate a random probability between 0 and 1\n",
    "        # Assign a random weight to each edge (for example, between 1 and 10)\n",
    "        weight = random.random()\n",
    "        G.add_edge(source, target, probability=probability, weight=weight)\n",
    "\n",
    "print(\"Number of nodes:\", G.number_of_nodes())\n",
    "print(\"Number of edges:\", G.number_of_edges())\n",
    "\n",
    "\n",
    "\n",
    "\n",
    "# Optional: Print some edges with their attributes to verify\n",
    "# for u, v, data in G.edges(data=True):\n",
    "#     print(f\"Edge ({u}, {v}) - Probability: {data['probability']}, Weight: {data['weight']}\")\n",
    "\n",
    "\n",
    "# Lấy các giá trị xác suất từ các cạnh\n",
    "probabilities = [G[u][v]['probability'] for u, v in G.edges()]\n",
    "weights = [G[u][v]['weight'] for u, v in G.edges()]\n",
    "# Tính giá trị trung bình\n",
    "mean_probability = np.mean(probabilities)\n",
    "mean_weight = np.mean(weights)\n",
    "\n",
    "\n",
    "# Tính độ lệch chuẩn\n",
    "std_deviation = np.std(probabilities)\n",
    "\n",
    "    \n",
    "print(\"Giá trị cạnh trung bình của đồ thị protein579138:\", mean_probability)\n",
    "print(\"Độ lệch chuẩn của của  đồ thị protein579138:\", std_deviation)\n",
    "print(\"Trọng số cạnh trung bình của đồ thị là:\",mean_weight)\n",
    "\n",
    "\n",
    "\n"
   ]
  },
  {
   "cell_type": "code",
   "execution_count": 67,
   "id": "ac3cf465",
   "metadata": {},
   "outputs": [
    {
     "name": "stderr",
     "output_type": "stream",
     "text": [
      "100%|██████████████████████████████████████████████████████████████████████████████| 6299/6299 [06:47<00:00, 15.47it/s]"
     ]
    },
    {
     "name": "stdout",
     "output_type": "stream",
     "text": [
      "Mật độ kì vọng của đồ thị con do thuật toán obs sinh ra là: 0.927036378249573\n",
      "Số đỉnh trong đồ thị con của thuật toán obs  là: 4\n",
      "Số cạnh trong đồ thị con của thuật toán obs  là: 4\n",
      "sum_probabilities 3.708145512998292\n",
      "num_possible_edges 12\n",
      "Mật độ kì cạnh vọng của thuật toán obs  là: 0.309012126083191\n",
      "Xác xuất cạnh trung bình của thuật toán obs là: 0.927036378249573\n",
      " trọng số cạnh trung bình của thuật toán obs là: 0.678131428379578\n",
      "Độ lệch chuẩn của thuật toán obs: 0.055061133437259706\n"
     ]
    },
    {
     "name": "stderr",
     "output_type": "stream",
     "text": [
      "\n"
     ]
    }
   ],
   "source": [
    "beta = 0.6\n",
    "\n",
    "p2pGnutella06 = greedy_average_surplus_degree(G,beta)\n",
    "# Lấy các giá trị xác suất từ các cạnh\n",
    "probabilities = [p2pGnutella06[u][v]['probability'] for u, v in p2pGnutella06.edges()]\n",
    "weights = [p2pGnutella06[u][v]['weight'] for u, v in p2pGnutella06.edges()]\n",
    "\n",
    "# Tính giá trị trung bình\n",
    "mean_probability = np.mean(probabilities)\n",
    "mean_weight = np.mean(weights)\n",
    "\n",
    "# Tính độ lệch chuẩn\n",
    "std_deviation = np.std(probabilities)\n",
    "print(\"Mật độ kì vọng của đồ thị con do thuật toán obs sinh ra là:\", expected_density(p2pGnutella06))\n",
    "print(\"Số đỉnh trong đồ thị con của thuật toán obs  là:\", p2pGnutella06.number_of_nodes())\n",
    "print(\"Số cạnh trong đồ thị con của thuật toán obs  là:\", p2pGnutella06.number_of_edges())\n",
    "print(\"Mật độ kì cạnh vọng của thuật toán obs  là:\",calculate_edge_density(p2pGnutella06))\n",
    "print(\"Xác xuất cạnh trung bình của thuật toán obs là:\",average_edge_probability(p2pGnutella06))\n",
    "print(\" trọng số cạnh trung bình của thuật toán obs là:\",mean_weight)\n",
    "print(\"Độ lệch chuẩn của thuật toán obs:\", std_deviation)\n"
   ]
  },
  {
   "cell_type": "code",
   "execution_count": null,
   "id": "d36fa0d8",
   "metadata": {},
   "outputs": [
    {
     "name": "stderr",
     "output_type": "stream",
     "text": [
      " 75%|██████████████████████████████████████████████████████████▎                   | 4710/6299 [11:40<01:19, 20.04it/s]"
     ]
    }
   ],
   "source": [
    "beta = 0.1\n",
    "\n",
    "p2pGnutella08 = greedy_average_surplus_degree(G,beta)\n",
    "# Lấy các giá trị xác suất từ các cạnh\n",
    "probabilities = [p2pGnutella08[u][v]['probability'] for u, v in p2pGnutella08.edges()]\n",
    "weights = [p2pGnutella08[u][v]['weight'] for u, v in p2pGnutella08.edges()]\n",
    "\n",
    "# Tính giá trị trung bình\n",
    "mean_probability = np.mean(probabilities)\n",
    "mean_weight = np.mean(weights)\n",
    "\n",
    "# Tính độ lệch chuẩn\n",
    "std_deviation = np.std(probabilities)\n",
    "print(\"Mật độ kì vọng của đồ thị con do thuật toán obs sinh ra là:\", expected_density(p2pGnutella08))\n",
    "print(\"Số đỉnh trong đồ thị con của thuật toán obs  là:\", p2pGnutella08.number_of_nodes())\n",
    "print(\"Số cạnh trong đồ thị con của thuật toán obs  là:\", p2pGnutella08.number_of_edges())\n",
    "print(\"Mật độ kì cạnh vọng của thuật toán obs  là:\",calculate_edge_density(p2pGnutella08))\n",
    "print(\"Xác xuất cạnh trung bình của thuật toán obs là:\",average_edge_probability(p2pGnutella08))\n",
    "print(\" trọng số cạnh trung bình của thuật toán obs là:\",mean_weight)\n",
    "print(\"Độ lệch chuẩn của thuật toán obs:\", std_deviation)\n"
   ]
  },
  {
   "cell_type": "code",
   "execution_count": null,
   "id": "1f96aabe",
   "metadata": {},
   "outputs": [],
   "source": [
    "beta = 0.4\n",
    "\n",
    "p2pGnutella04 = greedy_average_surplus_degree(G,beta)\n",
    "# Lấy các giá trị xác suất từ các cạnh\n",
    "probabilities = [p2pGnutella04[u][v]['probability'] for u, v in p2pGnutella04.edges()]\n",
    "weights = [p2pGnutella04[u][v]['weight'] for u, v in p2pGnutella04.edges()]\n",
    "\n",
    "# Tính giá trị trung bình\n",
    "mean_probability = np.mean(probabilities)\n",
    "mean_weight = np.mean(weights)\n",
    "\n",
    "# Tính độ lệch chuẩn\n",
    "std_deviation = np.std(probabilities)\n",
    "print(\"Mật độ kì vọng của đồ thị con do thuật toán obs sinh ra là:\", expected_density(p2pGnutella04))\n",
    "print(\"Số đỉnh trong đồ thị con của thuật toán obs  là:\", p2pGnutella04.number_of_nodes())\n",
    "print(\"Số cạnh trong đồ thị con của thuật toán obs  là:\", p2pGnutella04.number_of_edges())\n",
    "print(\"Mật độ kì cạnh vọng của thuật toán obs  là:\",calculate_edge_density(p2pGnutella04))\n",
    "print(\"Xác xuất cạnh trung bình của thuật toán obs là:\",average_edge_probability(p2pGnutella04))\n",
    "print(\" trọng số cạnh trung bình của thuật toán obs là:\",mean_weight)\n",
    "print(\"Độ lệch chuẩn của thuật toán obs:\", std_deviation)\n"
   ]
  },
  {
   "cell_type": "code",
   "execution_count": null,
   "id": "fb676ca0",
   "metadata": {},
   "outputs": [],
   "source": [
    "beta = 0.8\n",
    "\n",
    "p2pGnutella08 = greedy_average_surplus_degree(G,beta)\n",
    "# Lấy các giá trị xác suất từ các cạnh\n",
    "probabilities = [p2pGnutella08[u][v]['probability'] for u, v in p2pGnutella08.edges()]\n",
    "weights = [p2pGnutella08[u][v]['weight'] for u, v in p2pGnutella08.edges()]\n",
    "\n",
    "# Tính giá trị trung bình\n",
    "mean_probability = np.mean(probabilities)\n",
    "mean_weight = np.mean(weights)\n",
    "\n",
    "# Tính độ lệch chuẩn\n",
    "std_deviation = np.std(probabilities)\n",
    "print(\"Mật độ kì vọng của đồ thị con do thuật toán obs sinh ra là:\", expected_density(p2pGnutella08))\n",
    "print(\"Số đỉnh trong đồ thị con của thuật toán obs  là:\", p2pGnutella08.number_of_nodes())\n",
    "print(\"Số cạnh trong đồ thị con của thuật toán obs  là:\", p2pGnutella08.number_of_edges())\n",
    "print(\"Mật độ kì cạnh vọng của thuật toán obs  là:\",calculate_edge_density(p2pGnutella08))\n",
    "print(\"Xác xuất cạnh trung bình của thuật toán obs là:\",average_edge_probability(p2pGnutella08))\n",
    "print(\" trọng số cạnh trung bình của thuật toán obs là:\",mean_weight)\n",
    "print(\"Độ lệch chuẩn của thuật toán obs:\", std_deviation)\n"
   ]
  },
  {
   "cell_type": "markdown",
   "id": "75d6d63e",
   "metadata": {},
   "source": [
    "# Đồ thị 579138.protein"
   ]
  },
  {
   "cell_type": "code",
   "execution_count": 41,
   "id": "af2677a0",
   "metadata": {},
   "outputs": [
    {
     "name": "stdout",
     "output_type": "stream",
     "text": [
      "Number of nodes: 1672\n",
      "Number of edges: 106758\n"
     ]
    }
   ],
   "source": [
    "random.seed(9)\n",
    "\n",
    "# Đọc dữ liệu từ tệp TXT\n",
    "file_path = '579138.protein.links.full.v12.0.txt/579138.protein.links.full.v12.0.txt'\n",
    "data = pd.read_csv(file_path, sep=' ')\n",
    "\n",
    "# Khởi tạo đồ thị có hướng\n",
    "G = nx.DiGraph()\n",
    "\n",
    "# Thêm các cạnh với trọng số và xác suất\n",
    "for _, row in data.iterrows():\n",
    "    protein1 = row['protein1']\n",
    "    protein2 = row['protein2']\n",
    "    combined_score = row['combined_score']\n",
    "    \n",
    "    # Giả sử xác suất được tính dựa trên combined_score\n",
    "    probability = combined_score / 1000.0  # Điều chỉnh hệ số nếu cần thiết\n",
    "\n",
    "     # Định hướng cạnh dựa trên một quy tắc ngẫu nhiên\n",
    "    if random.choice([True, False]):\n",
    "        G.add_edge(protein1, protein2, probability= probability, weight=random.random())\n",
    "#     else:\n",
    "#         G.add_edge(protein2, protein1, probability= probability, weight=random.randint(1, 10))\n",
    "\n",
    "# # Hàm vẽ đồ thị\n",
    "# def plot_graph(G):\n",
    "#     pos = nx.spring_layout(G)  # Tạo bố cục cho đồ thị\n",
    "\n",
    "#     # Lấy thuộc tính xác suất và trọng số của các cạnh\n",
    "#     edge_probabilities = nx.get_edge_attributes(G, 'probability')\n",
    "#     edge_weights = nx.get_edge_attributes(G, 'weight')\n",
    "\n",
    "#     # Kết hợp xác suất và trọng số vào nhãn cạnh\n",
    "#     edge_labels = {edge: f\"{edge_weights[edge]:.2f}, {edge_probabilities[edge]:.2f}\" for edge in G.edges()}\n",
    "\n",
    "#     # Vẽ đồ thị\n",
    "#     nx.draw(G, pos, with_labels=True, node_color='lightblue', edge_color='red', node_size=500, font_size=8, font_weight='bold')\n",
    "#     nx.draw_networkx_edge_labels(G, pos, edge_labels=edge_labels, font_size=7)  # Hiển thị nhãn của các cạnh\n",
    "\n",
    "#     plt.title('Uncertain Weighted Directed Graph Visualization')\n",
    "#     plt.show()\n",
    "\n",
    "# # Gọi hàm để vẽ đồ thị\n",
    "# plot_graph(G)\n",
    "\n",
    "# # In các cạnh của đồ thị có hướng\n",
    "# print(\"Edges in directed graph:\")\n",
    "# for edge in G.edges(data=True):\n",
    "#     print(edge)\n",
    "print(\"Number of nodes:\", G.number_of_nodes())\n",
    "print(\"Number of edges:\", G.number_of_edges())"
   ]
  },
  {
   "cell_type": "code",
   "execution_count": 42,
   "id": "698562b6",
   "metadata": {},
   "outputs": [
    {
     "name": "stdout",
     "output_type": "stream",
     "text": [
      "Giá trị cạnh trung bình của đồ thị protein579138: 0.32007921654583266\n",
      "Độ lệch chuẩn của của  đồ thị protein579138: 0.21746639681189547\n",
      "Độ lệch chuẩn trọng số của đồ thị con được tạo ra bởi thuật toán uds là: 0.28810709549597074\n",
      "Trọng số cạnh trung bình của đồ thị là: 0.49961743613897386\n"
     ]
    }
   ],
   "source": [
    "\n",
    "# Lấy các giá trị xác suất từ các cạnh\n",
    "probabilities = [G[u][v]['probability'] for u, v in G.edges()]\n",
    "weights = [G[u][v]['weight'] for u, v in G.edges()]\n",
    "# Tính giá trị trung bình\n",
    "mean_probability = np.mean(probabilities)\n",
    "mean_weight = np.mean(weights)\n",
    "\n",
    "\n",
    "# Tính độ lệch chuẩn\n",
    "std_deviation = np.std(probabilities)\n",
    "do_lech_chuan_trong_so = np.std(weights)\n",
    "\n",
    "    \n",
    "print(\"Giá trị cạnh trung bình của đồ thị protein579138:\", mean_probability)\n",
    "print(\"Độ lệch chuẩn của của  đồ thị protein579138:\", std_deviation)\n",
    "print(\"Độ lệch chuẩn trọng số của đồ thị con được tạo ra bởi thuật toán uds là:\", do_lech_chuan_trong_so)\n",
    "print(\"Trọng số cạnh trung bình của đồ thị là:\",mean_weight)\n",
    "\n",
    "\n"
   ]
  },
  {
   "cell_type": "code",
   "execution_count": 40,
   "id": "d1039bcf",
   "metadata": {},
   "outputs": [
    {
     "name": "stderr",
     "output_type": "stream",
     "text": [
      "100%|██████████████████████████████████████████████████████████████████████████████| 1668/1668 [06:47<00:00,  4.09it/s]\n"
     ]
    },
    {
     "name": "stdout",
     "output_type": "stream",
     "text": [
      "Mật độ kì vọng của đồ thị con do thuật toán obs sinh ra là: 41.351226434365635\n",
      "Số đỉnh trong đồ thị con của thuật toán obs  là: 811\n",
      "Số cạnh trong đồ thị con của thuật toán obs  là: 66922\n",
      "sum_probabilities 33535.84463827053\n",
      "num_possible_edges 656910\n",
      "Mật độ kì cạnh vọng của thuật toán obs  là: 0.051050896832550166\n",
      "Xác xuất cạnh trung bình của thuật toán obs là: 0.501118386155084\n",
      " trọng số cạnh trung bình của thuật toán obs là: 0.5021173431388396\n",
      "Độ lệch chuẩn của thuật toán obs: 0.2883559779273041\n"
     ]
    }
   ],
   "source": [
    "beta = 0.1\n",
    "\n",
    "Obs579138Protein01 = greedy_average_surplus_degree(G,beta)\n",
    "# Lấy các giá trị xác suất từ các cạnh\n",
    "probabilities = [Obs579138Protein01[u][v]['probability'] for u, v in Obs579138Protein01.edges()]\n",
    "weights = [Obs579138Protein01[u][v]['weight'] for u, v in Obs579138Protein01.edges()]\n",
    "\n",
    "# Tính giá trị trung bình\n",
    "mean_probability = np.mean(probabilities)\n",
    "mean_weight = np.mean(weights)\n",
    "\n",
    "# Tính độ lệch chuẩn\n",
    "std_deviation = np.std(probabilities)\n",
    "print(\"Mật độ kì vọng của đồ thị con do thuật toán obs sinh ra là:\", expected_density(Obs579138Protein01))\n",
    "print(\"Số đỉnh trong đồ thị con của thuật toán obs  là:\", Obs579138Protein01.number_of_nodes())\n",
    "print(\"Số cạnh trong đồ thị con của thuật toán obs  là:\", Obs579138Protein01.number_of_edges())\n",
    "print(\"Mật độ kì cạnh vọng của thuật toán obs  là:\",calculate_edge_density(Obs579138Protein01))\n",
    "print(\"Xác xuất cạnh trung bình của thuật toán obs là:\",average_edge_probability(Obs579138Protein01))\n",
    "print(\" trọng số cạnh trung bình của thuật toán obs là:\",mean_weight)\n",
    "print(\"Độ lệch chuẩn của thuật toán obs:\", std_deviation)\n"
   ]
  },
  {
   "cell_type": "code",
   "execution_count": 43,
   "id": "3ee1999b",
   "metadata": {},
   "outputs": [
    {
     "name": "stderr",
     "output_type": "stream",
     "text": [
      "Processing: 1672node [08:44,  3.19node/s]                                                                              "
     ]
    },
    {
     "name": "stdout",
     "output_type": "stream",
     "text": [
      "Số đỉnh trong đồ thị con của thuật toán obs  là: 82\n",
      "Số cạnh trong đồ thị con của thuật toán obs  là: 3173\n",
      "sum_probabilities 2828.197000000003\n",
      "num_possible_edges 6642\n",
      "Mật độ kì cạnh vọng của thuật toán obs  là: 0.425805028605842\n",
      "Xác xuất cạnh trung bình của thuật toán obs là: 0.8913321777497645\n",
      " trọng số cạnh trung bình của thuật toán obs là: 0.5087647350836987\n",
      "Độ lệch chuẩn của thuật toán obs: 0.18578439757974635\n"
     ]
    },
    {
     "name": "stderr",
     "output_type": "stream",
     "text": [
      "\n"
     ]
    }
   ],
   "source": [
    "beta = 0.2\n",
    "\n",
    "Obs579138Protein02 = greedy_average_surplus_degree(G,beta)\n",
    "# Lấy các giá trị xác suất từ các cạnh\n",
    "probabilities = [Obs579138Protein02[u][v]['probability'] for u, v in Obs579138Protein02.edges()]\n",
    "weights = [Obs579138Protein02[u][v]['weight'] for u, v in Obs579138Protein02.edges()]\n",
    "\n",
    "# Tính giá trị trung bình\n",
    "mean_probability = np.mean(probabilities)\n",
    "mean_weight = np.mean(weights)\n",
    "\n",
    "# Tính độ lệch chuẩn\n",
    "std_deviation = np.std(probabilities)\n",
    "# print(\"Mật độ kì vọng của đồ thị con do thuật toán obs sinh ra là:\", expected_density(Obs579138Protein02))\n",
    "print(\"Số đỉnh trong đồ thị con của thuật toán obs  là:\", Obs579138Protein02.number_of_nodes())\n",
    "print(\"Số cạnh trong đồ thị con của thuật toán obs  là:\", Obs579138Protein02.number_of_edges())\n",
    "print(\"Mật độ kì cạnh vọng của thuật toán obs  là:\",calculate_edge_density(Obs579138Protein02))\n",
    "print(\"Xác xuất cạnh trung bình của thuật toán obs là:\",average_edge_probability(Obs579138Protein02))\n",
    "print(\" trọng số cạnh trung bình của thuật toán obs là:\",mean_weight)\n",
    "print(\"Độ lệch chuẩn của thuật toán obs:\", std_deviation)\n"
   ]
  },
  {
   "cell_type": "code",
   "execution_count": 44,
   "id": "503bb20a",
   "metadata": {},
   "outputs": [
    {
     "name": "stderr",
     "output_type": "stream",
     "text": [
      "Processing:   2%|█▎                                                                | 34/1670 [00:46<37:38,  1.38s/node]\n"
     ]
    },
    {
     "ename": "KeyboardInterrupt",
     "evalue": "",
     "output_type": "error",
     "traceback": [
      "\u001b[1;31m---------------------------------------------------------------------------\u001b[0m",
      "\u001b[1;31mKeyboardInterrupt\u001b[0m                         Traceback (most recent call last)",
      "\u001b[1;32m~\\AppData\\Local\\Temp\\ipykernel_63424\\2336090645.py\u001b[0m in \u001b[0;36m<module>\u001b[1;34m\u001b[0m\n\u001b[0;32m      1\u001b[0m \u001b[0mbeta\u001b[0m \u001b[1;33m=\u001b[0m \u001b[1;36m0.3\u001b[0m\u001b[1;33m\u001b[0m\u001b[1;33m\u001b[0m\u001b[0m\n\u001b[0;32m      2\u001b[0m \u001b[1;33m\u001b[0m\u001b[0m\n\u001b[1;32m----> 3\u001b[1;33m \u001b[0mObs579138Protein02\u001b[0m \u001b[1;33m=\u001b[0m \u001b[0mgreedy_average_surplus_degree\u001b[0m\u001b[1;33m(\u001b[0m\u001b[0mG\u001b[0m\u001b[1;33m,\u001b[0m\u001b[0mbeta\u001b[0m\u001b[1;33m)\u001b[0m\u001b[1;33m\u001b[0m\u001b[1;33m\u001b[0m\u001b[0m\n\u001b[0m\u001b[0;32m      4\u001b[0m \u001b[1;31m# Lấy các giá trị xác suất từ các cạnh\u001b[0m\u001b[1;33m\u001b[0m\u001b[1;33m\u001b[0m\u001b[0m\n\u001b[0;32m      5\u001b[0m \u001b[0mprobabilities\u001b[0m \u001b[1;33m=\u001b[0m \u001b[1;33m[\u001b[0m\u001b[0mObs579138Protein02\u001b[0m\u001b[1;33m[\u001b[0m\u001b[0mu\u001b[0m\u001b[1;33m]\u001b[0m\u001b[1;33m[\u001b[0m\u001b[0mv\u001b[0m\u001b[1;33m]\u001b[0m\u001b[1;33m[\u001b[0m\u001b[1;34m'probability'\u001b[0m\u001b[1;33m]\u001b[0m \u001b[1;32mfor\u001b[0m \u001b[0mu\u001b[0m\u001b[1;33m,\u001b[0m \u001b[0mv\u001b[0m \u001b[1;32min\u001b[0m \u001b[0mObs579138Protein02\u001b[0m\u001b[1;33m.\u001b[0m\u001b[0medges\u001b[0m\u001b[1;33m(\u001b[0m\u001b[1;33m)\u001b[0m\u001b[1;33m]\u001b[0m\u001b[1;33m\u001b[0m\u001b[1;33m\u001b[0m\u001b[0m\n",
      "\u001b[1;32m~\\AppData\\Local\\Temp\\ipykernel_63424\\2926572295.py\u001b[0m in \u001b[0;36mgreedy_average_surplus_degree\u001b[1;34m(G, beta)\u001b[0m\n\u001b[0;32m    220\u001b[0m             \u001b[1;31m# Cập nhật lại hàng đợi ưu tiên\u001b[0m\u001b[1;33m\u001b[0m\u001b[1;33m\u001b[0m\u001b[0m\n\u001b[0;32m    221\u001b[0m             \u001b[0mpriority_queue_out\u001b[0m \u001b[1;33m=\u001b[0m \u001b[0minitialize_priority_queue_out\u001b[0m\u001b[1;33m(\u001b[0m\u001b[0mH\u001b[0m\u001b[1;33m,\u001b[0m \u001b[0mbeta\u001b[0m\u001b[1;33m)\u001b[0m\u001b[1;33m\u001b[0m\u001b[1;33m\u001b[0m\u001b[0m\n\u001b[1;32m--> 222\u001b[1;33m             \u001b[0mpriority_queue_in\u001b[0m \u001b[1;33m=\u001b[0m \u001b[0minitialize_priority_queue_in\u001b[0m\u001b[1;33m(\u001b[0m\u001b[0mH\u001b[0m\u001b[1;33m,\u001b[0m \u001b[0mbeta\u001b[0m\u001b[1;33m)\u001b[0m\u001b[1;33m\u001b[0m\u001b[1;33m\u001b[0m\u001b[0m\n\u001b[0m\u001b[0;32m    223\u001b[0m \u001b[1;33m\u001b[0m\u001b[0m\n\u001b[0;32m    224\u001b[0m             \u001b[0mpbar\u001b[0m\u001b[1;33m.\u001b[0m\u001b[0mupdate\u001b[0m\u001b[1;33m(\u001b[0m\u001b[1;36m1\u001b[0m\u001b[1;33m)\u001b[0m  \u001b[1;31m# Cập nhật tiến trình mỗi khi một đỉnh được loại bỏ\u001b[0m\u001b[1;33m\u001b[0m\u001b[1;33m\u001b[0m\u001b[0m\n",
      "\u001b[1;32m~\\AppData\\Local\\Temp\\ipykernel_63424\\2926572295.py\u001b[0m in \u001b[0;36minitialize_priority_queue_in\u001b[1;34m(G, beta)\u001b[0m\n\u001b[0;32m    129\u001b[0m     \u001b[0mpriority_queue\u001b[0m \u001b[1;33m=\u001b[0m \u001b[1;33m[\u001b[0m\u001b[1;33m]\u001b[0m\u001b[1;33m\u001b[0m\u001b[1;33m\u001b[0m\u001b[0m\n\u001b[0;32m    130\u001b[0m     \u001b[1;32mfor\u001b[0m \u001b[0mv\u001b[0m \u001b[1;32min\u001b[0m \u001b[0mG\u001b[0m\u001b[1;33m.\u001b[0m\u001b[0mnodes\u001b[0m\u001b[1;33m(\u001b[0m\u001b[1;33m)\u001b[0m\u001b[1;33m:\u001b[0m\u001b[1;33m\u001b[0m\u001b[1;33m\u001b[0m\u001b[0m\n\u001b[1;32m--> 131\u001b[1;33m         \u001b[0msd\u001b[0m \u001b[1;33m=\u001b[0m \u001b[0mexpected_degree_in\u001b[0m\u001b[1;33m(\u001b[0m\u001b[0mG\u001b[0m\u001b[1;33m,\u001b[0m \u001b[0mv\u001b[0m\u001b[1;33m,\u001b[0m \u001b[0mbeta\u001b[0m\u001b[1;33m)\u001b[0m\u001b[1;33m\u001b[0m\u001b[1;33m\u001b[0m\u001b[0m\n\u001b[0m\u001b[0;32m    132\u001b[0m         \u001b[0mheapq\u001b[0m\u001b[1;33m.\u001b[0m\u001b[0mheappush\u001b[0m\u001b[1;33m(\u001b[0m\u001b[0mpriority_queue\u001b[0m\u001b[1;33m,\u001b[0m \u001b[1;33m(\u001b[0m\u001b[0msd\u001b[0m\u001b[1;33m,\u001b[0m \u001b[0mv\u001b[0m\u001b[1;33m)\u001b[0m\u001b[1;33m)\u001b[0m\u001b[1;33m\u001b[0m\u001b[1;33m\u001b[0m\u001b[0m\n\u001b[0;32m    133\u001b[0m \u001b[1;33m\u001b[0m\u001b[0m\n",
      "\u001b[1;32m~\\AppData\\Local\\Temp\\ipykernel_63424\\2027583508.py\u001b[0m in \u001b[0;36mexpected_degree_in\u001b[1;34m(G, v, beta)\u001b[0m\n\u001b[0;32m    112\u001b[0m \u001b[1;33m\u001b[0m\u001b[0m\n\u001b[0;32m    113\u001b[0m \u001b[1;32mdef\u001b[0m \u001b[0mexpected_degree_in\u001b[0m\u001b[1;33m(\u001b[0m\u001b[0mG\u001b[0m\u001b[1;33m,\u001b[0m \u001b[0mv\u001b[0m\u001b[1;33m,\u001b[0m \u001b[0mbeta\u001b[0m\u001b[1;33m)\u001b[0m\u001b[1;33m:\u001b[0m\u001b[1;33m\u001b[0m\u001b[1;33m\u001b[0m\u001b[0m\n\u001b[1;32m--> 114\u001b[1;33m     \u001b[1;32mreturn\u001b[0m \u001b[0msum\u001b[0m\u001b[1;33m(\u001b[0m\u001b[0mG\u001b[0m\u001b[1;33m[\u001b[0m\u001b[0mu\u001b[0m\u001b[1;33m]\u001b[0m\u001b[1;33m[\u001b[0m\u001b[0mv\u001b[0m\u001b[1;33m]\u001b[0m\u001b[1;33m[\u001b[0m\u001b[1;34m'weight'\u001b[0m\u001b[1;33m]\u001b[0m \u001b[1;33m*\u001b[0m\u001b[0mG\u001b[0m\u001b[1;33m[\u001b[0m\u001b[0mu\u001b[0m\u001b[1;33m]\u001b[0m\u001b[1;33m[\u001b[0m\u001b[0mv\u001b[0m\u001b[1;33m]\u001b[0m\u001b[1;33m[\u001b[0m\u001b[1;34m'probability'\u001b[0m\u001b[1;33m]\u001b[0m \u001b[1;33m-\u001b[0m \u001b[0mbeta\u001b[0m \u001b[1;32mfor\u001b[0m \u001b[0mu\u001b[0m \u001b[1;32min\u001b[0m \u001b[0mG\u001b[0m\u001b[1;33m.\u001b[0m\u001b[0mpredecessors\u001b[0m\u001b[1;33m(\u001b[0m\u001b[0mv\u001b[0m\u001b[1;33m)\u001b[0m \u001b[1;32mif\u001b[0m \u001b[0mu\u001b[0m \u001b[1;32min\u001b[0m \u001b[0mG\u001b[0m\u001b[1;33m)\u001b[0m\u001b[1;33m\u001b[0m\u001b[1;33m\u001b[0m\u001b[0m\n\u001b[0m\u001b[0;32m    115\u001b[0m \u001b[1;33m\u001b[0m\u001b[0m\n\u001b[0;32m    116\u001b[0m \u001b[1;33m\u001b[0m\u001b[0m\n",
      "\u001b[1;32m~\\AppData\\Local\\Temp\\ipykernel_63424\\2027583508.py\u001b[0m in \u001b[0;36m<genexpr>\u001b[1;34m(.0)\u001b[0m\n\u001b[0;32m    112\u001b[0m \u001b[1;33m\u001b[0m\u001b[0m\n\u001b[0;32m    113\u001b[0m \u001b[1;32mdef\u001b[0m \u001b[0mexpected_degree_in\u001b[0m\u001b[1;33m(\u001b[0m\u001b[0mG\u001b[0m\u001b[1;33m,\u001b[0m \u001b[0mv\u001b[0m\u001b[1;33m,\u001b[0m \u001b[0mbeta\u001b[0m\u001b[1;33m)\u001b[0m\u001b[1;33m:\u001b[0m\u001b[1;33m\u001b[0m\u001b[1;33m\u001b[0m\u001b[0m\n\u001b[1;32m--> 114\u001b[1;33m     \u001b[1;32mreturn\u001b[0m \u001b[0msum\u001b[0m\u001b[1;33m(\u001b[0m\u001b[0mG\u001b[0m\u001b[1;33m[\u001b[0m\u001b[0mu\u001b[0m\u001b[1;33m]\u001b[0m\u001b[1;33m[\u001b[0m\u001b[0mv\u001b[0m\u001b[1;33m]\u001b[0m\u001b[1;33m[\u001b[0m\u001b[1;34m'weight'\u001b[0m\u001b[1;33m]\u001b[0m \u001b[1;33m*\u001b[0m\u001b[0mG\u001b[0m\u001b[1;33m[\u001b[0m\u001b[0mu\u001b[0m\u001b[1;33m]\u001b[0m\u001b[1;33m[\u001b[0m\u001b[0mv\u001b[0m\u001b[1;33m]\u001b[0m\u001b[1;33m[\u001b[0m\u001b[1;34m'probability'\u001b[0m\u001b[1;33m]\u001b[0m \u001b[1;33m-\u001b[0m \u001b[0mbeta\u001b[0m \u001b[1;32mfor\u001b[0m \u001b[0mu\u001b[0m \u001b[1;32min\u001b[0m \u001b[0mG\u001b[0m\u001b[1;33m.\u001b[0m\u001b[0mpredecessors\u001b[0m\u001b[1;33m(\u001b[0m\u001b[0mv\u001b[0m\u001b[1;33m)\u001b[0m \u001b[1;32mif\u001b[0m \u001b[0mu\u001b[0m \u001b[1;32min\u001b[0m \u001b[0mG\u001b[0m\u001b[1;33m)\u001b[0m\u001b[1;33m\u001b[0m\u001b[1;33m\u001b[0m\u001b[0m\n\u001b[0m\u001b[0;32m    115\u001b[0m \u001b[1;33m\u001b[0m\u001b[0m\n\u001b[0;32m    116\u001b[0m \u001b[1;33m\u001b[0m\u001b[0m\n",
      "\u001b[1;32mC:\\ProgramData\\Anaconda3\\lib\\site-packages\\networkx\\classes\\coreviews.py\u001b[0m in \u001b[0;36m__getitem__\u001b[1;34m(self, key)\u001b[0m\n\u001b[0;32m     52\u001b[0m \u001b[1;33m\u001b[0m\u001b[0m\n\u001b[0;32m     53\u001b[0m     \u001b[1;32mdef\u001b[0m \u001b[0m__getitem__\u001b[0m\u001b[1;33m(\u001b[0m\u001b[0mself\u001b[0m\u001b[1;33m,\u001b[0m \u001b[0mkey\u001b[0m\u001b[1;33m)\u001b[0m\u001b[1;33m:\u001b[0m\u001b[1;33m\u001b[0m\u001b[1;33m\u001b[0m\u001b[0m\n\u001b[1;32m---> 54\u001b[1;33m         \u001b[1;32mreturn\u001b[0m \u001b[0mself\u001b[0m\u001b[1;33m.\u001b[0m\u001b[0m_atlas\u001b[0m\u001b[1;33m[\u001b[0m\u001b[0mkey\u001b[0m\u001b[1;33m]\u001b[0m\u001b[1;33m\u001b[0m\u001b[1;33m\u001b[0m\u001b[0m\n\u001b[0m\u001b[0;32m     55\u001b[0m \u001b[1;33m\u001b[0m\u001b[0m\n\u001b[0;32m     56\u001b[0m     \u001b[1;32mdef\u001b[0m \u001b[0mcopy\u001b[0m\u001b[1;33m(\u001b[0m\u001b[0mself\u001b[0m\u001b[1;33m)\u001b[0m\u001b[1;33m:\u001b[0m\u001b[1;33m\u001b[0m\u001b[1;33m\u001b[0m\u001b[0m\n",
      "\u001b[1;31mKeyboardInterrupt\u001b[0m: "
     ]
    }
   ],
   "source": [
    "beta = 0.3\n",
    "\n",
    "Obs579138Protein02 = greedy_average_surplus_degree(G,beta)\n",
    "# Lấy các giá trị xác suất từ các cạnh\n",
    "probabilities = [Obs579138Protein02[u][v]['probability'] for u, v in Obs579138Protein02.edges()]\n",
    "weights = [Obs579138Protein02[u][v]['weight'] for u, v in Obs579138Protein02.edges()]\n",
    "\n",
    "# Tính giá trị trung bình\n",
    "mean_probability = np.mean(probabilities)\n",
    "mean_weight = np.mean(weights)\n",
    "\n",
    "# Tính độ lệch chuẩn\n",
    "std_deviation = np.std(probabilities)\n",
    "# print(\"Mật độ kì vọng của đồ thị con do thuật toán obs sinh ra là:\", expected_density(Obs579138Protein02))\n",
    "print(\"Số đỉnh trong đồ thị con của thuật toán obs  là:\", Obs579138Protein02.number_of_nodes())\n",
    "print(\"Số cạnh trong đồ thị con của thuật toán obs  là:\", Obs579138Protein02.number_of_edges())\n",
    "print(\"Mật độ kì cạnh vọng của thuật toán obs  là:\",calculate_edge_density(Obs579138Protein02))\n",
    "print(\"Xác xuất cạnh trung bình của thuật toán obs là:\",average_edge_probability(Obs579138Protein02))\n",
    "print(\" trọng số cạnh trung bình của thuật toán obs là:\",mean_weight)\n",
    "print(\"Độ lệch chuẩn của thuật toán obs:\", std_deviation)\n"
   ]
  },
  {
   "cell_type": "code",
   "execution_count": 42,
   "id": "fdf1002e",
   "metadata": {},
   "outputs": [
    {
     "name": "stderr",
     "output_type": "stream",
     "text": [
      "100%|██████████████████████████████████████████████████████████████████████████████| 1668/1668 [05:05<00:00,  5.46it/s]\n"
     ]
    },
    {
     "name": "stdout",
     "output_type": "stream",
     "text": [
      "Mật độ kì vọng của đồ thị con do thuật toán obs sinh ra là: 39.866268914200546\n",
      "Số đỉnh trong đồ thị con của thuật toán obs  là: 785\n",
      "Số cạnh trong đồ thị con của thuật toán obs  là: 61776\n",
      "sum_probabilities 31295.021097647426\n",
      "num_possible_edges 615440\n",
      "Mật độ kì cạnh vọng của thuật toán obs  là: 0.05084983279872518\n",
      "Xác xuất cạnh trung bình của thuật toán obs là: 0.5065886606068283\n",
      " trọng số cạnh trung bình của thuật toán obs là: 0.5025474884626338\n",
      "Độ lệch chuẩn của thuật toán obs: 0.2882540483386092\n"
     ]
    }
   ],
   "source": [
    "beta = 0.4\n",
    "\n",
    "Obs579138Protein04 = greedy_average_surplus_degree(G,beta)\n",
    "# Lấy các giá trị xác suất từ các cạnh\n",
    "probabilities = [Obs579138Protein04[u][v]['probability'] for u, v in Obs579138Protein04.edges()]\n",
    "weights = [Obs579138Protein04[u][v]['weight'] for u, v in Obs579138Protein04.edges()]\n",
    "\n",
    "# Tính giá trị trung bình\n",
    "mean_probability = np.mean(probabilities)\n",
    "mean_weight = np.mean(weights)\n",
    "\n",
    "# Tính độ lệch chuẩn\n",
    "std_deviation = np.std(probabilities)\n",
    "print(\"Mật độ kì vọng của đồ thị con do thuật toán obs sinh ra là:\", expected_density(Obs579138Protein04))\n",
    "print(\"Số đỉnh trong đồ thị con của thuật toán obs  là:\", Obs579138Protein04.number_of_nodes())\n",
    "print(\"Số cạnh trong đồ thị con của thuật toán obs  là:\", Obs579138Protein04.number_of_edges())\n",
    "print(\"Mật độ kì cạnh vọng của thuật toán obs  là:\",calculate_edge_density(Obs579138Protein04))\n",
    "print(\"Xác xuất cạnh trung bình của thuật toán obs là:\",average_edge_probability(Obs579138Protein04))\n",
    "print(\" trọng số cạnh trung bình của thuật toán obs là:\",mean_weight)\n",
    "print(\"Độ lệch chuẩn của thuật toán obs:\", std_deviation)\n"
   ]
  },
  {
   "cell_type": "code",
   "execution_count": 37,
   "id": "4afc7602",
   "metadata": {},
   "outputs": [
    {
     "name": "stderr",
     "output_type": "stream",
     "text": [
      "Processing: 1672node [07:00,  3.97node/s]                                                                              "
     ]
    },
    {
     "name": "stdout",
     "output_type": "stream",
     "text": [
      "Mật độ kì vọng của đồ thị con do thuật toán obs sinh ra là: 33.064783783783845\n",
      "Số đỉnh trong đồ thị con của thuật toán obs  là: 74\n",
      "Số cạnh trong đồ thị con của thuật toán obs  là: 2639\n",
      "sum_probabilities 2446.7940000000044\n",
      "num_possible_edges 5402\n",
      "Mật độ kì cạnh vọng của thuật toán obs  là: 0.4529422436134773\n",
      "Xác xuất cạnh trung bình của thuật toán obs là: 0.9271671087533173\n",
      " trọng số cạnh trung bình của thuật toán obs là: 0.4984959101911617\n",
      "Độ lệch chuẩn của thuật toán obs: 0.14722592252769304\n"
     ]
    },
    {
     "name": "stderr",
     "output_type": "stream",
     "text": [
      "\n"
     ]
    }
   ],
   "source": [
    "beta = 0.6\n",
    "\n",
    "Obs579138Protein06 = greedy_average_surplus_degree(G,beta)\n",
    "# Lấy các giá trị xác suất từ các cạnh\n",
    "probabilities = [Obs579138Protein06[u][v]['probability'] for u, v in Obs579138Protein06.edges()]\n",
    "weights = [Obs579138Protein06[u][v]['weight'] for u, v in Obs579138Protein06.edges()]\n",
    "\n",
    "# Tính giá trị trung bình\n",
    "mean_probability = np.mean(probabilities)\n",
    "mean_weight = np.mean(weights)\n",
    "\n",
    "# Tính độ lệch chuẩn\n",
    "std_deviation = np.std(probabilities)\n",
    "print(\"Mật độ kì vọng của đồ thị con do thuật toán obs sinh ra là:\", expected_density(Obs579138Protein06))\n",
    "print(\"Số đỉnh trong đồ thị con của thuật toán obs  là:\", Obs579138Protein06.number_of_nodes())\n",
    "print(\"Số cạnh trong đồ thị con của thuật toán obs  là:\", Obs579138Protein06.number_of_edges())\n",
    "print(\"Mật độ kì cạnh vọng của thuật toán obs  là:\",calculate_edge_density(Obs579138Protein06))\n",
    "print(\"Xác xuất cạnh trung bình của thuật toán obs là:\",average_edge_probability(Obs579138Protein06))\n",
    "print(\" trọng số cạnh trung bình của thuật toán obs là:\",mean_weight)\n",
    "print(\"Độ lệch chuẩn của thuật toán obs:\", std_deviation)"
   ]
  },
  {
   "cell_type": "code",
   "execution_count": 44,
   "id": "940f6c7b",
   "metadata": {
    "scrolled": true
   },
   "outputs": [
    {
     "name": "stderr",
     "output_type": "stream",
     "text": [
      "100%|██████████████████████████████████████████████████████████████████████████████| 1668/1668 [02:13<00:00, 12.52it/s]"
     ]
    },
    {
     "name": "stdout",
     "output_type": "stream",
     "text": [
      "Mật độ kì vọng của đồ thị con do thuật toán obs sinh ra là: 0.9806890668278485\n",
      "Số đỉnh trong đồ thị con của thuật toán obs  là: 2\n",
      "Số cạnh trong đồ thị con của thuật toán obs  là: 2\n",
      "sum_probabilities 1.961378133655697\n",
      "num_possible_edges 2\n",
      "Mật độ kì cạnh vọng của thuật toán obs  là: 0.9806890668278485\n",
      "Xác xuất cạnh trung bình của thuật toán obs là: 0.9806890668278485\n",
      " trọng số cạnh trung bình của thuật toán obs là: 0.6524858577913011\n",
      "Độ lệch chuẩn của thuật toán obs: 0.0034935599831801833\n"
     ]
    },
    {
     "name": "stderr",
     "output_type": "stream",
     "text": [
      "\n"
     ]
    }
   ],
   "source": [
    "beta = 0.8\n",
    "\n",
    "Obs579138Protein08 = greedy_average_surplus_degree(G,beta)\n",
    "# Lấy các giá trị xác suất từ các cạnh\n",
    "probabilities = [Obs579138Protein08[u][v]['probability'] for u, v in Obs579138Protein08.edges()]\n",
    "weights = [Obs579138Protein08[u][v]['weight'] for u, v in Obs579138Protein08.edges()]\n",
    "\n",
    "# Tính giá trị trung bình\n",
    "mean_probability = np.mean(probabilities)\n",
    "mean_weight = np.mean(weights)\n",
    "\n",
    "# Tính độ lệch chuẩn\n",
    "std_deviation = np.std(probabilities)\n",
    "print(\"Mật độ kì vọng của đồ thị con do thuật toán obs sinh ra là:\", expected_density(Obs579138Protein08))\n",
    "print(\"Số đỉnh trong đồ thị con của thuật toán obs  là:\", Obs579138Protein08.number_of_nodes())\n",
    "print(\"Số cạnh trong đồ thị con của thuật toán obs  là:\", Obs579138Protein08.number_of_edges())\n",
    "print(\"Mật độ kì cạnh vọng của thuật toán obs  là:\",calculate_edge_density(Obs579138Protein08))\n",
    "print(\"Xác xuất cạnh trung bình của thuật toán obs là:\",average_edge_probability(Obs579138Protein08))\n",
    "print(\" trọng số cạnh trung bình của thuật toán obs là:\",mean_weight)\n",
    "print(\"Độ lệch chuẩn của thuật toán obs:\", std_deviation)\n"
   ]
  }
 ],
 "metadata": {
  "kernelspec": {
   "display_name": "Python 3 (ipykernel)",
   "language": "python",
   "name": "python3"
  },
  "language_info": {
   "codemirror_mode": {
    "name": "ipython",
    "version": 3
   },
   "file_extension": ".py",
   "mimetype": "text/x-python",
   "name": "python",
   "nbconvert_exporter": "python",
   "pygments_lexer": "ipython3",
   "version": "3.9.13"
  }
 },
 "nbformat": 4,
 "nbformat_minor": 5
}
